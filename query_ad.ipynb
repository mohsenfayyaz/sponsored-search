{
 "cells": [
  {
   "cell_type": "code",
   "execution_count": null,
   "metadata": {},
   "outputs": [],
   "source": [
    "# import autoreload\n",
    "# %load_ext autoreload\n",
    "# %aimport Trainer\n",
    "# %autoreload 1"
   ]
  },
  {
   "cell_type": "code",
   "execution_count": 1,
   "metadata": {
    "pycharm": {
     "is_executing": false
    }
   },
   "outputs": [],
   "source": [
    "import pandas as pd\n",
    "from importlib import reload"
   ]
  },
  {
   "cell_type": "markdown",
   "metadata": {},
   "source": [
    "## Configs"
   ]
  },
  {
   "cell_type": "code",
   "execution_count": 2,
   "metadata": {},
   "outputs": [],
   "source": [
    "BATCH_SIZE = 64"
   ]
  },
  {
   "cell_type": "markdown",
   "metadata": {},
   "source": [
    "## Preprocessing\n",
    "Negative Sampling the dataset"
   ]
  },
  {
   "cell_type": "code",
   "execution_count": 9,
   "metadata": {},
   "outputs": [
    {
     "name": "stdout",
     "output_type": "stream",
     "text": [
      "Reading input file data/SA_history_clicks_of_98.csv\n"
     ]
    },
    {
     "data": {
      "application/vnd.jupyter.widget-view+json": {
       "model_id": "7a3ca8776bf04829aca0a0f64c8ebdb6",
       "version_major": 2,
       "version_minor": 0
      },
      "text/plain": [
       "HBox(children=(FloatProgress(value=0.0, max=10948192.0), HTML(value='')))"
      ]
     },
     "metadata": {},
     "output_type": "display_data"
    },
    {
     "name": "stdout",
     "output_type": "stream",
     "text": [
      "\n",
      "File created at data/data5.pkl\n"
     ]
    },
    {
     "data": {
      "text/html": [
       "<div>\n",
       "<style scoped>\n",
       "    .dataframe tbody tr th:only-of-type {\n",
       "        vertical-align: middle;\n",
       "    }\n",
       "\n",
       "    .dataframe tbody tr th {\n",
       "        vertical-align: top;\n",
       "    }\n",
       "\n",
       "    .dataframe thead th {\n",
       "        text-align: right;\n",
       "    }\n",
       "</style>\n",
       "<table border=\"1\" class=\"dataframe\">\n",
       "  <thead>\n",
       "    <tr style=\"text-align: right;\">\n",
       "      <th></th>\n",
       "      <th>queryText</th>\n",
       "      <th>packageName</th>\n",
       "      <th>similar</th>\n",
       "    </tr>\n",
       "  </thead>\n",
       "  <tbody>\n",
       "    <tr>\n",
       "      <td>0</td>\n",
       "      <td>توشمال</td>\n",
       "      <td>com.example.masood.yocheneapp</td>\n",
       "      <td>1</td>\n",
       "    </tr>\n",
       "    <tr>\n",
       "      <td>1</td>\n",
       "      <td>rush</td>\n",
       "      <td>com.ketchapp.rush</td>\n",
       "      <td>1</td>\n",
       "    </tr>\n",
       "    <tr>\n",
       "      <td>2</td>\n",
       "      <td>شب چله</td>\n",
       "      <td>yalda.ir.kr.si.ma.usn</td>\n",
       "      <td>1</td>\n",
       "    </tr>\n",
       "    <tr>\n",
       "      <td>3</td>\n",
       "      <td>عشق</td>\n",
       "      <td>com.roman.jadogareeshgh</td>\n",
       "      <td>1</td>\n",
       "    </tr>\n",
       "    <tr>\n",
       "      <td>4</td>\n",
       "      <td>کلابی</td>\n",
       "      <td>ir.mmdali.cluby</td>\n",
       "      <td>1</td>\n",
       "    </tr>\n",
       "    <tr>\n",
       "      <td>...</td>\n",
       "      <td>...</td>\n",
       "      <td>...</td>\n",
       "      <td>...</td>\n",
       "    </tr>\n",
       "    <tr>\n",
       "      <td>65689147</td>\n",
       "      <td>کاهتهتخنتالفل 644 علیر</td>\n",
       "      <td>ir.skrsoft.racing_game</td>\n",
       "      <td>-1</td>\n",
       "    </tr>\n",
       "    <tr>\n",
       "      <td>65689148</td>\n",
       "      <td>کاهتهتخنتالفل 644 علیر</td>\n",
       "      <td>tirazissoftware.hokme.games</td>\n",
       "      <td>-1</td>\n",
       "    </tr>\n",
       "    <tr>\n",
       "      <td>65689149</td>\n",
       "      <td>کاهتهتخنتالفل 644 علیر</td>\n",
       "      <td>com.Eggbones.AttackOnBall</td>\n",
       "      <td>-1</td>\n",
       "    </tr>\n",
       "    <tr>\n",
       "      <td>65689150</td>\n",
       "      <td>کاهتهتخنتالفل 644 علیر</td>\n",
       "      <td>ir.alimoradian.diabet</td>\n",
       "      <td>-1</td>\n",
       "    </tr>\n",
       "    <tr>\n",
       "      <td>65689151</td>\n",
       "      <td>کاهتهتخنتالفل 644 علیر</td>\n",
       "      <td>com.gameone.garden.fever</td>\n",
       "      <td>-1</td>\n",
       "    </tr>\n",
       "  </tbody>\n",
       "</table>\n",
       "<p>65689152 rows × 3 columns</p>\n",
       "</div>"
      ],
      "text/plain": [
       "                       queryText                    packageName  similar\n",
       "0                         توشمال  com.example.masood.yocheneapp        1\n",
       "1                           rush              com.ketchapp.rush        1\n",
       "2                         شب چله          yalda.ir.kr.si.ma.usn        1\n",
       "3                            عشق        com.roman.jadogareeshgh        1\n",
       "4                          کلابی                ir.mmdali.cluby        1\n",
       "...                          ...                            ...      ...\n",
       "65689147  کاهتهتخنتالفل 644 علیر         ir.skrsoft.racing_game       -1\n",
       "65689148  کاهتهتخنتالفل 644 علیر    tirazissoftware.hokme.games       -1\n",
       "65689149  کاهتهتخنتالفل 644 علیر      com.Eggbones.AttackOnBall       -1\n",
       "65689150  کاهتهتخنتالفل 644 علیر          ir.alimoradian.diabet       -1\n",
       "65689151  کاهتهتخنتالفل 644 علیر       com.gameone.garden.fever       -1\n",
       "\n",
       "[65689152 rows x 3 columns]"
      ]
     },
     "execution_count": 9,
     "metadata": {},
     "output_type": "execute_result"
    }
   ],
   "source": [
    "from src.Preprocess.Preprocessor import Preprocessor\n",
    "Preprocessor.create_negative_sampled_dataset(input_address=\"data/SA_history_clicks_of_98.csv\", \n",
    "                                               output_address=\"data/data5.pkl\", \n",
    "                                               neg_to_pos_ratio=5)"
   ]
  },
  {
   "cell_type": "markdown",
   "metadata": {},
   "source": [
    "## DatasetHandler\n",
    "Preparing dataset for training"
   ]
  },
  {
   "cell_type": "code",
   "execution_count": 11,
   "metadata": {},
   "outputs": [
    {
     "name": "stdout",
     "output_type": "stream",
     "text": [
      "Loading tokenizer...\n",
      "Reading input file...\n"
     ]
    },
    {
     "data": {
      "application/vnd.jupyter.widget-view+json": {
       "model_id": "74442f3051fd4bc9a9b29815233d6e5f",
       "version_major": 2,
       "version_minor": 0
      },
      "text/plain": [
       "HBox(children=(FloatProgress(value=0.0, description='Labeling Packages', max=93592.0, style=ProgressStyle(desc…"
      ]
     },
     "metadata": {},
     "output_type": "display_data"
    },
    {
     "name": "stdout",
     "output_type": "stream",
     "text": [
      "\n",
      "Creating dataset...\n"
     ]
    },
    {
     "data": {
      "application/vnd.jupyter.widget-view+json": {
       "model_id": "2c7954de354c40568442b2c9ccabd20a",
       "version_major": 2,
       "version_minor": 0
      },
      "text/plain": [
       "HBox(children=(FloatProgress(value=0.0, max=16423.0), HTML(value='')))"
      ]
     },
     "metadata": {},
     "output_type": "display_data"
    },
    {
     "name": "stdout",
     "output_type": "stream",
     "text": [
      "\n"
     ]
    },
    {
     "data": {
      "application/vnd.jupyter.widget-view+json": {
       "model_id": "f1fdd395362447ec8b6e7fea6019bf83",
       "version_major": 2,
       "version_minor": 0
      },
      "text/plain": [
       "HBox(children=(FloatProgress(value=0.0, max=4106.0), HTML(value='')))"
      ]
     },
     "metadata": {},
     "output_type": "display_data"
    },
    {
     "name": "stdout",
     "output_type": "stream",
     "text": [
      "\n"
     ]
    },
    {
     "data": {
      "application/vnd.jupyter.widget-view+json": {
       "model_id": "4731f41a3b6443efa3eede7048d02bb8",
       "version_major": 2,
       "version_minor": 0
      },
      "text/plain": [
       "HBox(children=(FloatProgress(value=0.0, max=525513.0), HTML(value='')))"
      ]
     },
     "metadata": {},
     "output_type": "display_data"
    },
    {
     "name": "stdout",
     "output_type": "stream",
     "text": [
      "\n"
     ]
    },
    {
     "data": {
      "application/vnd.jupyter.widget-view+json": {
       "model_id": "53523c237e30471295796cf2aa6896f3",
       "version_major": 2,
       "version_minor": 0
      },
      "text/plain": [
       "HBox(children=(FloatProgress(value=0.0, max=131379.0), HTML(value='')))"
      ]
     },
     "metadata": {},
     "output_type": "display_data"
    },
    {
     "name": "stdout",
     "output_type": "stream",
     "text": [
      "\n",
      "Done\n"
     ]
    }
   ],
   "source": [
    "from src.Trainer.DatasetHandler import DatasetHandler\n",
    "\n",
    "# dataset_handler = DatasetHandler(\"data/SA_history_clicks_of_98.csv\")\n",
    "dataset_handler = DatasetHandler(\"data/data5.pkl\", frac=0.01)\n",
    "# dataset_handler = DatasetHandler(\"data/data1.pkl\")"
   ]
  },
  {
   "cell_type": "code",
   "execution_count": 31,
   "metadata": {},
   "outputs": [
    {
     "name": "stdout",
     "output_type": "stream",
     "text": [
      "DatasetDict({\n",
      "    train: Dataset({\n",
      "        features: ['__index_level_0__', 'attention_mask', 'input_ids', 'packageName', 'package_ids', 'queryText', 'similar', 'token_type_ids'],\n",
      "        num_rows: 525513\n",
      "    })\n",
      "    test: Dataset({\n",
      "        features: ['__index_level_0__', 'attention_mask', 'input_ids', 'packageName', 'package_ids', 'queryText', 'similar', 'token_type_ids'],\n",
      "        num_rows: 131379\n",
      "    })\n",
      "})\n"
     ]
    },
    {
     "data": {
      "text/html": [
       "<div>\n",
       "<style scoped>\n",
       "    .dataframe tbody tr th:only-of-type {\n",
       "        vertical-align: middle;\n",
       "    }\n",
       "\n",
       "    .dataframe tbody tr th {\n",
       "        vertical-align: top;\n",
       "    }\n",
       "\n",
       "    .dataframe thead th {\n",
       "        text-align: right;\n",
       "    }\n",
       "</style>\n",
       "<table border=\"1\" class=\"dataframe\">\n",
       "  <thead>\n",
       "    <tr style=\"text-align: right;\">\n",
       "      <th></th>\n",
       "      <th>__index_level_0__</th>\n",
       "      <th>attention_mask</th>\n",
       "      <th>input_ids</th>\n",
       "      <th>packageName</th>\n",
       "      <th>package_ids</th>\n",
       "      <th>queryText</th>\n",
       "      <th>similar</th>\n",
       "      <th>token_type_ids</th>\n",
       "    </tr>\n",
       "  </thead>\n",
       "  <tbody>\n",
       "    <tr>\n",
       "      <td>0</td>\n",
       "      <td>38335</td>\n",
       "      <td>[1, 1, 1, 1, 1, 0, 0, 0]</td>\n",
       "      <td>[2, 4873, 5498, 3266, 4, 0, 0, 0]</td>\n",
       "      <td>appinventor.ai_test.Onion2</td>\n",
       "      <td>[25865]</td>\n",
       "      <td>صدای زنگ گوشی</td>\n",
       "      <td>-1</td>\n",
       "      <td>[0, 0, 0, 0, 0, 0, 0, 0]</td>\n",
       "    </tr>\n",
       "    <tr>\n",
       "      <td>1</td>\n",
       "      <td>345302</td>\n",
       "      <td>[1, 1, 1, 1, 0, 0, 0, 0]</td>\n",
       "      <td>[2, 4867, 9544, 4, 0, 0, 0, 0]</td>\n",
       "      <td>com.siminappsras.alaaldin</td>\n",
       "      <td>[7845]</td>\n",
       "      <td>صلاح الدین</td>\n",
       "      <td>1</td>\n",
       "      <td>[0, 0, 0, 0, 0, 0, 0, 0]</td>\n",
       "    </tr>\n",
       "    <tr>\n",
       "      <td>2</td>\n",
       "      <td>174338</td>\n",
       "      <td>[1, 1, 1, 0, 0, 0, 0, 0]</td>\n",
       "      <td>[2, 11271, 4, 0, 0, 0, 0, 0]</td>\n",
       "      <td>app.biiii.me</td>\n",
       "      <td>[58854]</td>\n",
       "      <td>منج</td>\n",
       "      <td>-1</td>\n",
       "      <td>[0, 0, 0, 0, 0, 0, 0, 0]</td>\n",
       "    </tr>\n",
       "    <tr>\n",
       "      <td>3</td>\n",
       "      <td>166717</td>\n",
       "      <td>[1, 1, 1, 1, 0, 0, 0, 0]</td>\n",
       "      <td>[2, 36964, 1157, 4, 0, 0, 0, 0]</td>\n",
       "      <td>ziarat.adye</td>\n",
       "      <td>[77220]</td>\n",
       "      <td>ساقیا</td>\n",
       "      <td>-1</td>\n",
       "      <td>[0, 0, 0, 0, 0, 0, 0, 0]</td>\n",
       "    </tr>\n",
       "    <tr>\n",
       "      <td>4</td>\n",
       "      <td>325994</td>\n",
       "      <td>[1, 1, 1, 1, 0, 0, 0, 0]</td>\n",
       "      <td>[2, 25598, 1, 4, 0, 0, 0, 0]</td>\n",
       "      <td>a.lire.zaaghajani</td>\n",
       "      <td>[13073]</td>\n",
       "      <td>cs 5</td>\n",
       "      <td>-1</td>\n",
       "      <td>[0, 0, 0, 0, 0, 0, 0, 0]</td>\n",
       "    </tr>\n",
       "    <tr>\n",
       "      <td>...</td>\n",
       "      <td>...</td>\n",
       "      <td>...</td>\n",
       "      <td>...</td>\n",
       "      <td>...</td>\n",
       "      <td>...</td>\n",
       "      <td>...</td>\n",
       "      <td>...</td>\n",
       "      <td>...</td>\n",
       "    </tr>\n",
       "    <tr>\n",
       "      <td>995</td>\n",
       "      <td>290219</td>\n",
       "      <td>[1, 1, 1, 1, 0, 0, 0, 0, 0, 0, 0, 0, 0, 0, 0, ...</td>\n",
       "      <td>[2, 62785, 7892, 4, 0, 0, 0, 0, 0, 0, 0, 0, 0,...</td>\n",
       "      <td>aluche.sakhtekeshvar</td>\n",
       "      <td>[39446]</td>\n",
       "      <td>made in</td>\n",
       "      <td>1</td>\n",
       "      <td>[0, 0, 0, 0, 0, 0, 0, 0, 0, 0, 0, 0, 0, 0, 0, ...</td>\n",
       "    </tr>\n",
       "    <tr>\n",
       "      <td>996</td>\n",
       "      <td>397872</td>\n",
       "      <td>[1, 1, 1, 1, 1, 1, 0, 0, 0, 0, 0, 0, 0, 0, 0, ...</td>\n",
       "      <td>[2, 3177, 3568, 23624, 2027, 4, 0, 0, 0, 0, 0,...</td>\n",
       "      <td>com.pubcolor.paint</td>\n",
       "      <td>[29688]</td>\n",
       "      <td>اخرین نسخه وامیار</td>\n",
       "      <td>-1</td>\n",
       "      <td>[0, 0, 0, 0, 0, 0, 0, 0, 0, 0, 0, 0, 0, 0, 0, ...</td>\n",
       "    </tr>\n",
       "    <tr>\n",
       "      <td>997</td>\n",
       "      <td>619950</td>\n",
       "      <td>[1, 1, 1, 1, 1, 0, 0, 0, 0, 0, 0, 0, 0, 0, 0, ...</td>\n",
       "      <td>[2, 3663, 4855, 12798, 4, 0, 0, 0, 0, 0, 0, 0,...</td>\n",
       "      <td>ir.asystem.amoozeshtarkiberangemooherfeefree</td>\n",
       "      <td>[8302]</td>\n",
       "      <td>مدل لباس مجلسی</td>\n",
       "      <td>-1</td>\n",
       "      <td>[0, 0, 0, 0, 0, 0, 0, 0, 0, 0, 0, 0, 0, 0, 0, ...</td>\n",
       "    </tr>\n",
       "    <tr>\n",
       "      <td>998</td>\n",
       "      <td>307236</td>\n",
       "      <td>[1, 1, 1, 1, 1, 1, 0, 0, 0, 0, 0, 0, 0, 0, 0, ...</td>\n",
       "      <td>[2, 3852, 3827, 3899, 3330, 4, 0, 0, 0, 0, 0, ...</td>\n",
       "      <td>ir.zinabeyon.komil</td>\n",
       "      <td>[73986]</td>\n",
       "      <td>رنگ انواع رژ لب</td>\n",
       "      <td>-1</td>\n",
       "      <td>[0, 0, 0, 0, 0, 0, 0, 0, 0, 0, 0, 0, 0, 0, 0, ...</td>\n",
       "    </tr>\n",
       "    <tr>\n",
       "      <td>999</td>\n",
       "      <td>144268</td>\n",
       "      <td>[1, 1, 1, 1, 0, 0, 0, 0, 0, 0, 0, 0, 0, 0, 0, ...</td>\n",
       "      <td>[2, 14771, 14192, 4, 0, 0, 0, 0, 0, 0, 0, 0, 0...</td>\n",
       "      <td>ba.sumer.ir</td>\n",
       "      <td>[25029]</td>\n",
       "      <td>خونه رویایی</td>\n",
       "      <td>-1</td>\n",
       "      <td>[0, 0, 0, 0, 0, 0, 0, 0, 0, 0, 0, 0, 0, 0, 0, ...</td>\n",
       "    </tr>\n",
       "  </tbody>\n",
       "</table>\n",
       "<p>1000 rows × 8 columns</p>\n",
       "</div>"
      ],
      "text/plain": [
       "     __index_level_0__                                     attention_mask  \\\n",
       "0                38335                           [1, 1, 1, 1, 1, 0, 0, 0]   \n",
       "1               345302                           [1, 1, 1, 1, 0, 0, 0, 0]   \n",
       "2               174338                           [1, 1, 1, 0, 0, 0, 0, 0]   \n",
       "3               166717                           [1, 1, 1, 1, 0, 0, 0, 0]   \n",
       "4               325994                           [1, 1, 1, 1, 0, 0, 0, 0]   \n",
       "..                 ...                                                ...   \n",
       "995             290219  [1, 1, 1, 1, 0, 0, 0, 0, 0, 0, 0, 0, 0, 0, 0, ...   \n",
       "996             397872  [1, 1, 1, 1, 1, 1, 0, 0, 0, 0, 0, 0, 0, 0, 0, ...   \n",
       "997             619950  [1, 1, 1, 1, 1, 0, 0, 0, 0, 0, 0, 0, 0, 0, 0, ...   \n",
       "998             307236  [1, 1, 1, 1, 1, 1, 0, 0, 0, 0, 0, 0, 0, 0, 0, ...   \n",
       "999             144268  [1, 1, 1, 1, 0, 0, 0, 0, 0, 0, 0, 0, 0, 0, 0, ...   \n",
       "\n",
       "                                             input_ids  \\\n",
       "0                    [2, 4873, 5498, 3266, 4, 0, 0, 0]   \n",
       "1                       [2, 4867, 9544, 4, 0, 0, 0, 0]   \n",
       "2                         [2, 11271, 4, 0, 0, 0, 0, 0]   \n",
       "3                      [2, 36964, 1157, 4, 0, 0, 0, 0]   \n",
       "4                         [2, 25598, 1, 4, 0, 0, 0, 0]   \n",
       "..                                                 ...   \n",
       "995  [2, 62785, 7892, 4, 0, 0, 0, 0, 0, 0, 0, 0, 0,...   \n",
       "996  [2, 3177, 3568, 23624, 2027, 4, 0, 0, 0, 0, 0,...   \n",
       "997  [2, 3663, 4855, 12798, 4, 0, 0, 0, 0, 0, 0, 0,...   \n",
       "998  [2, 3852, 3827, 3899, 3330, 4, 0, 0, 0, 0, 0, ...   \n",
       "999  [2, 14771, 14192, 4, 0, 0, 0, 0, 0, 0, 0, 0, 0...   \n",
       "\n",
       "                                      packageName package_ids  \\\n",
       "0                      appinventor.ai_test.Onion2     [25865]   \n",
       "1                       com.siminappsras.alaaldin      [7845]   \n",
       "2                                    app.biiii.me     [58854]   \n",
       "3                                     ziarat.adye     [77220]   \n",
       "4                               a.lire.zaaghajani     [13073]   \n",
       "..                                            ...         ...   \n",
       "995                          aluche.sakhtekeshvar     [39446]   \n",
       "996                            com.pubcolor.paint     [29688]   \n",
       "997  ir.asystem.amoozeshtarkiberangemooherfeefree      [8302]   \n",
       "998                            ir.zinabeyon.komil     [73986]   \n",
       "999                                   ba.sumer.ir     [25029]   \n",
       "\n",
       "             queryText  similar  \\\n",
       "0        صدای زنگ گوشی       -1   \n",
       "1           صلاح الدین        1   \n",
       "2                  منج       -1   \n",
       "3                ساقیا       -1   \n",
       "4                 cs 5       -1   \n",
       "..                 ...      ...   \n",
       "995            made in        1   \n",
       "996  اخرین نسخه وامیار       -1   \n",
       "997     مدل لباس مجلسی       -1   \n",
       "998    رنگ انواع رژ لب       -1   \n",
       "999        خونه رویایی       -1   \n",
       "\n",
       "                                        token_type_ids  \n",
       "0                             [0, 0, 0, 0, 0, 0, 0, 0]  \n",
       "1                             [0, 0, 0, 0, 0, 0, 0, 0]  \n",
       "2                             [0, 0, 0, 0, 0, 0, 0, 0]  \n",
       "3                             [0, 0, 0, 0, 0, 0, 0, 0]  \n",
       "4                             [0, 0, 0, 0, 0, 0, 0, 0]  \n",
       "..                                                 ...  \n",
       "995  [0, 0, 0, 0, 0, 0, 0, 0, 0, 0, 0, 0, 0, 0, 0, ...  \n",
       "996  [0, 0, 0, 0, 0, 0, 0, 0, 0, 0, 0, 0, 0, 0, 0, ...  \n",
       "997  [0, 0, 0, 0, 0, 0, 0, 0, 0, 0, 0, 0, 0, 0, 0, ...  \n",
       "998  [0, 0, 0, 0, 0, 0, 0, 0, 0, 0, 0, 0, 0, 0, 0, ...  \n",
       "999  [0, 0, 0, 0, 0, 0, 0, 0, 0, 0, 0, 0, 0, 0, 0, ...  \n",
       "\n",
       "[1000 rows x 8 columns]"
      ]
     },
     "execution_count": 31,
     "metadata": {},
     "output_type": "execute_result"
    }
   ],
   "source": [
    "import pandas as pd\n",
    "# dataset_handler.df.loc[dataset_handler.df[\"similar\"] == 0]\n",
    "print(dataset_handler.get_dataset())\n",
    "dataset_handler.df\n",
    "pd.DataFrame(dataset_handler.get_dataset()[\"train\"][:1000])"
   ]
  },
  {
   "cell_type": "markdown",
   "metadata": {},
   "source": [
    "## Training"
   ]
  },
  {
   "cell_type": "code",
   "execution_count": 27,
   "metadata": {
    "scrolled": true
   },
   "outputs": [
    {
     "name": "stdout",
     "output_type": "stream",
     "text": [
      "Train on 525513 samples, test on 131379 samples\n",
      "B\n",
      "----------------\n",
      "\n"
     ]
    },
    {
     "data": {
      "application/vnd.jupyter.widget-view+json": {
       "model_id": "0641af9bea4d45fcaabb7b6889915f7d",
       "version_major": 2,
       "version_minor": 0
      },
      "text/plain": [
       "HBox(children=(FloatProgress(value=0.0, description='[Epoch 1/5]', max=16423.0, style=ProgressStyle(descriptio…"
      ]
     },
     "metadata": {},
     "output_type": "display_data"
    },
    {
     "name": "stdout",
     "output_type": "stream",
     "text": [
      "\n"
     ]
    },
    {
     "data": {
      "application/vnd.jupyter.widget-view+json": {
       "model_id": "9b5bf27882ad4a749c38df396efd4260",
       "version_major": 2,
       "version_minor": 0
      },
      "text/plain": [
       "HBox(children=(FloatProgress(value=0.0, description='Test Loss', max=4106.0, style=ProgressStyle(description_w…"
      ]
     },
     "metadata": {},
     "output_type": "display_data"
    },
    {
     "name": "stdout",
     "output_type": "stream",
     "text": [
      "\n"
     ]
    },
    {
     "data": {
      "image/png": "[encoded data removed]",
      "text/plain": [
       "<Figure size 432x288 with 1 Axes>"
      ]
     },
     "metadata": {
      "needs_background": "light"
     },
     "output_type": "display_data"
    },
    {
     "name": "stdout",
     "output_type": "stream",
     "text": [
      "----------------\n",
      "\n"
     ]
    },
    {
     "data": {
      "application/vnd.jupyter.widget-view+json": {
       "model_id": "7896bb7621324b73a7a0cfb7cc2170d6",
       "version_major": 2,
       "version_minor": 0
      },
      "text/plain": [
       "HBox(children=(FloatProgress(value=0.0, description='[Epoch 2/5]', max=16423.0, style=ProgressStyle(descriptio…"
      ]
     },
     "metadata": {},
     "output_type": "display_data"
    },
    {
     "name": "stdout",
     "output_type": "stream",
     "text": [
      "\n"
     ]
    },
    {
     "data": {
      "application/vnd.jupyter.widget-view+json": {
       "model_id": "29f9c7a16978487da849bf10ba4c4b7b",
       "version_major": 2,
       "version_minor": 0
      },
      "text/plain": [
       "HBox(children=(FloatProgress(value=0.0, description='Test Loss', max=4106.0, style=ProgressStyle(description_w…"
      ]
     },
     "metadata": {},
     "output_type": "display_data"
    },
    {
     "name": "stdout",
     "output_type": "stream",
     "text": [
      "\n"
     ]
    },
    {
     "data": {
      "image/png": "[encoded data removed]",
      "text/plain": [
       "<Figure size 432x288 with 1 Axes>"
      ]
     },
     "metadata": {
      "needs_background": "light"
     },
     "output_type": "display_data"
    },
    {
     "name": "stdout",
     "output_type": "stream",
     "text": [
      "----------------\n",
      "\n"
     ]
    },
    {
     "data": {
      "application/vnd.jupyter.widget-view+json": {
       "model_id": "f18049e4b4e14c399348ce1231abdc20",
       "version_major": 2,
       "version_minor": 0
      },
      "text/plain": [
       "HBox(children=(FloatProgress(value=0.0, description='[Epoch 3/5]', max=16423.0, style=ProgressStyle(descriptio…"
      ]
     },
     "metadata": {},
     "output_type": "display_data"
    },
    {
     "name": "stdout",
     "output_type": "stream",
     "text": [
      "\n"
     ]
    },
    {
     "data": {
      "application/vnd.jupyter.widget-view+json": {
       "model_id": "390f963d64b64aa5990f432b707fc50f",
       "version_major": 2,
       "version_minor": 0
      },
      "text/plain": [
       "HBox(children=(FloatProgress(value=0.0, description='Test Loss', max=4106.0, style=ProgressStyle(description_w…"
      ]
     },
     "metadata": {},
     "output_type": "display_data"
    },
    {
     "name": "stdout",
     "output_type": "stream",
     "text": [
      "\n"
     ]
    },
    {
     "data": {
      "image/png": "[encoded data removed]",
      "text/plain": [
       "<Figure size 432x288 with 1 Axes>"
      ]
     },
     "metadata": {
      "needs_background": "light"
     },
     "output_type": "display_data"
    },
    {
     "name": "stdout",
     "output_type": "stream",
     "text": [
      "----------------\n",
      "\n"
     ]
    },
    {
     "data": {
      "application/vnd.jupyter.widget-view+json": {
       "model_id": "08b7ffae1f384789bc02d11818e2348e",
       "version_major": 2,
       "version_minor": 0
      },
      "text/plain": [
       "HBox(children=(FloatProgress(value=0.0, description='[Epoch 4/5]', max=16423.0, style=ProgressStyle(descriptio…"
      ]
     },
     "metadata": {},
     "output_type": "display_data"
    },
    {
     "name": "stdout",
     "output_type": "stream",
     "text": [
      "\n"
     ]
    },
    {
     "data": {
      "application/vnd.jupyter.widget-view+json": {
       "model_id": "d8140dd481df4115bfef7cea433f6aa0",
       "version_major": 2,
       "version_minor": 0
      },
      "text/plain": [
       "HBox(children=(FloatProgress(value=0.0, description='Test Loss', max=4106.0, style=ProgressStyle(description_w…"
      ]
     },
     "metadata": {},
     "output_type": "display_data"
    },
    {
     "name": "stdout",
     "output_type": "stream",
     "text": [
      "\n"
     ]
    },
    {
     "data": {
      "image/png": "[encoded data removed]",
      "text/plain": [
       "<Figure size 432x288 with 1 Axes>"
      ]
     },
     "metadata": {
      "needs_background": "light"
     },
     "output_type": "display_data"
    },
    {
     "name": "stdout",
     "output_type": "stream",
     "text": [
      "----------------\n",
      "\n"
     ]
    },
    {
     "data": {
      "application/vnd.jupyter.widget-view+json": {
       "model_id": "26041af94f0c46159c91de7c77c33719",
       "version_major": 2,
       "version_minor": 0
      },
      "text/plain": [
       "HBox(children=(FloatProgress(value=0.0, description='[Epoch 5/5]', max=16423.0, style=ProgressStyle(descriptio…"
      ]
     },
     "metadata": {},
     "output_type": "display_data"
    },
    {
     "name": "stdout",
     "output_type": "stream",
     "text": [
      "\n"
     ]
    },
    {
     "data": {
      "application/vnd.jupyter.widget-view+json": {
       "model_id": "35699278ffbd4f989a5566cec5297ae8",
       "version_major": 2,
       "version_minor": 0
      },
      "text/plain": [
       "HBox(children=(FloatProgress(value=0.0, description='Test Loss', max=4106.0, style=ProgressStyle(description_w…"
      ]
     },
     "metadata": {},
     "output_type": "display_data"
    },
    {
     "name": "stdout",
     "output_type": "stream",
     "text": [
      "\n"
     ]
    },
    {
     "data": {
      "image/png": "[encoded data removed]",
      "text/plain": [
       "<Figure size 432x288 with 1 Axes>"
      ]
     },
     "metadata": {
      "needs_background": "light"
     },
     "output_type": "display_data"
    }
   ],
   "source": [
    "import src.Trainer.RepresentationBuilder\n",
    "reload(src.Trainer.RepresentationBuilder)\n",
    "import src.Trainer.QueryAdCoordinator\n",
    "reload(src.Trainer.QueryAdCoordinator)\n",
    "import src.Trainer.Trainer\n",
    "reload(src.Trainer.Trainer)\n",
    "\n",
    "trainer = src.Trainer.Trainer.Trainer(embedding_dim=50, dataset_handler=dataset_handler)\n",
    "trainer.train(epochs=5)"
   ]
  },
  {
   "cell_type": "code",
   "execution_count": 28,
   "metadata": {
    "pycharm": {
     "is_executing": false,
     "name": "#%%\n"
    }
   },
   "outputs": [
    {
     "data": {
      "text/plain": [
       "QueryAdCoordinator(\n",
       "  (query_representation_builder): RepresentationBuilder(\n",
       "    (embedding): Embedding(100000, 50)\n",
       "    (pooling_module): SpanPoolingAvg()\n",
       "  )\n",
       "  (ad_representation_builder): RepresentationBuilder(\n",
       "    (embedding): Embedding(93592, 50)\n",
       "    (pooling_module): SpanPoolingAvg()\n",
       "  )\n",
       "  (loss): CosineEmbeddingLoss()\n",
       ")"
      ]
     },
     "execution_count": 28,
     "metadata": {},
     "output_type": "execute_result"
    }
   ],
   "source": [
    "trainer.query_ad_coordinator"
   ]
  },
  {
   "cell_type": "code",
   "execution_count": 29,
   "metadata": {
    "pycharm": {
     "is_executing": false,
     "name": "#%%\n"
    }
   },
   "outputs": [
    {
     "name": "stdout",
     "output_type": "stream",
     "text": [
      "Model saved at representations/QueryAdCoordinator_checkpoint.pt\n"
     ]
    }
   ],
   "source": [
    "trainer.save_model(save_address=\"representations/QueryAdCoordinator_checkpoint.pt\")"
   ]
  },
  {
   "cell_type": "code",
   "execution_count": 30,
   "metadata": {},
   "outputs": [
    {
     "data": {
      "application/vnd.jupyter.widget-view+json": {
       "model_id": "88e037107488446f9ad9384b2e637a04",
       "version_major": 2,
       "version_minor": 0
      },
      "text/plain": [
       "HBox(children=(FloatProgress(value=0.0, max=93592.0), HTML(value='')))"
      ]
     },
     "metadata": {},
     "output_type": "display_data"
    },
    {
     "name": "stdout",
     "output_type": "stream",
     "text": [
      "\n",
      "torch.Size([93592, 50])\n",
      "Saved ad representations at representations/ad_reprs.pt\n"
     ]
    }
   ],
   "source": [
    "trainer.save_all_ad_representations(ad_reprs_address=\"representations/ad_reprs.pt\", \n",
    "                                    id_to_package_address=\"representations/id_to_package.pkl\")"
   ]
  },
  {
   "cell_type": "markdown",
   "metadata": {
    "pycharm": {
     "is_executing": false,
     "name": "#%%\n"
    }
   },
   "source": [
    "## Prediction"
   ]
  },
  {
   "cell_type": "code",
   "execution_count": 49,
   "metadata": {
    "pycharm": {
     "is_executing": true,
     "name": "#%%\n"
    }
   },
   "outputs": [
    {
     "name": "stdout",
     "output_type": "stream",
     "text": [
      "Loading tokenizer...\n",
      "Loading ad representations...\n",
      "Loading ad id to package...\n",
      "Loading QueryAdCoordinator...\n"
     ]
    }
   ],
   "source": [
    "import src.Predictor.Predictor\n",
    "reload(src.Predictor.Predictor)\n",
    "\n",
    "predictor = src.Predictor.Predictor.Predictor(ad_reprs_address=\"representations/ad_reprs.pt\",\n",
    "                                id_to_package_address=\"representations/id_to_package.pkl\",\n",
    "                                query_ad_coordinator_checkpoint=\"representations/QueryAdCoordinator_checkpoint.pt\")"
   ]
  },
  {
   "cell_type": "code",
   "execution_count": 53,
   "metadata": {
    "pycharm": {
     "is_executing": true,
     "name": "#%%\n"
    }
   },
   "outputs": [
    {
     "name": "stdout",
     "output_type": "stream",
     "text": [
      "torch.Size([1, 50])\n",
      "tensor([[ -3.2548, -31.4552, -15.9780,  17.1880,  -3.6761,  -0.7928,  20.4848,\n",
      "         -22.8895,  20.7606,   0.0830,  -5.9919, -30.4587, -23.3399, -16.1066,\n",
      "         -24.9658,  -6.7280,  -9.9367, -10.5655,   8.1622, -15.3885,  31.8919,\n",
      "         -18.1131, -31.3300,  32.5359,   4.4334,  24.7187,   1.9893, -13.0597,\n",
      "          30.6513, -14.9806,  23.6641,   3.1011,  19.9212,  16.3363, -17.1712,\n",
      "          29.9512,  20.3634,  16.4735,   8.3160, -17.8717, -20.5131,   2.6877,\n",
      "         -17.3447,  27.0284, -18.1738, -10.5283,  16.0180, -15.7995,  30.3420,\n",
      "         -31.3593]], grad_fn=<DivBackward0>)\n",
      "kNN dist: tensor([0.8972, 0.8958, 0.8930, 0.8919, 0.8914, 0.8913, 0.8910, 0.8906, 0.8903,\n",
      "        0.8896], grad_fn=<TopkBackward>), index: tensor([38801, 15192, 88587, 47539, 42487, 41470, 32058, 90581,  8894, 81296])\n",
      "Guns of Boom\n",
      "dist: 0.90 com.cherrypickgames.olimpiagames2016\n",
      "dist: 0.90 com.GlimGames.heytaxi\n",
      "dist: 0.89 com.scoompa.facechanger2\n",
      "dist: 0.89 com.MagicalWorld.ProParking2\n",
      "dist: 0.89 com.ansangha.drdriving\n",
      "dist: 0.89 com.sofeh.android.musicstudio2\n",
      "dist: 0.89 com.imangi.templerun2\n",
      "dist: 0.89 com.firsttouchgames.story\n",
      "dist: 0.89 com.djinnworks.StickmanSoccer\n",
      "dist: 0.89 com.sega.sonicdash\n"
     ]
    }
   ],
   "source": [
    "predictor.predict_from_query(\"Guns of Boom\")"
   ]
  },
  {
   "cell_type": "code",
   "execution_count": null,
   "metadata": {
    "pycharm": {
     "name": "#%%\n"
    }
   },
   "outputs": [],
   "source": [
    "predictor.ad_id_to_package"
   ]
  },
  {
   "cell_type": "code",
   "execution_count": null,
   "metadata": {
    "pycharm": {
     "name": "#%%\n"
    }
   },
   "outputs": [],
   "source": [
    "stats = pd.DataFrame(dataset_handler.df[\"packageName\"], columns=['packageName'])[\"packageName\"].value_counts()\n",
    "# print(stats.to_string())\n",
    "# print(list(stats.index))\n",
    "print(\"|Labels| =\", len(stats))\n",
    "# stats.plot(kind='barh', color=\"green\", figsize=(10, 9));"
   ]
  },
  {
   "cell_type": "code",
   "execution_count": 45,
   "metadata": {},
   "outputs": [
    {
     "data": {
      "image/png": "[encoded data removed]",
      "text/plain": [
       "<Figure size 720x648 with 1 Axes>"
      ]
     },
     "metadata": {
      "needs_background": "light"
     },
     "output_type": "display_data"
    }
   ],
   "source": [
    "stats[:50].plot(kind='barh', color=\"green\", figsize=(10, 9));"
   ]
  },
  {
   "cell_type": "code",
   "execution_count": 43,
   "metadata": {},
   "outputs": [
    {
     "data": {
      "text/plain": [
       "com.ALM.PolicePatrol2                  481\n",
       "net.iranet.isc.sotp                    471\n",
       "com.lenovo.anyshare.gps                467\n",
       "com.ea.gp.fifamobile                   337\n",
       "net.telewebion                         309\n",
       "com.paziresh24.paziresh24              283\n",
       "io.voodoo.crowdcity                    265\n",
       "ir.aftabeshafa.shafadoc                263\n",
       "ir.boldteam.dehat                      258\n",
       "com.aim.racing                         254\n",
       "com.instagram.android                  249\n",
       "com.agah.asatrader                     243\n",
       "com.generamobile.runforrestrun         237\n",
       "com.rahpoo.papi                        237\n",
       "com.whatsapp                           227\n",
       "ir.nomogame.ClutchGame                 226\n",
       "app.pubg.android                       221\n",
       "com.imo.android.imoim                  216\n",
       "co.palang.QuizOfKings                  212\n",
       "com.mxtech.videoplayer.ad              210\n",
       "com.ordibeheshtstudio.wordstour        207\n",
       "com.lego.bricksmore                    207\n",
       "com.gamebasics.osm                     206\n",
       "app.gta.android                        206\n",
       "com.ea.game.pvzfree_row                192\n",
       "nuesoft.mobileToken                    191\n",
       "com.gss.eagle                          190\n",
       "com.supercell.clashofclans             185\n",
       "com.commsource.beautyplus              184\n",
       "com.classicgroup.WifiPassword          183\n",
       "com.ALM.PolicePatrol                   183\n",
       "com.firsttouchgames.story              183\n",
       "com.intsig.camscanner                  183\n",
       "com.rarlab.rar                         182\n",
       "com.domobile.applock                   180\n",
       "com.sibche.aspardproject.app           180\n",
       "co.health.covid                        179\n",
       "ir.sso.mobile                          177\n",
       "mobi.MultiCraft                        172\n",
       "com.microsoft.office.powerpoint        171\n",
       "com.nexstreaming.app.kinemasterfree    171\n",
       "me.pou.app                             166\n",
       "ir.mynal.papillon.papillonchef         165\n",
       "com.microsoft.office.excel             163\n",
       "ir.microks.dubsman1                    161\n",
       "com.adobe.reader                       159\n",
       "air.com.viraparsian.mishakoosha        159\n",
       "com.supercell.clashroyale              158\n",
       "com.Ahmad.Ben10Fighter                 155\n",
       "ir.ghaher313.number                    151\n",
       "Name: packageName, dtype: int64"
      ]
     },
     "execution_count": 43,
     "metadata": {},
     "output_type": "execute_result"
    }
   ],
   "source": [
    "stats[:50]"
   ]
  },
  {
   "cell_type": "code",
   "execution_count": null,
   "metadata": {},
   "outputs": [],
   "source": []
  }
 ],
 "metadata": {
  "kernelspec": {
   "display_name": "Python 3",
   "language": "python",
   "name": "python3"
  },
  "language_info": {
   "codemirror_mode": {
    "name": "ipython",
    "version": 3
   },
   "file_extension": ".py",
   "mimetype": "text/x-python",
   "name": "python",
   "nbconvert_exporter": "python",
   "pygments_lexer": "ipython3",
   "version": "3.7.3"
  },
  "pycharm": {
   "stem_cell": {
    "cell_type": "raw",
    "metadata": {
     "collapsed": false
    },
    "source": []
   }
  }
 },
 "nbformat": 4,
 "nbformat_minor": 1
}
