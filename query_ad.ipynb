{
 "cells": [
  {
   "cell_type": "code",
   "execution_count": null,
   "metadata": {},
   "outputs": [],
   "source": [
    "# import autoreload\n",
    "# %load_ext autoreload\n",
    "# %aimport Trainer\n",
    "# %autoreload 1"
   ]
  },
  {
   "cell_type": "code",
   "execution_count": 3,
   "metadata": {
    "pycharm": {
     "is_executing": false
    }
   },
   "outputs": [],
   "source": [
    "import pandas as pd\n",
    "from importlib import reload"
   ]
  },
  {
   "cell_type": "markdown",
   "metadata": {},
   "source": [
    "## Configs"
   ]
  },
  {
   "cell_type": "code",
   "execution_count": 4,
   "metadata": {},
   "outputs": [],
   "source": [
    "BATCH_SIZE = 32"
   ]
  },
  {
   "cell_type": "markdown",
   "metadata": {},
   "source": [
    "## Preprocessing\n",
    "Negative Sampling the dataset"
   ]
  },
  {
   "cell_type": "code",
   "execution_count": 5,
   "metadata": {},
   "outputs": [],
   "source": [
    "# from src.Preprocess.Preprocessor import Preprocessor\n",
    "# Preprocessor.create_negative_sampled_dataset(input_address=\"../data/SA_history_clicks_of_98.csv\", \n",
    "#                                                output_address=\"../data/data1.pkl\", \n",
    "#                                                neg_to_pos_ratio=1)"
   ]
  },
  {
   "cell_type": "markdown",
   "metadata": {},
   "source": [
    "## DatasetHandler\n",
    "Preparing dataset for training"
   ]
  },
  {
   "cell_type": "code",
   "execution_count": 8,
   "metadata": {},
   "outputs": [
    {
     "name": "stdout",
     "output_type": "stream",
     "text": [
      "Loading tokenizer...\n",
      "Reading input file...\n"
     ]
    },
    {
     "data": {
      "application/vnd.jupyter.widget-view+json": {
       "model_id": "f82097a7bc364a7594be176d728f5a61",
       "version_major": 2,
       "version_minor": 0
      },
      "text/plain": [
       "HBox(children=(FloatProgress(value=0.0, description='Labeling Packages', max=72324.0, style=ProgressStyle(desc…"
      ]
     },
     "metadata": {},
     "output_type": "display_data"
    },
    {
     "name": "stdout",
     "output_type": "stream",
     "text": [
      "\n",
      "Creating dataset...\n"
     ]
    },
    {
     "data": {
      "application/vnd.jupyter.widget-view+json": {
       "model_id": "f777fc604fa64f63904a54ecec406caa",
       "version_major": 2,
       "version_minor": 0
      },
      "text/plain": [
       "HBox(children=(FloatProgress(value=0.0, max=548.0), HTML(value='')))"
      ]
     },
     "metadata": {},
     "output_type": "display_data"
    },
    {
     "name": "stdout",
     "output_type": "stream",
     "text": [
      "\n"
     ]
    },
    {
     "data": {
      "application/vnd.jupyter.widget-view+json": {
       "model_id": "8b18bd3307f64e8f93f8877c27c610f9",
       "version_major": 2,
       "version_minor": 0
      },
      "text/plain": [
       "HBox(children=(FloatProgress(value=0.0, max=137.0), HTML(value='')))"
      ]
     },
     "metadata": {},
     "output_type": "display_data"
    },
    {
     "name": "stdout",
     "output_type": "stream",
     "text": [
      "\n"
     ]
    },
    {
     "data": {
      "application/vnd.jupyter.widget-view+json": {
       "model_id": "1c1fc973f5784e3da8cf3390f5c1a8c9",
       "version_major": 2,
       "version_minor": 0
      },
      "text/plain": [
       "HBox(children=(FloatProgress(value=0.0, max=17516.0), HTML(value='')))"
      ]
     },
     "metadata": {},
     "output_type": "display_data"
    },
    {
     "name": "stdout",
     "output_type": "stream",
     "text": [
      "\n"
     ]
    },
    {
     "data": {
      "application/vnd.jupyter.widget-view+json": {
       "model_id": "57611618a88f468c9838ad8cb8fb5577",
       "version_major": 2,
       "version_minor": 0
      },
      "text/plain": [
       "HBox(children=(FloatProgress(value=0.0, max=4380.0), HTML(value='')))"
      ]
     },
     "metadata": {},
     "output_type": "display_data"
    },
    {
     "name": "stdout",
     "output_type": "stream",
     "text": [
      "\n",
      "Done\n"
     ]
    }
   ],
   "source": [
    "from src.Trainer.DatasetHandler import DatasetHandler\n",
    "\n",
    "# dataset_handler = DatasetHandler(\"data/SA_history_clicks_of_98.csv\")\n",
    "dataset_handler = DatasetHandler(\"data/small1.pkl\")\n",
    "# dataset_handler = DatasetHandler(\"data/data1.pkl\")"
   ]
  },
  {
   "cell_type": "code",
   "execution_count": 9,
   "metadata": {},
   "outputs": [
    {
     "name": "stdout",
     "output_type": "stream",
     "text": [
      "DatasetDict({\n",
      "    train: Dataset({\n",
      "        features: ['__index_level_0__', 'attention_mask', 'input_ids', 'packageName', 'package_ids', 'queryText', 'similar', 'token_type_ids'],\n",
      "        num_rows: 17516\n",
      "    })\n",
      "    test: Dataset({\n",
      "        features: ['__index_level_0__', 'attention_mask', 'input_ids', 'packageName', 'package_ids', 'queryText', 'similar', 'token_type_ids'],\n",
      "        num_rows: 4380\n",
      "    })\n",
      "})\n"
     ]
    },
    {
     "data": {
      "text/html": [
       "<div>\n",
       "<style scoped>\n",
       "    .dataframe tbody tr th:only-of-type {\n",
       "        vertical-align: middle;\n",
       "    }\n",
       "\n",
       "    .dataframe tbody tr th {\n",
       "        vertical-align: top;\n",
       "    }\n",
       "\n",
       "    .dataframe thead th {\n",
       "        text-align: right;\n",
       "    }\n",
       "</style>\n",
       "<table border=\"1\" class=\"dataframe\">\n",
       "  <thead>\n",
       "    <tr style=\"text-align: right;\">\n",
       "      <th></th>\n",
       "      <th>__index_level_0__</th>\n",
       "      <th>attention_mask</th>\n",
       "      <th>input_ids</th>\n",
       "      <th>packageName</th>\n",
       "      <th>package_ids</th>\n",
       "      <th>queryText</th>\n",
       "      <th>similar</th>\n",
       "      <th>token_type_ids</th>\n",
       "    </tr>\n",
       "  </thead>\n",
       "  <tbody>\n",
       "    <tr>\n",
       "      <td>0</td>\n",
       "      <td>5655</td>\n",
       "      <td>[1, 1, 1, 1, 0, 0, 0, 0]</td>\n",
       "      <td>[2, 92219, 23854, 4, 0, 0, 0, 0]</td>\n",
       "      <td>bazyabi.ramz.wifi110</td>\n",
       "      <td>[24665]</td>\n",
       "      <td>wpsapp</td>\n",
       "      <td>1</td>\n",
       "      <td>[0, 0, 0, 0, 0, 0, 0, 0]</td>\n",
       "    </tr>\n",
       "    <tr>\n",
       "      <td>1</td>\n",
       "      <td>12354</td>\n",
       "      <td>[1, 1, 1, 1, 0, 0, 0, 0]</td>\n",
       "      <td>[2, 4143, 1174, 4, 0, 0, 0, 0]</td>\n",
       "      <td>com.takteam2.taketweety</td>\n",
       "      <td>[18246]</td>\n",
       "      <td>قست</td>\n",
       "      <td>-1</td>\n",
       "      <td>[0, 0, 0, 0, 0, 0, 0, 0]</td>\n",
       "    </tr>\n",
       "    <tr>\n",
       "      <td>2</td>\n",
       "      <td>1077</td>\n",
       "      <td>[1, 1, 1, 0, 0, 0, 0, 0]</td>\n",
       "      <td>[2, 17066, 4, 0, 0, 0, 0, 0]</td>\n",
       "      <td>persian.gulf.appmaker</td>\n",
       "      <td>[12671]</td>\n",
       "      <td>ورد</td>\n",
       "      <td>-1</td>\n",
       "      <td>[0, 0, 0, 0, 0, 0, 0, 0]</td>\n",
       "    </tr>\n",
       "    <tr>\n",
       "      <td>3</td>\n",
       "      <td>12797</td>\n",
       "      <td>[1, 1, 1, 1, 1, 0, 0, 0]</td>\n",
       "      <td>[2, 32605, 9549, 1154, 4, 0, 0, 0]</td>\n",
       "      <td>com.shilashila.daynasorshekamoo</td>\n",
       "      <td>[2409]</td>\n",
       "      <td>دایناسور شکمو</td>\n",
       "      <td>1</td>\n",
       "      <td>[0, 0, 0, 0, 0, 0, 0, 0]</td>\n",
       "    </tr>\n",
       "    <tr>\n",
       "      <td>4</td>\n",
       "      <td>2484</td>\n",
       "      <td>[1, 1, 1, 1, 1, 1, 1, 0]</td>\n",
       "      <td>[2, 8625, 4572, 60923, 2560, 12014, 4, 0]</td>\n",
       "      <td>com.abtination.tafavoth2aropeydakon</td>\n",
       "      <td>[17934]</td>\n",
       "      <td>پیامک های جیگر خان عاشقانه</td>\n",
       "      <td>-1</td>\n",
       "      <td>[0, 0, 0, 0, 0, 0, 0, 0]</td>\n",
       "    </tr>\n",
       "    <tr>\n",
       "      <td>...</td>\n",
       "      <td>...</td>\n",
       "      <td>...</td>\n",
       "      <td>...</td>\n",
       "      <td>...</td>\n",
       "      <td>...</td>\n",
       "      <td>...</td>\n",
       "      <td>...</td>\n",
       "      <td>...</td>\n",
       "    </tr>\n",
       "    <tr>\n",
       "      <td>995</td>\n",
       "      <td>3648</td>\n",
       "      <td>[1, 1, 1, 1, 1, 0, 0, 0, 0, 0, 0, 0, 0, 0, 0]</td>\n",
       "      <td>[2, 8212, 5256, 20543, 4, 0, 0, 0, 0, 0, 0, 0,...</td>\n",
       "      <td>org.baatryy.plus.free</td>\n",
       "      <td>[24212]</td>\n",
       "      <td>رمان قلب یخی</td>\n",
       "      <td>-1</td>\n",
       "      <td>[0, 0, 0, 0, 0, 0, 0, 0, 0, 0, 0, 0, 0, 0, 0]</td>\n",
       "    </tr>\n",
       "    <tr>\n",
       "      <td>996</td>\n",
       "      <td>8113</td>\n",
       "      <td>[1, 1, 1, 1, 1, 1, 1, 1, 1, 0, 0, 0, 0, 0, 0]</td>\n",
       "      <td>[2, 11547, 8964, 53629, 45760, 1192, 43775, 36...</td>\n",
       "      <td>air.WomenFitness</td>\n",
       "      <td>[51300]</td>\n",
       "      <td>اجر شکن bricks breaker</td>\n",
       "      <td>-1</td>\n",
       "      <td>[0, 0, 0, 0, 0, 0, 0, 0, 0, 0, 0, 0, 0, 0, 0]</td>\n",
       "    </tr>\n",
       "    <tr>\n",
       "      <td>997</td>\n",
       "      <td>1052</td>\n",
       "      <td>[1, 1, 1, 1, 0, 0, 0, 0, 0, 0, 0, 0, 0, 0, 0]</td>\n",
       "      <td>[2, 3701, 7456, 4, 0, 0, 0, 0, 0, 0, 0, 0, 0, ...</td>\n",
       "      <td>com.myirancell.pezhiee</td>\n",
       "      <td>[18953]</td>\n",
       "      <td>بسته حمایتی</td>\n",
       "      <td>1</td>\n",
       "      <td>[0, 0, 0, 0, 0, 0, 0, 0, 0, 0, 0, 0, 0, 0, 0]</td>\n",
       "    </tr>\n",
       "    <tr>\n",
       "      <td>998</td>\n",
       "      <td>17528</td>\n",
       "      <td>[1, 1, 1, 1, 0, 0, 0, 0, 0, 0, 0, 0, 0, 0, 0]</td>\n",
       "      <td>[2, 23541, 99754, 4, 0, 0, 0, 0, 0, 0, 0, 0, 0...</td>\n",
       "      <td>com.persiagraph.comic_halo_escalationpart17en</td>\n",
       "      <td>[7387]</td>\n",
       "      <td>allshare</td>\n",
       "      <td>-1</td>\n",
       "      <td>[0, 0, 0, 0, 0, 0, 0, 0, 0, 0, 0, 0, 0, 0, 0]</td>\n",
       "    </tr>\n",
       "    <tr>\n",
       "      <td>999</td>\n",
       "      <td>5522</td>\n",
       "      <td>[1, 1, 1, 1, 1, 0, 0, 0, 0, 0, 0, 0, 0, 0, 0]</td>\n",
       "      <td>[2, 4846, 2385, 31758, 4, 0, 0, 0, 0, 0, 0, 0,...</td>\n",
       "      <td>ir.ali.motavvalede.mah.bahman</td>\n",
       "      <td>[13938]</td>\n",
       "      <td>نصب برنامه گاوصندوق</td>\n",
       "      <td>-1</td>\n",
       "      <td>[0, 0, 0, 0, 0, 0, 0, 0, 0, 0, 0, 0, 0, 0, 0]</td>\n",
       "    </tr>\n",
       "  </tbody>\n",
       "</table>\n",
       "<p>1000 rows × 8 columns</p>\n",
       "</div>"
      ],
      "text/plain": [
       "     __index_level_0__                                 attention_mask  \\\n",
       "0                 5655                       [1, 1, 1, 1, 0, 0, 0, 0]   \n",
       "1                12354                       [1, 1, 1, 1, 0, 0, 0, 0]   \n",
       "2                 1077                       [1, 1, 1, 0, 0, 0, 0, 0]   \n",
       "3                12797                       [1, 1, 1, 1, 1, 0, 0, 0]   \n",
       "4                 2484                       [1, 1, 1, 1, 1, 1, 1, 0]   \n",
       "..                 ...                                            ...   \n",
       "995               3648  [1, 1, 1, 1, 1, 0, 0, 0, 0, 0, 0, 0, 0, 0, 0]   \n",
       "996               8113  [1, 1, 1, 1, 1, 1, 1, 1, 1, 0, 0, 0, 0, 0, 0]   \n",
       "997               1052  [1, 1, 1, 1, 0, 0, 0, 0, 0, 0, 0, 0, 0, 0, 0]   \n",
       "998              17528  [1, 1, 1, 1, 0, 0, 0, 0, 0, 0, 0, 0, 0, 0, 0]   \n",
       "999               5522  [1, 1, 1, 1, 1, 0, 0, 0, 0, 0, 0, 0, 0, 0, 0]   \n",
       "\n",
       "                                             input_ids  \\\n",
       "0                     [2, 92219, 23854, 4, 0, 0, 0, 0]   \n",
       "1                       [2, 4143, 1174, 4, 0, 0, 0, 0]   \n",
       "2                         [2, 17066, 4, 0, 0, 0, 0, 0]   \n",
       "3                   [2, 32605, 9549, 1154, 4, 0, 0, 0]   \n",
       "4            [2, 8625, 4572, 60923, 2560, 12014, 4, 0]   \n",
       "..                                                 ...   \n",
       "995  [2, 8212, 5256, 20543, 4, 0, 0, 0, 0, 0, 0, 0,...   \n",
       "996  [2, 11547, 8964, 53629, 45760, 1192, 43775, 36...   \n",
       "997  [2, 3701, 7456, 4, 0, 0, 0, 0, 0, 0, 0, 0, 0, ...   \n",
       "998  [2, 23541, 99754, 4, 0, 0, 0, 0, 0, 0, 0, 0, 0...   \n",
       "999  [2, 4846, 2385, 31758, 4, 0, 0, 0, 0, 0, 0, 0,...   \n",
       "\n",
       "                                       packageName package_ids  \\\n",
       "0                             bazyabi.ramz.wifi110     [24665]   \n",
       "1                          com.takteam2.taketweety     [18246]   \n",
       "2                            persian.gulf.appmaker     [12671]   \n",
       "3                  com.shilashila.daynasorshekamoo      [2409]   \n",
       "4              com.abtination.tafavoth2aropeydakon     [17934]   \n",
       "..                                             ...         ...   \n",
       "995                          org.baatryy.plus.free     [24212]   \n",
       "996                               air.WomenFitness     [51300]   \n",
       "997                         com.myirancell.pezhiee     [18953]   \n",
       "998  com.persiagraph.comic_halo_escalationpart17en      [7387]   \n",
       "999                  ir.ali.motavvalede.mah.bahman     [13938]   \n",
       "\n",
       "                      queryText  similar  \\\n",
       "0                        wpsapp        1   \n",
       "1                           قست       -1   \n",
       "2                           ورد       -1   \n",
       "3                 دایناسور شکمو        1   \n",
       "4    پیامک های جیگر خان عاشقانه       -1   \n",
       "..                          ...      ...   \n",
       "995                رمان قلب یخی       -1   \n",
       "996      اجر شکن bricks breaker       -1   \n",
       "997                 بسته حمایتی        1   \n",
       "998                    allshare       -1   \n",
       "999         نصب برنامه گاوصندوق       -1   \n",
       "\n",
       "                                    token_type_ids  \n",
       "0                         [0, 0, 0, 0, 0, 0, 0, 0]  \n",
       "1                         [0, 0, 0, 0, 0, 0, 0, 0]  \n",
       "2                         [0, 0, 0, 0, 0, 0, 0, 0]  \n",
       "3                         [0, 0, 0, 0, 0, 0, 0, 0]  \n",
       "4                         [0, 0, 0, 0, 0, 0, 0, 0]  \n",
       "..                                             ...  \n",
       "995  [0, 0, 0, 0, 0, 0, 0, 0, 0, 0, 0, 0, 0, 0, 0]  \n",
       "996  [0, 0, 0, 0, 0, 0, 0, 0, 0, 0, 0, 0, 0, 0, 0]  \n",
       "997  [0, 0, 0, 0, 0, 0, 0, 0, 0, 0, 0, 0, 0, 0, 0]  \n",
       "998  [0, 0, 0, 0, 0, 0, 0, 0, 0, 0, 0, 0, 0, 0, 0]  \n",
       "999  [0, 0, 0, 0, 0, 0, 0, 0, 0, 0, 0, 0, 0, 0, 0]  \n",
       "\n",
       "[1000 rows x 8 columns]"
      ]
     },
     "execution_count": 9,
     "metadata": {},
     "output_type": "execute_result"
    }
   ],
   "source": [
    "import pandas as pd\n",
    "# dataset_handler.df.loc[dataset_handler.df[\"similar\"] == 0]\n",
    "print(dataset_handler.get_dataset())\n",
    "dataset_handler.df\n",
    "pd.DataFrame(dataset_handler.get_dataset()[\"train\"][:1000])"
   ]
  },
  {
   "cell_type": "markdown",
   "metadata": {},
   "source": [
    "## Training"
   ]
  },
  {
   "cell_type": "code",
   "execution_count": 66,
   "metadata": {
    "scrolled": true
   },
   "outputs": [
    {
     "name": "stdout",
     "output_type": "stream",
     "text": [
      "Train on 17516 samples, test on 4380 samples\n",
      "B\n",
      "----------------\n",
      "\n"
     ]
    },
    {
     "data": {
      "application/vnd.jupyter.widget-view+json": {
       "model_id": "2aef1a7db33b46ac90b7a4dc2f38854a",
       "version_major": 2,
       "version_minor": 0
      },
      "text/plain": [
       "HBox(children=(FloatProgress(value=0.0, description='[Epoch 1/50]', max=548.0, style=ProgressStyle(description…"
      ]
     },
     "metadata": {},
     "output_type": "display_data"
    },
    {
     "name": "stdout",
     "output_type": "stream",
     "text": [
      "\n"
     ]
    },
    {
     "data": {
      "application/vnd.jupyter.widget-view+json": {
       "model_id": "1570b1823fbe449eb554540c28406229",
       "version_major": 2,
       "version_minor": 0
      },
      "text/plain": [
       "HBox(children=(FloatProgress(value=0.0, description='Test Loss', max=137.0, style=ProgressStyle(description_wi…"
      ]
     },
     "metadata": {},
     "output_type": "display_data"
    },
    {
     "name": "stdout",
     "output_type": "stream",
     "text": [
      "\n"
     ]
    },
    {
     "data": {
      "image/png": "[encoded data removed]",
      "text/plain": [
       "<Figure size 432x288 with 1 Axes>"
      ]
     },
     "metadata": {
      "needs_background": "light"
     },
     "output_type": "display_data"
    },
    {
     "name": "stdout",
     "output_type": "stream",
     "text": [
      "----------------\n",
      "\n"
     ]
    },
    {
     "data": {
      "application/vnd.jupyter.widget-view+json": {
       "model_id": "34bdaab58b1b4d32b43f8944d7690d41",
       "version_major": 2,
       "version_minor": 0
      },
      "text/plain": [
       "HBox(children=(FloatProgress(value=0.0, description='[Epoch 2/50]', max=548.0, style=ProgressStyle(description…"
      ]
     },
     "metadata": {},
     "output_type": "display_data"
    },
    {
     "name": "stdout",
     "output_type": "stream",
     "text": [
      "\n"
     ]
    },
    {
     "data": {
      "application/vnd.jupyter.widget-view+json": {
       "model_id": "394147bd728b407a844d52b6e896d173",
       "version_major": 2,
       "version_minor": 0
      },
      "text/plain": [
       "HBox(children=(FloatProgress(value=0.0, description='Test Loss', max=137.0, style=ProgressStyle(description_wi…"
      ]
     },
     "metadata": {},
     "output_type": "display_data"
    },
    {
     "name": "stdout",
     "output_type": "stream",
     "text": [
      "\n"
     ]
    },
    {
     "data": {
      "image/png": "[encoded data removed]",
      "text/plain": [
       "<Figure size 432x288 with 1 Axes>"
      ]
     },
     "metadata": {
      "needs_background": "light"
     },
     "output_type": "display_data"
    },
    {
     "name": "stdout",
     "output_type": "stream",
     "text": [
      "----------------\n",
      "\n"
     ]
    },
    {
     "data": {
      "application/vnd.jupyter.widget-view+json": {
       "model_id": "f61157dc5a834e46b20c221d3c4d2c55",
       "version_major": 2,
       "version_minor": 0
      },
      "text/plain": [
       "HBox(children=(FloatProgress(value=0.0, description='[Epoch 3/50]', max=548.0, style=ProgressStyle(description…"
      ]
     },
     "metadata": {},
     "output_type": "display_data"
    },
    {
     "name": "stdout",
     "output_type": "stream",
     "text": [
      "\n"
     ]
    },
    {
     "data": {
      "application/vnd.jupyter.widget-view+json": {
       "model_id": "3faf8ffa775d416d9b7ea2eb72c3790b",
       "version_major": 2,
       "version_minor": 0
      },
      "text/plain": [
       "HBox(children=(FloatProgress(value=0.0, description='Test Loss', max=137.0, style=ProgressStyle(description_wi…"
      ]
     },
     "metadata": {},
     "output_type": "display_data"
    },
    {
     "name": "stdout",
     "output_type": "stream",
     "text": [
      "\n"
     ]
    },
    {
     "data": {
      "image/png": "[encoded data removed]",
      "text/plain": [
       "<Figure size 432x288 with 1 Axes>"
      ]
     },
     "metadata": {
      "needs_background": "light"
     },
     "output_type": "display_data"
    },
    {
     "name": "stdout",
     "output_type": "stream",
     "text": [
      "----------------\n",
      "\n"
     ]
    },
    {
     "data": {
      "application/vnd.jupyter.widget-view+json": {
       "model_id": "dcd452ead11c4524a29d8febd789aa50",
       "version_major": 2,
       "version_minor": 0
      },
      "text/plain": [
       "HBox(children=(FloatProgress(value=0.0, description='[Epoch 4/50]', max=548.0, style=ProgressStyle(description…"
      ]
     },
     "metadata": {},
     "output_type": "display_data"
    },
    {
     "name": "stdout",
     "output_type": "stream",
     "text": [
      "\n"
     ]
    },
    {
     "data": {
      "application/vnd.jupyter.widget-view+json": {
       "model_id": "3b382a5ab3934239a8154f144df651e3",
       "version_major": 2,
       "version_minor": 0
      },
      "text/plain": [
       "HBox(children=(FloatProgress(value=0.0, description='Test Loss', max=137.0, style=ProgressStyle(description_wi…"
      ]
     },
     "metadata": {},
     "output_type": "display_data"
    },
    {
     "name": "stdout",
     "output_type": "stream",
     "text": [
      "\n"
     ]
    },
    {
     "data": {
      "image/png": "[encoded data removed]",
      "text/plain": [
       "<Figure size 432x288 with 1 Axes>"
      ]
     },
     "metadata": {
      "needs_background": "light"
     },
     "output_type": "display_data"
    },
    {
     "name": "stdout",
     "output_type": "stream",
     "text": [
      "----------------\n",
      "\n"
     ]
    },
    {
     "data": {
      "application/vnd.jupyter.widget-view+json": {
       "model_id": "ca3190c91a5e4a039bad82a0e6b24086",
       "version_major": 2,
       "version_minor": 0
      },
      "text/plain": [
       "HBox(children=(FloatProgress(value=0.0, description='[Epoch 5/50]', max=548.0, style=ProgressStyle(description…"
      ]
     },
     "metadata": {},
     "output_type": "display_data"
    },
    {
     "name": "stdout",
     "output_type": "stream",
     "text": [
      "\n"
     ]
    },
    {
     "data": {
      "application/vnd.jupyter.widget-view+json": {
       "model_id": "206b6338b713450cbb16d76a78311fcd",
       "version_major": 2,
       "version_minor": 0
      },
      "text/plain": [
       "HBox(children=(FloatProgress(value=0.0, description='Test Loss', max=137.0, style=ProgressStyle(description_wi…"
      ]
     },
     "metadata": {},
     "output_type": "display_data"
    },
    {
     "name": "stdout",
     "output_type": "stream",
     "text": [
      "\n"
     ]
    },
    {
     "data": {
      "image/png": "[encoded data removed]",
      "text/plain": [
       "<Figure size 432x288 with 1 Axes>"
      ]
     },
     "metadata": {
      "needs_background": "light"
     },
     "output_type": "display_data"
    },
    {
     "name": "stdout",
     "output_type": "stream",
     "text": [
      "----------------\n",
      "\n"
     ]
    },
    {
     "data": {
      "application/vnd.jupyter.widget-view+json": {
       "model_id": "ddbafa2f68644dada0a6be760c34cb9c",
       "version_major": 2,
       "version_minor": 0
      },
      "text/plain": [
       "HBox(children=(FloatProgress(value=0.0, description='[Epoch 6/50]', max=548.0, style=ProgressStyle(description…"
      ]
     },
     "metadata": {},
     "output_type": "display_data"
    },
    {
     "name": "stderr",
     "output_type": "stream",
     "text": [
      "ERROR:root:Internal Python error in the inspect module.\n",
      "Below is the traceback from this internal error.\n",
      "\n"
     ]
    },
    {
     "name": "stdout",
     "output_type": "stream",
     "text": [
      "\n",
      "Traceback (most recent call last):\n",
      "  File \"C:\\Users\\Mohsen\\Anaconda3\\lib\\site-packages\\IPython\\core\\interactiveshell.py\", line 3319, in run_code\n",
      "    exec(code_obj, self.user_global_ns, self.user_ns)\n",
      "  File \"<ipython-input-66-2f48a94d643a>\", line 9, in <module>\n",
      "    trainer.train(epochs=50)\n",
      "  File \"F:\\Programming\\DNN\\Tapsell\\Task\\sponsored-search\\src\\Trainer\\Trainer.py\", line 45, in train\n",
      "    batch_inputs, labels = self.prepare_batch(tokenized_dataset_train, i, i + step)\n",
      "  File \"F:\\Programming\\DNN\\Tapsell\\Task\\sponsored-search\\src\\Trainer\\Trainer.py\", line 62, in prepare_batch\n",
      "    x1 = torch.tensor(batch[\"input_ids\"]).to(self.device)\n",
      "KeyboardInterrupt\n",
      "\n",
      "During handling of the above exception, another exception occurred:\n",
      "\n",
      "Traceback (most recent call last):\n",
      "  File \"C:\\Users\\Mohsen\\Anaconda3\\lib\\site-packages\\IPython\\core\\interactiveshell.py\", line 2034, in showtraceback\n",
      "    stb = value._render_traceback_()\n",
      "AttributeError: 'KeyboardInterrupt' object has no attribute '_render_traceback_'\n",
      "\n",
      "During handling of the above exception, another exception occurred:\n",
      "\n",
      "Traceback (most recent call last):\n",
      "  File \"C:\\Users\\Mohsen\\Anaconda3\\lib\\site-packages\\IPython\\core\\ultratb.py\", line 1101, in get_records\n",
      "    return _fixed_getinnerframes(etb, number_of_lines_of_context, tb_offset)\n",
      "  File \"C:\\Users\\Mohsen\\Anaconda3\\lib\\site-packages\\IPython\\core\\ultratb.py\", line 319, in wrapped\n",
      "    return f(*args, **kwargs)\n",
      "  File \"C:\\Users\\Mohsen\\Anaconda3\\lib\\site-packages\\IPython\\core\\ultratb.py\", line 353, in _fixed_getinnerframes\n",
      "    records = fix_frame_records_filenames(inspect.getinnerframes(etb, context))\n",
      "  File \"C:\\Users\\Mohsen\\Anaconda3\\lib\\inspect.py\", line 1502, in getinnerframes\n",
      "    frameinfo = (tb.tb_frame,) + getframeinfo(tb, context)\n",
      "  File \"C:\\Users\\Mohsen\\Anaconda3\\lib\\inspect.py\", line 1460, in getframeinfo\n",
      "    filename = getsourcefile(frame) or getfile(frame)\n",
      "  File \"C:\\Users\\Mohsen\\Anaconda3\\lib\\inspect.py\", line 696, in getsourcefile\n",
      "    if getattr(getmodule(object, filename), '__loader__', None) is not None:\n",
      "  File \"C:\\Users\\Mohsen\\Anaconda3\\lib\\inspect.py\", line 733, in getmodule\n",
      "    if ismodule(module) and hasattr(module, '__file__'):\n",
      "  File \"C:\\Users\\Mohsen\\Anaconda3\\lib\\site-packages\\tensorflow\\__init__.py\", line 50, in __getattr__\n",
      "    module = self._load()\n",
      "  File \"C:\\Users\\Mohsen\\Anaconda3\\lib\\site-packages\\tensorflow\\__init__.py\", line 44, in _load\n",
      "    module = _importlib.import_module(self.__name__)\n",
      "  File \"C:\\Users\\Mohsen\\Anaconda3\\lib\\importlib\\__init__.py\", line 127, in import_module\n",
      "    return _bootstrap._gcd_import(name[level:], package, level)\n",
      "  File \"<frozen importlib._bootstrap>\", line 1006, in _gcd_import\n",
      "  File \"<frozen importlib._bootstrap>\", line 983, in _find_and_load\n",
      "  File \"<frozen importlib._bootstrap>\", line 965, in _find_and_load_unlocked\n",
      "ModuleNotFoundError: No module named 'tensorflow_core.estimator'\n"
     ]
    },
    {
     "ename": "KeyboardInterrupt",
     "evalue": "",
     "output_type": "error",
     "traceback": [
      "\u001b[1;31m---------------------------------------------------------------------------\u001b[0m"
     ]
    }
   ],
   "source": [
    "import src.Trainer.RepresentationBuilder\n",
    "reload(src.Trainer.RepresentationBuilder)\n",
    "import src.Trainer.QueryAdCoordinator\n",
    "reload(src.Trainer.QueryAdCoordinator)\n",
    "import src.Trainer.Trainer\n",
    "reload(src.Trainer.Trainer)\n",
    "\n",
    "trainer = src.Trainer.Trainer.Trainer(embedding_dim=10, dataset_handler=dataset_handler)\n",
    "trainer.train(epochs=50)"
   ]
  },
  {
   "cell_type": "code",
   "execution_count": 67,
   "metadata": {
    "pycharm": {
     "is_executing": false,
     "name": "#%%\n"
    }
   },
   "outputs": [
    {
     "data": {
      "text/plain": [
       "QueryAdCoordinator(\n",
       "  (query_representation_builder): RepresentationBuilder(\n",
       "    (embedding): Embedding(100000, 10)\n",
       "    (pooling_module): SpanPoolingAvg()\n",
       "  )\n",
       "  (ad_representation_builder): RepresentationBuilder(\n",
       "    (embedding): Embedding(72324, 10)\n",
       "    (pooling_module): SpanPoolingAvg()\n",
       "  )\n",
       "  (loss): CosineEmbeddingLoss()\n",
       ")"
      ]
     },
     "execution_count": 67,
     "metadata": {},
     "output_type": "execute_result"
    }
   ],
   "source": [
    "trainer.query_ad_coordinator"
   ]
  },
  {
   "cell_type": "code",
   "execution_count": 68,
   "metadata": {
    "pycharm": {
     "is_executing": false,
     "name": "#%%\n"
    }
   },
   "outputs": [
    {
     "name": "stdout",
     "output_type": "stream",
     "text": [
      "Model save at representations/QueryAdCoordinator_checkpoint.pt\n"
     ]
    }
   ],
   "source": [
    "trainer.save_model(save_address=\"representations/QueryAdCoordinator_checkpoint.pt\")"
   ]
  },
  {
   "cell_type": "code",
   "execution_count": 69,
   "metadata": {},
   "outputs": [
    {
     "data": {
      "application/vnd.jupyter.widget-view+json": {
       "model_id": "8f02b7c2a10b4b0d83f0294d2f0ec671",
       "version_major": 2,
       "version_minor": 0
      },
      "text/plain": [
       "HBox(children=(FloatProgress(value=0.0, max=72324.0), HTML(value='')))"
      ]
     },
     "metadata": {},
     "output_type": "display_data"
    },
    {
     "name": "stdout",
     "output_type": "stream",
     "text": [
      "\n",
      "torch.Size([72324, 10])\n",
      "Saved ad representations at representations/ad_reprs.pt\n"
     ]
    }
   ],
   "source": [
    "trainer.save_all_ad_representations(ad_reprs_address=\"representations/ad_reprs.pt\", \n",
    "                                    id_to_package_address=\"representations/id_to_package.pkl\")"
   ]
  },
  {
   "cell_type": "markdown",
   "metadata": {
    "pycharm": {
     "is_executing": false,
     "name": "#%%\n"
    }
   },
   "source": [
    "## Prediction"
   ]
  },
  {
   "cell_type": "code",
   "execution_count": 82,
   "metadata": {
    "pycharm": {
     "is_executing": true,
     "name": "#%%\n"
    }
   },
   "outputs": [
    {
     "name": "stdout",
     "output_type": "stream",
     "text": [
      "Loading tokenizer...\n",
      "Loading ad representations...\n",
      "Loading ad id to package...\n",
      "Loading QueryAdCoordinator...\n"
     ]
    }
   ],
   "source": [
    "import src.Predictor.Predictor\n",
    "reload(src.Predictor.Predictor)\n",
    "\n",
    "predictor = src.Predictor.Predictor.Predictor(ad_reprs_address=\"representations/ad_reprs.pt\",\n",
    "                                id_to_package_address=\"representations/id_to_package.pkl\",\n",
    "                                query_ad_coordinator_checkpoint=\"representations/QueryAdCoordinator_checkpoint.pt\")"
   ]
  },
  {
   "cell_type": "code",
   "execution_count": 83,
   "metadata": {
    "pycharm": {
     "is_executing": true,
     "name": "#%%\n"
    }
   },
   "outputs": [
    {
     "name": "stdout",
     "output_type": "stream",
     "text": [
      "torch.Size([1, 10])\n",
      "tensor([[-1.0235e+00,  2.3497e-01, -1.9678e-01, -5.2886e-01,  4.8661e-01,\n",
      "         -2.0150e-01,  1.8964e-01, -4.3036e-04,  5.1137e-01,  6.6778e-01]],\n",
      "       grad_fn=<DivBackward0>)\n"
     ]
    }
   ],
   "source": [
    "predictor.predict_from_query(\"کاغذ\")"
   ]
  },
  {
   "cell_type": "code",
   "execution_count": null,
   "metadata": {
    "pycharm": {
     "name": "#%%\n"
    }
   },
   "outputs": [],
   "source": []
  },
  {
   "cell_type": "code",
   "execution_count": null,
   "metadata": {
    "pycharm": {
     "name": "#%%\n"
    }
   },
   "outputs": [],
   "source": []
  }
 ],
 "metadata": {
  "kernelspec": {
   "display_name": "Python 3",
   "language": "python",
   "name": "python3"
  },
  "language_info": {
   "codemirror_mode": {
    "name": "ipython",
    "version": 3
   },
   "file_extension": ".py",
   "mimetype": "text/x-python",
   "name": "python",
   "nbconvert_exporter": "python",
   "pygments_lexer": "ipython3",
   "version": "3.7.3"
  },
  "pycharm": {
   "stem_cell": {
    "cell_type": "raw",
    "metadata": {
     "collapsed": false
    },
    "source": []
   }
  }
 },
 "nbformat": 4,
 "nbformat_minor": 1
}
