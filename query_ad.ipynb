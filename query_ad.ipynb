{
 "cells": [
  {
   "cell_type": "code",
   "execution_count": 117,
   "metadata": {
    "pycharm": {
     "is_executing": false
    }
   },
   "outputs": [],
   "source": [
    "import pandas as pd\n",
    "from importlib import reload"
   ]
  },
  {
   "cell_type": "markdown",
   "metadata": {},
   "source": [
    "## Configs"
   ]
  },
  {
   "cell_type": "code",
   "execution_count": 118,
   "metadata": {},
   "outputs": [],
   "source": [
    "BATCH_SIZE = 32\n",
    "LEARNING_RATE = 5e-4"
   ]
  },
  {
   "cell_type": "markdown",
   "metadata": {},
   "source": [
    "## Preprocessing\n",
    "Negative Sampling the dataset"
   ]
  },
  {
   "cell_type": "code",
   "execution_count": 178,
   "metadata": {},
   "outputs": [
    {
     "name": "stdout",
     "output_type": "stream",
     "text": [
      "Reading input file data/SA_history_clicks_of_98.csv\n"
     ]
    },
    {
     "data": {
      "application/vnd.jupyter.widget-view+json": {
       "model_id": "0d1376c026cc41d5a2ce7a99bc079285",
       "version_major": 2,
       "version_minor": 0
      },
      "text/plain": [
       "HBox(children=(FloatProgress(value=0.0, max=10948192.0), HTML(value='')))"
      ]
     },
     "metadata": {},
     "output_type": "display_data"
    },
    {
     "name": "stdout",
     "output_type": "stream",
     "text": [
      "\n",
      "File created at data/data2.pkl\n"
     ]
    },
    {
     "data": {
      "text/html": [
       "<div>\n",
       "<style scoped>\n",
       "    .dataframe tbody tr th:only-of-type {\n",
       "        vertical-align: middle;\n",
       "    }\n",
       "\n",
       "    .dataframe tbody tr th {\n",
       "        vertical-align: top;\n",
       "    }\n",
       "\n",
       "    .dataframe thead th {\n",
       "        text-align: right;\n",
       "    }\n",
       "</style>\n",
       "<table border=\"1\" class=\"dataframe\">\n",
       "  <thead>\n",
       "    <tr style=\"text-align: right;\">\n",
       "      <th></th>\n",
       "      <th>queryText</th>\n",
       "      <th>packageName</th>\n",
       "      <th>similar</th>\n",
       "    </tr>\n",
       "  </thead>\n",
       "  <tbody>\n",
       "    <tr>\n",
       "      <td>0</td>\n",
       "      <td>توشمال</td>\n",
       "      <td>com.example.masood.yocheneapp</td>\n",
       "      <td>1</td>\n",
       "    </tr>\n",
       "    <tr>\n",
       "      <td>1</td>\n",
       "      <td>rush</td>\n",
       "      <td>com.ketchapp.rush</td>\n",
       "      <td>1</td>\n",
       "    </tr>\n",
       "    <tr>\n",
       "      <td>2</td>\n",
       "      <td>شب چله</td>\n",
       "      <td>yalda.ir.kr.si.ma.usn</td>\n",
       "      <td>1</td>\n",
       "    </tr>\n",
       "    <tr>\n",
       "      <td>3</td>\n",
       "      <td>عشق</td>\n",
       "      <td>com.roman.jadogareeshgh</td>\n",
       "      <td>1</td>\n",
       "    </tr>\n",
       "    <tr>\n",
       "      <td>4</td>\n",
       "      <td>کلابی</td>\n",
       "      <td>ir.mmdali.cluby</td>\n",
       "      <td>1</td>\n",
       "    </tr>\n",
       "    <tr>\n",
       "      <td>...</td>\n",
       "      <td>...</td>\n",
       "      <td>...</td>\n",
       "      <td>...</td>\n",
       "    </tr>\n",
       "    <tr>\n",
       "      <td>32844571</td>\n",
       "      <td>فرار از جنگل</td>\n",
       "      <td>com.morabaerangi.morabirangii</td>\n",
       "      <td>-1</td>\n",
       "    </tr>\n",
       "    <tr>\n",
       "      <td>32844572</td>\n",
       "      <td>روبینو</td>\n",
       "      <td>eu.softwareworkshop.brokenscreen</td>\n",
       "      <td>-1</td>\n",
       "    </tr>\n",
       "    <tr>\n",
       "      <td>32844573</td>\n",
       "      <td>روبینو</td>\n",
       "      <td>com.rovio.retry</td>\n",
       "      <td>-1</td>\n",
       "    </tr>\n",
       "    <tr>\n",
       "      <td>32844574</td>\n",
       "      <td>کاهتهتخنتالفل 644 علیر</td>\n",
       "      <td>mhn.king</td>\n",
       "      <td>-1</td>\n",
       "    </tr>\n",
       "    <tr>\n",
       "      <td>32844575</td>\n",
       "      <td>کاهتهتخنتالفل 644 علیر</td>\n",
       "      <td>Ghasem.Game.Ordoo</td>\n",
       "      <td>-1</td>\n",
       "    </tr>\n",
       "  </tbody>\n",
       "</table>\n",
       "<p>32844576 rows × 3 columns</p>\n",
       "</div>"
      ],
      "text/plain": [
       "                       queryText                       packageName  similar\n",
       "0                         توشمال     com.example.masood.yocheneapp        1\n",
       "1                           rush                 com.ketchapp.rush        1\n",
       "2                         شب چله             yalda.ir.kr.si.ma.usn        1\n",
       "3                            عشق           com.roman.jadogareeshgh        1\n",
       "4                          کلابی                   ir.mmdali.cluby        1\n",
       "...                          ...                               ...      ...\n",
       "32844571            فرار از جنگل     com.morabaerangi.morabirangii       -1\n",
       "32844572                  روبینو  eu.softwareworkshop.brokenscreen       -1\n",
       "32844573                  روبینو                   com.rovio.retry       -1\n",
       "32844574  کاهتهتخنتالفل 644 علیر                          mhn.king       -1\n",
       "32844575  کاهتهتخنتالفل 644 علیر                 Ghasem.Game.Ordoo       -1\n",
       "\n",
       "[32844576 rows x 3 columns]"
      ]
     },
     "execution_count": 178,
     "metadata": {},
     "output_type": "execute_result"
    }
   ],
   "source": [
    "from src.Preprocess.Preprocessor import Preprocessor\n",
    "Preprocessor.create_negative_sampled_dataset(input_address=\"data/SA_history_clicks_of_98.csv\", \n",
    "                                               output_address=\"data/data2.pkl\", \n",
    "                                               neg_to_pos_ratio=2)"
   ]
  },
  {
   "cell_type": "markdown",
   "metadata": {},
   "source": [
    "## DatasetHandler\n",
    "Preparing dataset for training"
   ]
  },
  {
   "cell_type": "code",
   "execution_count": 181,
   "metadata": {},
   "outputs": [
    {
     "name": "stdout",
     "output_type": "stream",
     "text": [
      "Loading tokenizer...\n",
      "Reading input file...\n"
     ]
    },
    {
     "data": {
      "application/vnd.jupyter.widget-view+json": {
       "model_id": "0b7d4a4eeea54c348b79149d45401195",
       "version_major": 2,
       "version_minor": 0
      },
      "text/plain": [
       "HBox(children=(FloatProgress(value=0.0, description='Labeling Packages', max=93592.0, style=ProgressStyle(desc…"
      ]
     },
     "metadata": {},
     "output_type": "display_data"
    },
    {
     "name": "stdout",
     "output_type": "stream",
     "text": [
      "\n",
      "Shuffling dataset...\n",
      "Tokenizing ads...\n"
     ]
    },
    {
     "name": "stderr",
     "output_type": "stream",
     "text": [
      "C:\\Users\\Mohsen\\Anaconda3\\lib\\site-packages\\tqdm\\std.py:654: FutureWarning: The Panel class is removed from pandas. Accessing it from the top-level namespace will also be removed in the next version\n",
      "  from pandas import Panel\n"
     ]
    },
    {
     "data": {
      "application/vnd.jupyter.widget-view+json": {
       "model_id": "d919242fae3943c0b532ace28b89cb55",
       "version_major": 2,
       "version_minor": 0
      },
      "text/plain": [
       "HBox(children=(FloatProgress(value=0.0, max=32845.0), HTML(value='')))"
      ]
     },
     "metadata": {},
     "output_type": "display_data"
    },
    {
     "name": "stdout",
     "output_type": "stream",
     "text": [
      "\n",
      "Creating dataset...\n",
      "Tokenizing queries...\n"
     ]
    },
    {
     "data": {
      "application/vnd.jupyter.widget-view+json": {
       "model_id": "1021d4990cd640ec9585b362b5fb3da6",
       "version_major": 2,
       "version_minor": 0
      },
      "text/plain": [
       "HBox(children=(FloatProgress(value=0.0, max=873.0), HTML(value='')))"
      ]
     },
     "metadata": {},
     "output_type": "display_data"
    },
    {
     "name": "stdout",
     "output_type": "stream",
     "text": [
      "\n"
     ]
    },
    {
     "data": {
      "application/vnd.jupyter.widget-view+json": {
       "model_id": "cc242c6569de4fae8baba65bfe970924",
       "version_major": 2,
       "version_minor": 0
      },
      "text/plain": [
       "HBox(children=(FloatProgress(value=0.0, max=154.0), HTML(value='')))"
      ]
     },
     "metadata": {},
     "output_type": "display_data"
    },
    {
     "name": "stdout",
     "output_type": "stream",
     "text": [
      "\n",
      "Done\n"
     ]
    }
   ],
   "source": [
    "from src.Trainer.DatasetHandler import DatasetHandler\n",
    "\n",
    "dataset_handler = DatasetHandler(\"data/data2.pkl\", frac=0.001)"
   ]
  },
  {
   "cell_type": "code",
   "execution_count": 182,
   "metadata": {},
   "outputs": [
    {
     "name": "stdout",
     "output_type": "stream",
     "text": [
      "DatasetDict({\n",
      "    train: Dataset({\n",
      "        features: ['__index_level_0__', 'attention_mask', 'input_ids', 'packageName', 'package_ids', 'queryText', 'similar', 'token_type_ids'],\n",
      "        num_rows: 27918\n",
      "    })\n",
      "    test: Dataset({\n",
      "        features: ['__index_level_0__', 'attention_mask', 'input_ids', 'packageName', 'package_ids', 'queryText', 'similar', 'token_type_ids'],\n",
      "        num_rows: 4927\n",
      "    })\n",
      "})\n"
     ]
    },
    {
     "data": {
      "text/html": [
       "<div>\n",
       "<style scoped>\n",
       "    .dataframe tbody tr th:only-of-type {\n",
       "        vertical-align: middle;\n",
       "    }\n",
       "\n",
       "    .dataframe tbody tr th {\n",
       "        vertical-align: top;\n",
       "    }\n",
       "\n",
       "    .dataframe thead th {\n",
       "        text-align: right;\n",
       "    }\n",
       "</style>\n",
       "<table border=\"1\" class=\"dataframe\">\n",
       "  <thead>\n",
       "    <tr style=\"text-align: right;\">\n",
       "      <th></th>\n",
       "      <th>__index_level_0__</th>\n",
       "      <th>attention_mask</th>\n",
       "      <th>input_ids</th>\n",
       "      <th>packageName</th>\n",
       "      <th>package_ids</th>\n",
       "      <th>queryText</th>\n",
       "      <th>similar</th>\n",
       "      <th>token_type_ids</th>\n",
       "    </tr>\n",
       "  </thead>\n",
       "  <tbody>\n",
       "    <tr>\n",
       "      <td>0</td>\n",
       "      <td>363</td>\n",
       "      <td>[1, 1, 1, 1, 1, 0, 0, 0, 0, 0, 0, 0, 0, 0]</td>\n",
       "      <td>[2, 2464, 17122, 6478, 4, 0, 0, 0, 0, 0, 0, 0,...</td>\n",
       "      <td>com.batmanforever.sard</td>\n",
       "      <td>[51923]</td>\n",
       "      <td>ساخت تیزر تبلیغاتی</td>\n",
       "      <td>-1</td>\n",
       "      <td>[0, 0, 0, 0, 0, 0, 0, 0, 0, 0, 0, 0, 0, 0]</td>\n",
       "    </tr>\n",
       "    <tr>\n",
       "      <td>1</td>\n",
       "      <td>16327</td>\n",
       "      <td>[1, 1, 1, 1, 0, 0, 0, 0, 0, 0, 0, 0, 0, 0]</td>\n",
       "      <td>[2, 90677, 46149, 4, 0, 0, 0, 0, 0, 0, 0, 0, 0...</td>\n",
       "      <td>ir.turk.book</td>\n",
       "      <td>[7891]</td>\n",
       "      <td>kantr</td>\n",
       "      <td>-1</td>\n",
       "      <td>[0, 0, 0, 0, 0, 0, 0, 0, 0, 0, 0, 0, 0, 0]</td>\n",
       "    </tr>\n",
       "    <tr>\n",
       "      <td>2</td>\n",
       "      <td>17556</td>\n",
       "      <td>[1, 1, 1, 1, 1, 1, 1, 1, 1, 1, 1, 1, 1, 1]</td>\n",
       "      <td>[2, 10582, 1198, 1, 37898, 1177, 1198, 1, 309,...</td>\n",
       "      <td>com.ansangha.drjb</td>\n",
       "      <td>[43406]</td>\n",
       "      <td>هتخ 7 هههخ 7822 ث 2 ثثث</td>\n",
       "      <td>1</td>\n",
       "      <td>[0, 0, 0, 0, 0, 0, 0, 0, 0, 0, 0, 0, 0, 0]</td>\n",
       "    </tr>\n",
       "    <tr>\n",
       "      <td>3</td>\n",
       "      <td>13863</td>\n",
       "      <td>[1, 1, 1, 1, 1, 1, 1, 0, 0, 0, 0, 0, 0, 0]</td>\n",
       "      <td>[2, 6877, 11040, 5076, 4511, 1, 4, 0, 0, 0, 0,...</td>\n",
       "      <td>com.refahcart_69210</td>\n",
       "      <td>[19898]</td>\n",
       "      <td>رمز تقلب جی تی 4</td>\n",
       "      <td>-1</td>\n",
       "      <td>[0, 0, 0, 0, 0, 0, 0, 0, 0, 0, 0, 0, 0, 0]</td>\n",
       "    </tr>\n",
       "    <tr>\n",
       "      <td>4</td>\n",
       "      <td>29173</td>\n",
       "      <td>[1, 1, 1, 1, 0, 0, 0, 0, 0, 0, 0, 0, 0, 0]</td>\n",
       "      <td>[2, 15990, 7428, 4, 0, 0, 0, 0, 0, 0, 0, 0, 0, 0]</td>\n",
       "      <td>ir.hnfadak.amaliyathayedefaemoghadasfarhangsar...</td>\n",
       "      <td>[51678]</td>\n",
       "      <td>بفرمایید شام</td>\n",
       "      <td>-1</td>\n",
       "      <td>[0, 0, 0, 0, 0, 0, 0, 0, 0, 0, 0, 0, 0, 0]</td>\n",
       "    </tr>\n",
       "    <tr>\n",
       "      <td>...</td>\n",
       "      <td>...</td>\n",
       "      <td>...</td>\n",
       "      <td>...</td>\n",
       "      <td>...</td>\n",
       "      <td>...</td>\n",
       "      <td>...</td>\n",
       "      <td>...</td>\n",
       "      <td>...</td>\n",
       "    </tr>\n",
       "    <tr>\n",
       "      <td>995</td>\n",
       "      <td>11910</td>\n",
       "      <td>[1, 1, 1, 1, 0, 0, 0, 0, 0]</td>\n",
       "      <td>[2, 21283, 1188, 4, 0, 0, 0, 0, 0]</td>\n",
       "      <td>com.UCMobile.intl</td>\n",
       "      <td>[28905]</td>\n",
       "      <td>upn</td>\n",
       "      <td>1</td>\n",
       "      <td>[0, 0, 0, 0, 0, 0, 0, 0, 0]</td>\n",
       "    </tr>\n",
       "    <tr>\n",
       "      <td>996</td>\n",
       "      <td>28072</td>\n",
       "      <td>[1, 1, 1, 0, 0, 0, 0, 0, 0]</td>\n",
       "      <td>[2, 11659, 4, 0, 0, 0, 0, 0, 0]</td>\n",
       "      <td>com.kanter.gameapp</td>\n",
       "      <td>[17165]</td>\n",
       "      <td>دیتا</td>\n",
       "      <td>1</td>\n",
       "      <td>[0, 0, 0, 0, 0, 0, 0, 0, 0]</td>\n",
       "    </tr>\n",
       "    <tr>\n",
       "      <td>997</td>\n",
       "      <td>3898</td>\n",
       "      <td>[1, 1, 1, 1, 0, 0, 0, 0, 0]</td>\n",
       "      <td>[2, 15089, 31912, 4, 0, 0, 0, 0, 0]</td>\n",
       "      <td>iran.hiandroid.axbefilm</td>\n",
       "      <td>[39026]</td>\n",
       "      <td>کیبوردجدید</td>\n",
       "      <td>-1</td>\n",
       "      <td>[0, 0, 0, 0, 0, 0, 0, 0, 0]</td>\n",
       "    </tr>\n",
       "    <tr>\n",
       "      <td>998</td>\n",
       "      <td>2418</td>\n",
       "      <td>[1, 1, 1, 0, 0, 0, 0, 0, 0]</td>\n",
       "      <td>[2, 2889, 4, 0, 0, 0, 0, 0, 0]</td>\n",
       "      <td>com.mohsen.app_locker</td>\n",
       "      <td>[73949]</td>\n",
       "      <td>امنیت</td>\n",
       "      <td>1</td>\n",
       "      <td>[0, 0, 0, 0, 0, 0, 0, 0, 0]</td>\n",
       "    </tr>\n",
       "    <tr>\n",
       "      <td>999</td>\n",
       "      <td>19918</td>\n",
       "      <td>[1, 1, 1, 1, 1, 1, 1, 1, 1]</td>\n",
       "      <td>[2, 35362, 5152, 23755, 4237, 5498, 5595, 3266...</td>\n",
       "      <td>flash.light.call</td>\n",
       "      <td>[21349]</td>\n",
       "      <td>چشمک زدن فلاش هنگام زنگ خوردن گوشی</td>\n",
       "      <td>1</td>\n",
       "      <td>[0, 0, 0, 0, 0, 0, 0, 0, 0]</td>\n",
       "    </tr>\n",
       "  </tbody>\n",
       "</table>\n",
       "<p>1000 rows × 8 columns</p>\n",
       "</div>"
      ],
      "text/plain": [
       "     __index_level_0__                              attention_mask  \\\n",
       "0                  363  [1, 1, 1, 1, 1, 0, 0, 0, 0, 0, 0, 0, 0, 0]   \n",
       "1                16327  [1, 1, 1, 1, 0, 0, 0, 0, 0, 0, 0, 0, 0, 0]   \n",
       "2                17556  [1, 1, 1, 1, 1, 1, 1, 1, 1, 1, 1, 1, 1, 1]   \n",
       "3                13863  [1, 1, 1, 1, 1, 1, 1, 0, 0, 0, 0, 0, 0, 0]   \n",
       "4                29173  [1, 1, 1, 1, 0, 0, 0, 0, 0, 0, 0, 0, 0, 0]   \n",
       "..                 ...                                         ...   \n",
       "995              11910                 [1, 1, 1, 1, 0, 0, 0, 0, 0]   \n",
       "996              28072                 [1, 1, 1, 0, 0, 0, 0, 0, 0]   \n",
       "997               3898                 [1, 1, 1, 1, 0, 0, 0, 0, 0]   \n",
       "998               2418                 [1, 1, 1, 0, 0, 0, 0, 0, 0]   \n",
       "999              19918                 [1, 1, 1, 1, 1, 1, 1, 1, 1]   \n",
       "\n",
       "                                             input_ids  \\\n",
       "0    [2, 2464, 17122, 6478, 4, 0, 0, 0, 0, 0, 0, 0,...   \n",
       "1    [2, 90677, 46149, 4, 0, 0, 0, 0, 0, 0, 0, 0, 0...   \n",
       "2    [2, 10582, 1198, 1, 37898, 1177, 1198, 1, 309,...   \n",
       "3    [2, 6877, 11040, 5076, 4511, 1, 4, 0, 0, 0, 0,...   \n",
       "4    [2, 15990, 7428, 4, 0, 0, 0, 0, 0, 0, 0, 0, 0, 0]   \n",
       "..                                                 ...   \n",
       "995                 [2, 21283, 1188, 4, 0, 0, 0, 0, 0]   \n",
       "996                    [2, 11659, 4, 0, 0, 0, 0, 0, 0]   \n",
       "997                [2, 15089, 31912, 4, 0, 0, 0, 0, 0]   \n",
       "998                     [2, 2889, 4, 0, 0, 0, 0, 0, 0]   \n",
       "999  [2, 35362, 5152, 23755, 4237, 5498, 5595, 3266...   \n",
       "\n",
       "                                           packageName package_ids  \\\n",
       "0                               com.batmanforever.sard     [51923]   \n",
       "1                                         ir.turk.book      [7891]   \n",
       "2                                    com.ansangha.drjb     [43406]   \n",
       "3                                  com.refahcart_69210     [19898]   \n",
       "4    ir.hnfadak.amaliyathayedefaemoghadasfarhangsar...     [51678]   \n",
       "..                                                 ...         ...   \n",
       "995                                  com.UCMobile.intl     [28905]   \n",
       "996                                 com.kanter.gameapp     [17165]   \n",
       "997                            iran.hiandroid.axbefilm     [39026]   \n",
       "998                              com.mohsen.app_locker     [73949]   \n",
       "999                                   flash.light.call     [21349]   \n",
       "\n",
       "                              queryText  similar  \\\n",
       "0                    ساخت تیزر تبلیغاتی       -1   \n",
       "1                                 kantr       -1   \n",
       "2               هتخ 7 هههخ 7822 ث 2 ثثث        1   \n",
       "3                      رمز تقلب جی تی 4       -1   \n",
       "4                          بفرمایید شام       -1   \n",
       "..                                  ...      ...   \n",
       "995                                 upn        1   \n",
       "996                                دیتا        1   \n",
       "997                          کیبوردجدید       -1   \n",
       "998                               امنیت        1   \n",
       "999  چشمک زدن فلاش هنگام زنگ خوردن گوشی        1   \n",
       "\n",
       "                                 token_type_ids  \n",
       "0    [0, 0, 0, 0, 0, 0, 0, 0, 0, 0, 0, 0, 0, 0]  \n",
       "1    [0, 0, 0, 0, 0, 0, 0, 0, 0, 0, 0, 0, 0, 0]  \n",
       "2    [0, 0, 0, 0, 0, 0, 0, 0, 0, 0, 0, 0, 0, 0]  \n",
       "3    [0, 0, 0, 0, 0, 0, 0, 0, 0, 0, 0, 0, 0, 0]  \n",
       "4    [0, 0, 0, 0, 0, 0, 0, 0, 0, 0, 0, 0, 0, 0]  \n",
       "..                                          ...  \n",
       "995                 [0, 0, 0, 0, 0, 0, 0, 0, 0]  \n",
       "996                 [0, 0, 0, 0, 0, 0, 0, 0, 0]  \n",
       "997                 [0, 0, 0, 0, 0, 0, 0, 0, 0]  \n",
       "998                 [0, 0, 0, 0, 0, 0, 0, 0, 0]  \n",
       "999                 [0, 0, 0, 0, 0, 0, 0, 0, 0]  \n",
       "\n",
       "[1000 rows x 8 columns]"
      ]
     },
     "execution_count": 182,
     "metadata": {},
     "output_type": "execute_result"
    }
   ],
   "source": [
    "import pandas as pd\n",
    "print(dataset_handler.get_dataset())\n",
    "dataset_handler.df\n",
    "pd.DataFrame(dataset_handler.get_dataset()[\"train\"][:1000])"
   ]
  },
  {
   "cell_type": "markdown",
   "metadata": {},
   "source": [
    "## Training"
   ]
  },
  {
   "cell_type": "code",
   "execution_count": 215,
   "metadata": {
    "scrolled": true
   },
   "outputs": [
    {
     "name": "stdout",
     "output_type": "stream",
     "text": [
      "Train on 27918 samples, test on 4927 samples\n",
      "----------------\n",
      "\n"
     ]
    },
    {
     "data": {
      "application/vnd.jupyter.widget-view+json": {
       "model_id": "f9f3b99b20e94f598df6aed9cab575a5",
       "version_major": 2,
       "version_minor": 0
      },
      "text/plain": [
       "HBox(children=(FloatProgress(value=0.0, description='[Epoch 1/3]', max=873.0, style=ProgressStyle(description_…"
      ]
     },
     "metadata": {},
     "output_type": "display_data"
    },
    {
     "name": "stdout",
     "output_type": "stream",
     "text": [
      "\n"
     ]
    },
    {
     "data": {
      "application/vnd.jupyter.widget-view+json": {
       "model_id": "ff2e5098f06c4c15ae33c747fbe0981c",
       "version_major": 2,
       "version_minor": 0
      },
      "text/plain": [
       "HBox(children=(FloatProgress(value=0.0, description='Test Loss', max=154.0, style=ProgressStyle(description_wi…"
      ]
     },
     "metadata": {},
     "output_type": "display_data"
    },
    {
     "name": "stdout",
     "output_type": "stream",
     "text": [
      "\n"
     ]
    },
    {
     "data": {
      "image/png": "[encoded data removed]",
      "text/plain": [
       "<Figure size 432x288 with 1 Axes>"
      ]
     },
     "metadata": {
      "needs_background": "light"
     },
     "output_type": "display_data"
    },
    {
     "name": "stdout",
     "output_type": "stream",
     "text": [
      "----------------\n",
      "\n"
     ]
    },
    {
     "data": {
      "application/vnd.jupyter.widget-view+json": {
       "model_id": "e701524cf5d448ba97739218567335bd",
       "version_major": 2,
       "version_minor": 0
      },
      "text/plain": [
       "HBox(children=(FloatProgress(value=0.0, description='[Epoch 2/3]', max=873.0, style=ProgressStyle(description_…"
      ]
     },
     "metadata": {},
     "output_type": "display_data"
    },
    {
     "name": "stdout",
     "output_type": "stream",
     "text": [
      "\n"
     ]
    },
    {
     "data": {
      "application/vnd.jupyter.widget-view+json": {
       "model_id": "c3754e41a8374afc8d65b1b6bb00bf0f",
       "version_major": 2,
       "version_minor": 0
      },
      "text/plain": [
       "HBox(children=(FloatProgress(value=0.0, description='Test Loss', max=154.0, style=ProgressStyle(description_wi…"
      ]
     },
     "metadata": {},
     "output_type": "display_data"
    },
    {
     "name": "stdout",
     "output_type": "stream",
     "text": [
      "\n"
     ]
    },
    {
     "data": {
      "image/png": "[encoded data removed]",
      "text/plain": [
       "<Figure size 432x288 with 1 Axes>"
      ]
     },
     "metadata": {
      "needs_background": "light"
     },
     "output_type": "display_data"
    },
    {
     "name": "stdout",
     "output_type": "stream",
     "text": [
      "----------------\n",
      "\n"
     ]
    },
    {
     "data": {
      "application/vnd.jupyter.widget-view+json": {
       "model_id": "97000411d16342fca7b47285f688d32c",
       "version_major": 2,
       "version_minor": 0
      },
      "text/plain": [
       "HBox(children=(FloatProgress(value=0.0, description='[Epoch 3/3]', max=873.0, style=ProgressStyle(description_…"
      ]
     },
     "metadata": {},
     "output_type": "display_data"
    },
    {
     "name": "stderr",
     "output_type": "stream",
     "text": [
      "ERROR:root:Internal Python error in the inspect module.\n",
      "Below is the traceback from this internal error.\n",
      "\n"
     ]
    },
    {
     "name": "stdout",
     "output_type": "stream",
     "text": [
      "\n",
      "Traceback (most recent call last):\n",
      "  File \"C:\\Users\\Mohsen\\Anaconda3\\lib\\site-packages\\IPython\\core\\interactiveshell.py\", line 3319, in run_code\n",
      "    exec(code_obj, self.user_global_ns, self.user_ns)\n",
      "  File \"<ipython-input-215-0114d13878a0>\", line 9, in <module>\n",
      "    trainer.train(epochs=3)\n",
      "  File \"F:\\Programming\\DNN\\Tapsell\\Task\\sponsored-search\\src\\Trainer\\Trainer.py\", line 54, in train\n",
      "    running_loss += loss.item()\n",
      "KeyboardInterrupt\n",
      "\n",
      "During handling of the above exception, another exception occurred:\n",
      "\n",
      "Traceback (most recent call last):\n",
      "  File \"C:\\Users\\Mohsen\\Anaconda3\\lib\\site-packages\\IPython\\core\\interactiveshell.py\", line 2034, in showtraceback\n",
      "    stb = value._render_traceback_()\n",
      "AttributeError: 'KeyboardInterrupt' object has no attribute '_render_traceback_'\n",
      "\n",
      "During handling of the above exception, another exception occurred:\n",
      "\n",
      "Traceback (most recent call last):\n",
      "  File \"C:\\Users\\Mohsen\\Anaconda3\\lib\\site-packages\\IPython\\core\\ultratb.py\", line 1101, in get_records\n",
      "    return _fixed_getinnerframes(etb, number_of_lines_of_context, tb_offset)\n",
      "  File \"C:\\Users\\Mohsen\\Anaconda3\\lib\\site-packages\\IPython\\core\\ultratb.py\", line 319, in wrapped\n",
      "    return f(*args, **kwargs)\n",
      "  File \"C:\\Users\\Mohsen\\Anaconda3\\lib\\site-packages\\IPython\\core\\ultratb.py\", line 353, in _fixed_getinnerframes\n",
      "    records = fix_frame_records_filenames(inspect.getinnerframes(etb, context))\n",
      "  File \"C:\\Users\\Mohsen\\Anaconda3\\lib\\inspect.py\", line 1502, in getinnerframes\n",
      "    frameinfo = (tb.tb_frame,) + getframeinfo(tb, context)\n",
      "  File \"C:\\Users\\Mohsen\\Anaconda3\\lib\\inspect.py\", line 1460, in getframeinfo\n",
      "    filename = getsourcefile(frame) or getfile(frame)\n",
      "  File \"C:\\Users\\Mohsen\\Anaconda3\\lib\\inspect.py\", line 696, in getsourcefile\n",
      "    if getattr(getmodule(object, filename), '__loader__', None) is not None:\n",
      "  File \"C:\\Users\\Mohsen\\Anaconda3\\lib\\inspect.py\", line 733, in getmodule\n",
      "    if ismodule(module) and hasattr(module, '__file__'):\n",
      "  File \"C:\\Users\\Mohsen\\Anaconda3\\lib\\site-packages\\tensorflow\\__init__.py\", line 50, in __getattr__\n",
      "    module = self._load()\n",
      "  File \"C:\\Users\\Mohsen\\Anaconda3\\lib\\site-packages\\tensorflow\\__init__.py\", line 44, in _load\n",
      "    module = _importlib.import_module(self.__name__)\n",
      "  File \"C:\\Users\\Mohsen\\Anaconda3\\lib\\importlib\\__init__.py\", line 127, in import_module\n",
      "    return _bootstrap._gcd_import(name[level:], package, level)\n",
      "  File \"<frozen importlib._bootstrap>\", line 1006, in _gcd_import\n",
      "  File \"<frozen importlib._bootstrap>\", line 983, in _find_and_load\n",
      "  File \"<frozen importlib._bootstrap>\", line 965, in _find_and_load_unlocked\n",
      "ModuleNotFoundError: No module named 'tensorflow_core.estimator'\n"
     ]
    },
    {
     "ename": "KeyboardInterrupt",
     "evalue": "",
     "output_type": "error",
     "traceback": [
      "\u001b[1;31m---------------------------------------------------------------------------\u001b[0m"
     ]
    }
   ],
   "source": [
    "import src.Trainer.RepresentationBuilder\n",
    "reload(src.Trainer.RepresentationBuilder)\n",
    "import src.Trainer.QueryAdCoordinator\n",
    "reload(src.Trainer.QueryAdCoordinator)\n",
    "import src.Trainer.Trainer\n",
    "reload(src.Trainer.Trainer)\n",
    "\n",
    "trainer = src.Trainer.Trainer.Trainer(embedding_dim=50, dataset_handler=dataset_handler, learning_rate=LEARNING_RATE)\n",
    "trainer.train(epochs=3)"
   ]
  },
  {
   "cell_type": "code",
   "execution_count": 216,
   "metadata": {
    "pycharm": {
     "is_executing": false,
     "name": "#%%\n"
    }
   },
   "outputs": [
    {
     "data": {
      "text/plain": [
       "QueryAdCoordinator(\n",
       "  (query_representation_builder): RepresentationBuilder(\n",
       "    (embedding): Embedding(100000, 50)\n",
       "    (pooling_module): SpanPoolingAvg()\n",
       "  )\n",
       "  (ad_representation_builder): RepresentationBuilder(\n",
       "    (embedding): Embedding(93592, 50)\n",
       "    (pooling_module): SpanPoolingAvg()\n",
       "  )\n",
       "  (loss): CosineEmbeddingLoss()\n",
       ")"
      ]
     },
     "execution_count": 216,
     "metadata": {},
     "output_type": "execute_result"
    }
   ],
   "source": [
    "trainer.query_ad_coordinator"
   ]
  },
  {
   "cell_type": "code",
   "execution_count": 217,
   "metadata": {},
   "outputs": [
    {
     "data": {
      "application/vnd.jupyter.widget-view+json": {
       "model_id": "11c84c398923408fad58f4a1bf897c92",
       "version_major": 2,
       "version_minor": 0
      },
      "text/plain": [
       "HBox(children=(FloatProgress(value=0.0, description='Building ad representations', max=93592.0, style=Progress…"
      ]
     },
     "metadata": {},
     "output_type": "display_data"
    },
    {
     "name": "stdout",
     "output_type": "stream",
     "text": [
      "\n",
      "torch.Size([93592, 50])\n",
      "Saved ad representations at representations/ad_reprs.pt\n"
     ]
    },
    {
     "data": {
      "application/vnd.jupyter.widget-view+json": {
       "model_id": "a939b13053c44b74a956f8839e0c3cdb",
       "version_major": 2,
       "version_minor": 0
      },
      "text/plain": [
       "HBox(children=(FloatProgress(value=0.0, description='Building vocab representations', max=100000.0, style=Prog…"
      ]
     },
     "metadata": {},
     "output_type": "display_data"
    },
    {
     "name": "stdout",
     "output_type": "stream",
     "text": [
      "\n",
      "100000\n",
      "Saved vocab representations at representations/vocab_reprs.pt\n"
     ]
    }
   ],
   "source": [
    "trainer.save_all_representations(ad_reprs_address=\"representations/ad_reprs.pt\",\n",
    "                                    vocab_reprs_address=\"representations/vocab_reprs.pt\",\n",
    "                                    id_to_package_address=\"representations/ad_id_to_package.pkl\")"
   ]
  },
  {
   "cell_type": "markdown",
   "metadata": {
    "pycharm": {
     "is_executing": false,
     "name": "#%%\n"
    }
   },
   "source": [
    "## Prediction"
   ]
  },
  {
   "cell_type": "code",
   "execution_count": 218,
   "metadata": {
    "pycharm": {
     "is_executing": true,
     "name": "#%%\n"
    }
   },
   "outputs": [
    {
     "name": "stdout",
     "output_type": "stream",
     "text": [
      "Loading tokenizer...\n",
      "Loading ad representations...\n",
      "Loading ad id to package...\n",
      "Loading vocab representations...\n"
     ]
    }
   ],
   "source": [
    "import src.Predictor.Predictor\n",
    "reload(src.Predictor.Predictor)\n",
    "\n",
    "predictor = src.Predictor.Predictor.Predictor(ad_reprs_address=\"representations/ad_reprs.pt\",\n",
    "                                              vocab_reprs_address=\"representations/vocab_reprs.pt\",\n",
    "                                              id_to_package_address=\"representations/ad_id_to_package.pkl\")"
   ]
  },
  {
   "cell_type": "code",
   "execution_count": 223,
   "metadata": {
    "pycharm": {
     "is_executing": true,
     "name": "#%%\n"
    }
   },
   "outputs": [
    {
     "name": "stdout",
     "output_type": "stream",
     "text": [
      "dist: 0.90257 com.mohsen.app_locker\n",
      "dist: 0.72858 com.cleanmaster.mguard\n",
      "dist: 0.71382 ir.part.app.signal\n",
      "dist: 0.71314 com.consoleco.console\n",
      "dist: 0.71146 com.tinylabproductions.automatronstanks.cafebazaar\n",
      "dist: 0.70649 se.hellothere.skilltwins\n",
      "dist: 0.70466 Ahmad.toystory\n",
      "dist: 0.70442 mhn.oscar\n",
      "dist: 0.70391 ir.acedev.typegraphi\n",
      "dist: 0.70384 com.estmob.android.sendanywhere\n"
     ]
    },
    {
     "data": {
      "text/plain": [
       "(['com.mohsen.app_locker',\n",
       "  'com.cleanmaster.mguard',\n",
       "  'ir.part.app.signal',\n",
       "  'com.consoleco.console',\n",
       "  'com.tinylabproductions.automatronstanks.cafebazaar',\n",
       "  'se.hellothere.skilltwins',\n",
       "  'Ahmad.toystory',\n",
       "  'mhn.oscar',\n",
       "  'ir.acedev.typegraphi',\n",
       "  'com.estmob.android.sendanywhere'],\n",
       " tensor([0.9026, 0.7286, 0.7138, 0.7131, 0.7115, 0.7065, 0.7047, 0.7044, 0.7039,\n",
       "         0.7038], grad_fn=<TopkBackward>),\n",
       " tensor([73949, 10921,  7599,  7941,  4499, 65113, 47259, 35440, 34310, 12911]),\n",
       " tensor([[ 0.4357, -0.6842,  0.5720,  1.4881, -0.3556, -0.6791, -1.4499, -0.7089,\n",
       "           0.3685,  0.3955,  0.8773, -0.1606,  0.4810, -0.8106,  0.7744, -0.1382,\n",
       "          -0.2627,  0.3659,  1.2855, -1.0304,  1.1394,  0.6231, -0.1610,  0.6963,\n",
       "           0.6669,  0.2208,  0.0844,  0.6533, -1.0687,  0.8213, -0.7562, -0.3963,\n",
       "          -1.5966, -1.3701, -0.3985, -0.2763, -0.4646, -1.1658, -0.6821,  0.6541,\n",
       "          -0.5540, -0.1343,  0.9037, -1.6488,  1.4031,  0.7478,  0.0320,  0.1033,\n",
       "           0.9033,  0.1703]], grad_fn=<DivBackward0>))"
      ]
     },
     "execution_count": 223,
     "metadata": {},
     "output_type": "execute_result"
    }
   ],
   "source": [
    "predictor.predict_from_query(\"امنیت\", full_results=True)"
   ]
  },
  {
   "cell_type": "markdown",
   "metadata": {},
   "source": [
    "### TSNE"
   ]
  },
  {
   "cell_type": "code",
   "execution_count": 220,
   "metadata": {},
   "outputs": [
    {
     "name": "stdout",
     "output_type": "stream",
     "text": [
      "dist: 0.82834 com.ea.game.pvzfree_row\n",
      "dist: 0.82634 net.telewebion\n",
      "dist: 0.81976 mhn.zambi\n",
      "dist: 0.79956 ir.part.app.signal\n",
      "dist: 0.78028 com.sega.sonicdash\n",
      "dist: 0.76609 com.cleanmaster.security_x86\n",
      "dist: 0.75664 com.feelingtouch.zf3d.farsi\n",
      "dist: 0.74688 air.com.FDGEntertainment.BloodyHarry\n",
      "dist: 0.74434 net.mobigame.zombietsunami\n",
      "dist: 0.74197 com.lenovo.anyshare.gps\n",
      "dist: 0.74088 com.imangi.templerun\n",
      "dist: 0.73953 ir.zback.lock\n",
      "dist: 0.73698 ir.basicapp.hcilk\n",
      "dist: 0.73377 com.ansangha.drjb\n",
      "dist: 0.73057 com.ovilex.bussimulator2015\n",
      "dist: 0.72648 com.agah.asatrader\n",
      "dist: 0.72482 com.hafizco.mobilebankansar\n",
      "dist: 0.72250 com.bau.asphaltparking\n",
      "dist: 0.71841 mobi.MultiCraft\n",
      "dist: 0.71767 com.tooskagroup.brokenscreen\n"
     ]
    },
    {
     "data": {
      "image/png": "[encoded data removed]",
      "text/plain": [
       "<Figure size 1008x1008 with 1 Axes>"
      ]
     },
     "metadata": {
      "needs_background": "light"
     },
     "output_type": "display_data"
    }
   ],
   "source": [
    "from sklearn.manifold import TSNE\n",
    "import matplotlib.pyplot as plt\n",
    "import torch\n",
    "\n",
    "top_k = 20\n",
    "query = \"زامبی\"\n",
    "\n",
    "packages, knn_values, knn_ids, query_repr = predictor.predict_from_query(query, full_results=True, k=top_k)\n",
    "\n",
    "reprs = torch.cat((predictor.ad_reprs[knn_ids], query_repr), dim=0).detach().numpy()\n",
    "\n",
    "id_to_name = []\n",
    "for idx in knn_ids:\n",
    "    id_to_name.append(predictor.ad_id_to_package[int(idx)])\n",
    "id_to_name.append(query)\n",
    "\n",
    "tsne = TSNE(metric='cosine', random_state=123)\n",
    "embed_tsne = tsne.fit_transform(reprs)\n",
    "fig, ax = plt.subplots(figsize=(14, 14))\n",
    "for idx in range(top_k + 1):\n",
    "    plt.scatter(*embed_tsne[idx, :], color='blue')\n",
    "    plt.title(\"TSNE\")\n",
    "    if idx == top_k:\n",
    "        color = \"red\"\n",
    "    else:\n",
    "        color = \"black\"\n",
    "    plt.annotate(id_to_name[idx], (embed_tsne[idx, 0], embed_tsne[idx, 1]), \n",
    "                 alpha=1, color=color, fontsize=14, xytext=(0, -10), va='top', ha='center', textcoords='offset points')\n"
   ]
  },
  {
   "cell_type": "code",
   "execution_count": null,
   "metadata": {},
   "outputs": [],
   "source": []
  }
 ],
 "metadata": {
  "kernelspec": {
   "display_name": "Python 3",
   "language": "python",
   "name": "python3"
  },
  "language_info": {
   "codemirror_mode": {
    "name": "ipython",
    "version": 3
   },
   "file_extension": ".py",
   "mimetype": "text/x-python",
   "name": "python",
   "nbconvert_exporter": "python",
   "pygments_lexer": "ipython3",
   "version": "3.7.3"
  },
  "pycharm": {
   "stem_cell": {
    "cell_type": "raw",
    "metadata": {
     "collapsed": false
    },
    "source": []
   }
  }
 },
 "nbformat": 4,
 "nbformat_minor": 1
}
