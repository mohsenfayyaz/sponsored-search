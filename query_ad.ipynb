{
 "cells": [
  {
   "cell_type": "code",
   "execution_count": 117,
   "metadata": {
    "pycharm": {
     "is_executing": false
    }
   },
   "outputs": [],
   "source": [
    "import pandas as pd\n",
    "from importlib import reload"
   ]
  },
  {
   "cell_type": "markdown",
   "metadata": {},
   "source": [
    "## Configs"
   ]
  },
  {
   "cell_type": "code",
   "execution_count": 118,
   "metadata": {},
   "outputs": [],
   "source": [
    "BATCH_SIZE = 32\n",
    "LEARNING_RATE = 5e-4"
   ]
  },
  {
   "cell_type": "markdown",
   "metadata": {},
   "source": [
    "## Preprocessing\n",
    "Negative Sampling the dataset"
   ]
  },
  {
   "cell_type": "code",
   "execution_count": 119,
   "metadata": {},
   "outputs": [],
   "source": [
    "# from src.Preprocess.Preprocessor import Preprocessor\n",
    "# Preprocessor.create_negative_sampled_dataset(input_address=\"data/SA_history_clicks_of_98.csv\", \n",
    "#                                                output_address=\"data/data1.pkl\", \n",
    "#                                                neg_to_pos_ratio=1)"
   ]
  },
  {
   "cell_type": "markdown",
   "metadata": {},
   "source": [
    "## DatasetHandler\n",
    "Preparing dataset for training"
   ]
  },
  {
   "cell_type": "code",
   "execution_count": 141,
   "metadata": {},
   "outputs": [
    {
     "name": "stdout",
     "output_type": "stream",
     "text": [
      "Loading tokenizer...\n",
      "Reading input file...\n"
     ]
    },
    {
     "data": {
      "application/vnd.jupyter.widget-view+json": {
       "model_id": "27d4e091ab984ea484b8096d20aef895",
       "version_major": 2,
       "version_minor": 0
      },
      "text/plain": [
       "HBox(children=(FloatProgress(value=0.0, description='Labeling Packages', max=93592.0, style=ProgressStyle(desc…"
      ]
     },
     "metadata": {},
     "output_type": "display_data"
    },
    {
     "name": "stdout",
     "output_type": "stream",
     "text": [
      "\n",
      "Shuffling dataset...\n",
      "Tokenizing ads...\n"
     ]
    },
    {
     "name": "stderr",
     "output_type": "stream",
     "text": [
      "C:\\Users\\Mohsen\\Anaconda3\\lib\\site-packages\\tqdm\\std.py:654: FutureWarning: The Panel class is removed from pandas. Accessing it from the top-level namespace will also be removed in the next version\n",
      "  from pandas import Panel\n"
     ]
    },
    {
     "data": {
      "application/vnd.jupyter.widget-view+json": {
       "model_id": "390f5dc6b7dd4c38ae01486ae1a7351d",
       "version_major": 2,
       "version_minor": 0
      },
      "text/plain": [
       "HBox(children=(FloatProgress(value=0.0, max=218964.0), HTML(value='')))"
      ]
     },
     "metadata": {},
     "output_type": "display_data"
    },
    {
     "name": "stdout",
     "output_type": "stream",
     "text": [
      "\n",
      "Creating dataset...\n",
      "Tokenizing queries...\n"
     ]
    },
    {
     "data": {
      "application/vnd.jupyter.widget-view+json": {
       "model_id": "c2a5994f9c5e42b1bca007e7699f3917",
       "version_major": 2,
       "version_minor": 0
      },
      "text/plain": [
       "HBox(children=(FloatProgress(value=0.0, max=5817.0), HTML(value='')))"
      ]
     },
     "metadata": {},
     "output_type": "display_data"
    },
    {
     "name": "stdout",
     "output_type": "stream",
     "text": [
      "\n"
     ]
    },
    {
     "data": {
      "application/vnd.jupyter.widget-view+json": {
       "model_id": "0d73b9cfd445465492f934e241f780ea",
       "version_major": 2,
       "version_minor": 0
      },
      "text/plain": [
       "HBox(children=(FloatProgress(value=0.0, max=1027.0), HTML(value='')))"
      ]
     },
     "metadata": {},
     "output_type": "display_data"
    },
    {
     "name": "stdout",
     "output_type": "stream",
     "text": [
      "\n",
      "Done\n"
     ]
    }
   ],
   "source": [
    "from src.Trainer.DatasetHandler import DatasetHandler\n",
    "\n",
    "dataset_handler = DatasetHandler(\"data/data1.pkl\", frac=0.01)\n",
    "# dataset_handler = DatasetHandler(\"data/data1.pkl\")"
   ]
  },
  {
   "cell_type": "code",
   "execution_count": 142,
   "metadata": {},
   "outputs": [
    {
     "name": "stdout",
     "output_type": "stream",
     "text": [
      "DatasetDict({\n",
      "    train: Dataset({\n",
      "        features: ['__index_level_0__', 'attention_mask', 'input_ids', 'packageName', 'package_ids', 'queryText', 'similar', 'token_type_ids'],\n",
      "        num_rows: 186119\n",
      "    })\n",
      "    test: Dataset({\n",
      "        features: ['__index_level_0__', 'attention_mask', 'input_ids', 'packageName', 'package_ids', 'queryText', 'similar', 'token_type_ids'],\n",
      "        num_rows: 32845\n",
      "    })\n",
      "})\n"
     ]
    },
    {
     "data": {
      "text/html": [
       "<div>\n",
       "<style scoped>\n",
       "    .dataframe tbody tr th:only-of-type {\n",
       "        vertical-align: middle;\n",
       "    }\n",
       "\n",
       "    .dataframe tbody tr th {\n",
       "        vertical-align: top;\n",
       "    }\n",
       "\n",
       "    .dataframe thead th {\n",
       "        text-align: right;\n",
       "    }\n",
       "</style>\n",
       "<table border=\"1\" class=\"dataframe\">\n",
       "  <thead>\n",
       "    <tr style=\"text-align: right;\">\n",
       "      <th></th>\n",
       "      <th>__index_level_0__</th>\n",
       "      <th>attention_mask</th>\n",
       "      <th>input_ids</th>\n",
       "      <th>packageName</th>\n",
       "      <th>package_ids</th>\n",
       "      <th>queryText</th>\n",
       "      <th>similar</th>\n",
       "      <th>token_type_ids</th>\n",
       "    </tr>\n",
       "  </thead>\n",
       "  <tbody>\n",
       "    <tr>\n",
       "      <td>0</td>\n",
       "      <td>48736</td>\n",
       "      <td>[1, 1, 1, 1, 1, 1, 1, 1, 1, 1]</td>\n",
       "      <td>[2, 10478, 2061, 2073, 50612, 8837, 7202, 3794...</td>\n",
       "      <td>com.siminalipor9.scanwifi</td>\n",
       "      <td>[88670]</td>\n",
       "      <td>هکون برای دانلد وای فای خونگی</td>\n",
       "      <td>1</td>\n",
       "      <td>[0, 0, 0, 0, 0, 0, 0, 0, 0, 0]</td>\n",
       "    </tr>\n",
       "    <tr>\n",
       "      <td>1</td>\n",
       "      <td>34465</td>\n",
       "      <td>[1, 1, 1, 1, 1, 1, 1, 0, 0, 0]</td>\n",
       "      <td>[2, 2385, 2417, 8216, 2686, 4203, 4, 0, 0, 0]</td>\n",
       "      <td>boma.boma.app</td>\n",
       "      <td>[73406]</td>\n",
       "      <td>برنامه جدید خاموش کردن صفحه</td>\n",
       "      <td>-1</td>\n",
       "      <td>[0, 0, 0, 0, 0, 0, 0, 0, 0, 0]</td>\n",
       "    </tr>\n",
       "    <tr>\n",
       "      <td>2</td>\n",
       "      <td>6085</td>\n",
       "      <td>[1, 1, 1, 1, 0, 0, 0, 0, 0, 0]</td>\n",
       "      <td>[2, 29341, 43729, 4, 0, 0, 0, 0, 0, 0]</td>\n",
       "      <td>ir.farazroid.LastDic</td>\n",
       "      <td>[89806]</td>\n",
       "      <td>speed test</td>\n",
       "      <td>-1</td>\n",
       "      <td>[0, 0, 0, 0, 0, 0, 0, 0, 0, 0]</td>\n",
       "    </tr>\n",
       "    <tr>\n",
       "      <td>3</td>\n",
       "      <td>182420</td>\n",
       "      <td>[1, 1, 1, 0, 0, 0, 0, 0, 0, 0]</td>\n",
       "      <td>[2, 36241, 4, 0, 0, 0, 0, 0, 0, 0]</td>\n",
       "      <td>com.google.android.apps.docs</td>\n",
       "      <td>[53922]</td>\n",
       "      <td>drive</td>\n",
       "      <td>1</td>\n",
       "      <td>[0, 0, 0, 0, 0, 0, 0, 0, 0, 0]</td>\n",
       "    </tr>\n",
       "    <tr>\n",
       "      <td>4</td>\n",
       "      <td>207816</td>\n",
       "      <td>[1, 1, 1, 1, 1, 0, 0, 0, 0, 0]</td>\n",
       "      <td>[2, 8468, 6896, 7849, 4, 0, 0, 0, 0, 0]</td>\n",
       "      <td>com.gisum.Story</td>\n",
       "      <td>[73148]</td>\n",
       "      <td>قصه توت فرنگی</td>\n",
       "      <td>1</td>\n",
       "      <td>[0, 0, 0, 0, 0, 0, 0, 0, 0, 0]</td>\n",
       "    </tr>\n",
       "    <tr>\n",
       "      <td>...</td>\n",
       "      <td>...</td>\n",
       "      <td>...</td>\n",
       "      <td>...</td>\n",
       "      <td>...</td>\n",
       "      <td>...</td>\n",
       "      <td>...</td>\n",
       "      <td>...</td>\n",
       "      <td>...</td>\n",
       "    </tr>\n",
       "    <tr>\n",
       "      <td>995</td>\n",
       "      <td>117849</td>\n",
       "      <td>[1, 1, 1, 1, 0, 0, 0, 0, 0, 0]</td>\n",
       "      <td>[2, 21050, 1154, 4, 0, 0, 0, 0, 0, 0]</td>\n",
       "      <td>ir.resaneh1.iptv</td>\n",
       "      <td>[59084]</td>\n",
       "      <td>روبینو</td>\n",
       "      <td>1</td>\n",
       "      <td>[0, 0, 0, 0, 0, 0, 0, 0, 0, 0]</td>\n",
       "    </tr>\n",
       "    <tr>\n",
       "      <td>996</td>\n",
       "      <td>85508</td>\n",
       "      <td>[1, 1, 1, 1, 0, 0, 0, 0, 0, 0]</td>\n",
       "      <td>[2, 45484, 30777, 4, 0, 0, 0, 0, 0, 0]</td>\n",
       "      <td>ir.shabihsazsantooor.niva</td>\n",
       "      <td>[2376]</td>\n",
       "      <td>lord king</td>\n",
       "      <td>-1</td>\n",
       "      <td>[0, 0, 0, 0, 0, 0, 0, 0, 0, 0]</td>\n",
       "    </tr>\n",
       "    <tr>\n",
       "      <td>997</td>\n",
       "      <td>180133</td>\n",
       "      <td>[1, 1, 1, 1, 0, 0, 0, 0, 0, 0]</td>\n",
       "      <td>[2, 51611, 1200, 4, 0, 0, 0, 0, 0, 0]</td>\n",
       "      <td>com.appsaz.wito138909</td>\n",
       "      <td>[83306]</td>\n",
       "      <td>wito</td>\n",
       "      <td>1</td>\n",
       "      <td>[0, 0, 0, 0, 0, 0, 0, 0, 0, 0]</td>\n",
       "    </tr>\n",
       "    <tr>\n",
       "      <td>998</td>\n",
       "      <td>148664</td>\n",
       "      <td>[1, 1, 1, 1, 1, 0, 0, 0, 0, 0]</td>\n",
       "      <td>[2, 22003, 8977, 10657, 4, 0, 0, 0, 0, 0]</td>\n",
       "      <td>ir.hamiiid.desr</td>\n",
       "      <td>[79053]</td>\n",
       "      <td>دسر پان اسپانیایی</td>\n",
       "      <td>1</td>\n",
       "      <td>[0, 0, 0, 0, 0, 0, 0, 0, 0, 0]</td>\n",
       "    </tr>\n",
       "    <tr>\n",
       "      <td>999</td>\n",
       "      <td>165205</td>\n",
       "      <td>[1, 1, 1, 1, 0, 0, 0, 0, 0, 0]</td>\n",
       "      <td>[2, 16656, 28047, 4, 0, 0, 0, 0, 0, 0]</td>\n",
       "      <td>media.audioplayer.musicplayer</td>\n",
       "      <td>[90327]</td>\n",
       "      <td>play music</td>\n",
       "      <td>1</td>\n",
       "      <td>[0, 0, 0, 0, 0, 0, 0, 0, 0, 0]</td>\n",
       "    </tr>\n",
       "  </tbody>\n",
       "</table>\n",
       "<p>1000 rows × 8 columns</p>\n",
       "</div>"
      ],
      "text/plain": [
       "     __index_level_0__                  attention_mask  \\\n",
       "0                48736  [1, 1, 1, 1, 1, 1, 1, 1, 1, 1]   \n",
       "1                34465  [1, 1, 1, 1, 1, 1, 1, 0, 0, 0]   \n",
       "2                 6085  [1, 1, 1, 1, 0, 0, 0, 0, 0, 0]   \n",
       "3               182420  [1, 1, 1, 0, 0, 0, 0, 0, 0, 0]   \n",
       "4               207816  [1, 1, 1, 1, 1, 0, 0, 0, 0, 0]   \n",
       "..                 ...                             ...   \n",
       "995             117849  [1, 1, 1, 1, 0, 0, 0, 0, 0, 0]   \n",
       "996              85508  [1, 1, 1, 1, 0, 0, 0, 0, 0, 0]   \n",
       "997             180133  [1, 1, 1, 1, 0, 0, 0, 0, 0, 0]   \n",
       "998             148664  [1, 1, 1, 1, 1, 0, 0, 0, 0, 0]   \n",
       "999             165205  [1, 1, 1, 1, 0, 0, 0, 0, 0, 0]   \n",
       "\n",
       "                                             input_ids  \\\n",
       "0    [2, 10478, 2061, 2073, 50612, 8837, 7202, 3794...   \n",
       "1        [2, 2385, 2417, 8216, 2686, 4203, 4, 0, 0, 0]   \n",
       "2               [2, 29341, 43729, 4, 0, 0, 0, 0, 0, 0]   \n",
       "3                   [2, 36241, 4, 0, 0, 0, 0, 0, 0, 0]   \n",
       "4              [2, 8468, 6896, 7849, 4, 0, 0, 0, 0, 0]   \n",
       "..                                                 ...   \n",
       "995              [2, 21050, 1154, 4, 0, 0, 0, 0, 0, 0]   \n",
       "996             [2, 45484, 30777, 4, 0, 0, 0, 0, 0, 0]   \n",
       "997              [2, 51611, 1200, 4, 0, 0, 0, 0, 0, 0]   \n",
       "998          [2, 22003, 8977, 10657, 4, 0, 0, 0, 0, 0]   \n",
       "999             [2, 16656, 28047, 4, 0, 0, 0, 0, 0, 0]   \n",
       "\n",
       "                       packageName package_ids                      queryText  \\\n",
       "0        com.siminalipor9.scanwifi     [88670]  هکون برای دانلد وای فای خونگی   \n",
       "1                    boma.boma.app     [73406]    برنامه جدید خاموش کردن صفحه   \n",
       "2             ir.farazroid.LastDic     [89806]                     speed test   \n",
       "3     com.google.android.apps.docs     [53922]                          drive   \n",
       "4                  com.gisum.Story     [73148]                  قصه توت فرنگی   \n",
       "..                             ...         ...                            ...   \n",
       "995               ir.resaneh1.iptv     [59084]                         روبینو   \n",
       "996      ir.shabihsazsantooor.niva      [2376]                      lord king   \n",
       "997          com.appsaz.wito138909     [83306]                           wito   \n",
       "998                ir.hamiiid.desr     [79053]              دسر پان اسپانیایی   \n",
       "999  media.audioplayer.musicplayer     [90327]                     play music   \n",
       "\n",
       "     similar                  token_type_ids  \n",
       "0          1  [0, 0, 0, 0, 0, 0, 0, 0, 0, 0]  \n",
       "1         -1  [0, 0, 0, 0, 0, 0, 0, 0, 0, 0]  \n",
       "2         -1  [0, 0, 0, 0, 0, 0, 0, 0, 0, 0]  \n",
       "3          1  [0, 0, 0, 0, 0, 0, 0, 0, 0, 0]  \n",
       "4          1  [0, 0, 0, 0, 0, 0, 0, 0, 0, 0]  \n",
       "..       ...                             ...  \n",
       "995        1  [0, 0, 0, 0, 0, 0, 0, 0, 0, 0]  \n",
       "996       -1  [0, 0, 0, 0, 0, 0, 0, 0, 0, 0]  \n",
       "997        1  [0, 0, 0, 0, 0, 0, 0, 0, 0, 0]  \n",
       "998        1  [0, 0, 0, 0, 0, 0, 0, 0, 0, 0]  \n",
       "999        1  [0, 0, 0, 0, 0, 0, 0, 0, 0, 0]  \n",
       "\n",
       "[1000 rows x 8 columns]"
      ]
     },
     "execution_count": 142,
     "metadata": {},
     "output_type": "execute_result"
    }
   ],
   "source": [
    "import pandas as pd\n",
    "print(dataset_handler.get_dataset())\n",
    "dataset_handler.df\n",
    "pd.DataFrame(dataset_handler.get_dataset()[\"train\"][:1000])"
   ]
  },
  {
   "cell_type": "markdown",
   "metadata": {},
   "source": [
    "## Training"
   ]
  },
  {
   "cell_type": "code",
   "execution_count": 150,
   "metadata": {
    "scrolled": true
   },
   "outputs": [
    {
     "name": "stdout",
     "output_type": "stream",
     "text": [
      "Train on 186119 samples, test on 32845 samples\n",
      "----------------\n",
      "\n"
     ]
    },
    {
     "data": {
      "application/vnd.jupyter.widget-view+json": {
       "model_id": "de9a064d0736445982f33b20f85c6316",
       "version_major": 2,
       "version_minor": 0
      },
      "text/plain": [
       "HBox(children=(FloatProgress(value=0.0, description='[Epoch 1/3]', max=5817.0, style=ProgressStyle(description…"
      ]
     },
     "metadata": {},
     "output_type": "display_data"
    },
    {
     "name": "stdout",
     "output_type": "stream",
     "text": [
      "\n"
     ]
    },
    {
     "data": {
      "application/vnd.jupyter.widget-view+json": {
       "model_id": "9c7a61063ab44fe6806a5beb833061cc",
       "version_major": 2,
       "version_minor": 0
      },
      "text/plain": [
       "HBox(children=(FloatProgress(value=0.0, description='Test Loss', max=1027.0, style=ProgressStyle(description_w…"
      ]
     },
     "metadata": {},
     "output_type": "display_data"
    },
    {
     "name": "stdout",
     "output_type": "stream",
     "text": [
      "\n"
     ]
    },
    {
     "data": {
      "image/png": "[encoded data removed]",
      "text/plain": [
       "<Figure size 432x288 with 1 Axes>"
      ]
     },
     "metadata": {
      "needs_background": "light"
     },
     "output_type": "display_data"
    },
    {
     "name": "stdout",
     "output_type": "stream",
     "text": [
      "----------------\n",
      "\n"
     ]
    },
    {
     "data": {
      "application/vnd.jupyter.widget-view+json": {
       "model_id": "f039737e33c04a1db5f280ee37f5605c",
       "version_major": 2,
       "version_minor": 0
      },
      "text/plain": [
       "HBox(children=(FloatProgress(value=0.0, description='[Epoch 2/3]', max=5817.0, style=ProgressStyle(description…"
      ]
     },
     "metadata": {},
     "output_type": "display_data"
    },
    {
     "name": "stdout",
     "output_type": "stream",
     "text": [
      "\n"
     ]
    },
    {
     "data": {
      "application/vnd.jupyter.widget-view+json": {
       "model_id": "10c9459f58fb4ece95926e8205d0a3d8",
       "version_major": 2,
       "version_minor": 0
      },
      "text/plain": [
       "HBox(children=(FloatProgress(value=0.0, description='Test Loss', max=1027.0, style=ProgressStyle(description_w…"
      ]
     },
     "metadata": {},
     "output_type": "display_data"
    },
    {
     "name": "stdout",
     "output_type": "stream",
     "text": [
      "\n"
     ]
    },
    {
     "data": {
      "image/png": "[encoded data removed]",
      "text/plain": [
       "<Figure size 432x288 with 1 Axes>"
      ]
     },
     "metadata": {
      "needs_background": "light"
     },
     "output_type": "display_data"
    },
    {
     "name": "stdout",
     "output_type": "stream",
     "text": [
      "----------------\n",
      "\n"
     ]
    },
    {
     "data": {
      "application/vnd.jupyter.widget-view+json": {
       "model_id": "cd0bb6d5689248b4bc45f270c560cd65",
       "version_major": 2,
       "version_minor": 0
      },
      "text/plain": [
       "HBox(children=(FloatProgress(value=0.0, description='[Epoch 3/3]', max=5817.0, style=ProgressStyle(description…"
      ]
     },
     "metadata": {},
     "output_type": "display_data"
    },
    {
     "name": "stdout",
     "output_type": "stream",
     "text": [
      "\n"
     ]
    },
    {
     "data": {
      "application/vnd.jupyter.widget-view+json": {
       "model_id": "97b316944c0f4d0cb30bb833aac2504e",
       "version_major": 2,
       "version_minor": 0
      },
      "text/plain": [
       "HBox(children=(FloatProgress(value=0.0, description='Test Loss', max=1027.0, style=ProgressStyle(description_w…"
      ]
     },
     "metadata": {},
     "output_type": "display_data"
    },
    {
     "name": "stdout",
     "output_type": "stream",
     "text": [
      "\n"
     ]
    },
    {
     "data": {
      "image/png": "[encoded data removed]",
      "text/plain": [
       "<Figure size 432x288 with 1 Axes>"
      ]
     },
     "metadata": {
      "needs_background": "light"
     },
     "output_type": "display_data"
    }
   ],
   "source": [
    "import src.Trainer.RepresentationBuilder\n",
    "reload(src.Trainer.RepresentationBuilder)\n",
    "import src.Trainer.QueryAdCoordinator\n",
    "reload(src.Trainer.QueryAdCoordinator)\n",
    "import src.Trainer.Trainer\n",
    "reload(src.Trainer.Trainer)\n",
    "\n",
    "trainer = src.Trainer.Trainer.Trainer(embedding_dim=50, dataset_handler=dataset_handler, learning_rate=LEARNING_RATE)\n",
    "trainer.train(epochs=3)"
   ]
  },
  {
   "cell_type": "code",
   "execution_count": 151,
   "metadata": {
    "pycharm": {
     "is_executing": false,
     "name": "#%%\n"
    }
   },
   "outputs": [
    {
     "data": {
      "text/plain": [
       "QueryAdCoordinator(\n",
       "  (query_representation_builder): RepresentationBuilder(\n",
       "    (embedding): Embedding(100000, 50)\n",
       "    (pooling_module): SpanPoolingAvg()\n",
       "  )\n",
       "  (ad_representation_builder): RepresentationBuilder(\n",
       "    (embedding): Embedding(93592, 50)\n",
       "    (pooling_module): SpanPoolingAvg()\n",
       "  )\n",
       "  (loss): CosineEmbeddingLoss()\n",
       ")"
      ]
     },
     "execution_count": 151,
     "metadata": {},
     "output_type": "execute_result"
    }
   ],
   "source": [
    "trainer.query_ad_coordinator"
   ]
  },
  {
   "cell_type": "code",
   "execution_count": 152,
   "metadata": {},
   "outputs": [
    {
     "data": {
      "application/vnd.jupyter.widget-view+json": {
       "model_id": "28d7e03005124e7785d692c47cc28cc7",
       "version_major": 2,
       "version_minor": 0
      },
      "text/plain": [
       "HBox(children=(FloatProgress(value=0.0, description='Building vocab representations', max=100000.0, style=Prog…"
      ]
     },
     "metadata": {},
     "output_type": "display_data"
    },
    {
     "name": "stdout",
     "output_type": "stream",
     "text": [
      "\n",
      "100000\n",
      "Saved vocab representations at representations/vocab_reprs.pt\n"
     ]
    },
    {
     "data": {
      "application/vnd.jupyter.widget-view+json": {
       "model_id": "08bac5bc65644c90a98b6e63009a0787",
       "version_major": 2,
       "version_minor": 0
      },
      "text/plain": [
       "HBox(children=(FloatProgress(value=0.0, description='Building ad representations', max=93592.0, style=Progress…"
      ]
     },
     "metadata": {},
     "output_type": "display_data"
    },
    {
     "name": "stdout",
     "output_type": "stream",
     "text": [
      "\n",
      "torch.Size([93592, 50])\n",
      "Saved ad representations at representations/ad_reprs.pt\n"
     ]
    }
   ],
   "source": [
    "trainer.save_all_representations(ad_reprs_address=\"representations/ad_reprs.pt\",\n",
    "                                    vocab_reprs_address=\"representations/vocab_reprs.pt\",\n",
    "                                    id_to_package_address=\"representations/ad_id_to_package.pkl\")"
   ]
  },
  {
   "cell_type": "markdown",
   "metadata": {
    "pycharm": {
     "is_executing": false,
     "name": "#%%\n"
    }
   },
   "source": [
    "## Prediction"
   ]
  },
  {
   "cell_type": "code",
   "execution_count": 153,
   "metadata": {
    "pycharm": {
     "is_executing": true,
     "name": "#%%\n"
    }
   },
   "outputs": [
    {
     "name": "stdout",
     "output_type": "stream",
     "text": [
      "Loading tokenizer...\n",
      "Loading ad representations...\n",
      "Loading ad id to package...\n",
      "Loading vocab representations...\n"
     ]
    }
   ],
   "source": [
    "import src.Predictor.Predictor\n",
    "reload(src.Predictor.Predictor)\n",
    "\n",
    "predictor = src.Predictor.Predictor.Predictor(ad_reprs_address=\"representations/ad_reprs.pt\",\n",
    "                                              vocab_reprs_address=\"representations/vocab_reprs.pt\",\n",
    "                                              id_to_package_address=\"representations/ad_id_to_package.pkl\")"
   ]
  },
  {
   "cell_type": "code",
   "execution_count": 156,
   "metadata": {
    "pycharm": {
     "is_executing": true,
     "name": "#%%\n"
    }
   },
   "outputs": [
    {
     "name": "stdout",
     "output_type": "stream",
     "text": [
      "dist: 0.99375 com.gameresort.stupidzombies\n",
      "dist: 0.99288 com.ea.game.pvzfree_row\n",
      "dist: 0.99053 net.mobigame.zombietsunami\n",
      "dist: 0.98826 com.feelingtouch.zf3d.farsi\n",
      "dist: 0.98741 com.auxbrain.zombie_highway\n",
      "dist: 0.98501 com.JESoftware.LastHopeSniperWar\n",
      "dist: 0.98263 com.mobirix.archerybigm\n",
      "dist: 0.98231 com.feelingtouch.gunzombie\n",
      "dist: 0.98213 com.ata13.bentenozambiha\n",
      "dist: 0.98160 air.com.noxgames.PuppetSoccer2014\n"
     ]
    },
    {
     "data": {
      "text/plain": [
       "(['com.gameresort.stupidzombies',\n",
       "  'com.ea.game.pvzfree_row',\n",
       "  'net.mobigame.zombietsunami',\n",
       "  'com.feelingtouch.zf3d.farsi',\n",
       "  'com.auxbrain.zombie_highway',\n",
       "  'com.JESoftware.LastHopeSniperWar',\n",
       "  'com.mobirix.archerybigm',\n",
       "  'com.feelingtouch.gunzombie',\n",
       "  'com.ata13.bentenozambiha',\n",
       "  'air.com.noxgames.PuppetSoccer2014'],\n",
       " tensor([0.9937, 0.9929, 0.9905, 0.9883, 0.9874, 0.9850, 0.9826, 0.9823, 0.9821,\n",
       "         0.9816], grad_fn=<TopkBackward>),\n",
       " tensor([46879, 26955,  8551, 88091, 26896, 77809, 53234, 40365, 62230, 74315]),\n",
       " tensor([[-7.2075,  9.3107, -4.1622,  8.9597,  5.3871, -4.2872, -9.3045, -8.3343,\n",
       "           9.9126, -3.9416, -9.5004, -9.0008,  9.2402,  6.5209,  3.2705,  8.9672,\n",
       "           8.8820,  7.5313, -8.2822,  9.8963,  9.0271, -7.6464, -9.0956, -1.6164,\n",
       "          -8.1645,  9.2530,  9.3118,  9.2691,  9.2607,  8.6454,  7.4114, -9.8200,\n",
       "          -9.7260, -4.3635, -9.9595,  8.9240,  9.8537,  8.9483, -8.0638, 10.4727,\n",
       "           7.9378, -8.6774, 10.0358,  9.2991,  7.9228, -7.9990, -9.7319,  7.0254,\n",
       "          -7.7068,  9.7964]], grad_fn=<DivBackward0>))"
      ]
     },
     "execution_count": 156,
     "metadata": {},
     "output_type": "execute_result"
    }
   ],
   "source": [
    "predictor.predict_from_query(\"زامبی\", full_results=True)"
   ]
  },
  {
   "cell_type": "markdown",
   "metadata": {},
   "source": [
    "### TSNE"
   ]
  },
  {
   "cell_type": "code",
   "execution_count": 157,
   "metadata": {},
   "outputs": [
    {
     "name": "stdout",
     "output_type": "stream",
     "text": [
      "dist: 0.99375 com.gameresort.stupidzombies\n",
      "dist: 0.99288 com.ea.game.pvzfree_row\n",
      "dist: 0.99053 net.mobigame.zombietsunami\n",
      "dist: 0.98826 com.feelingtouch.zf3d.farsi\n",
      "dist: 0.98741 com.auxbrain.zombie_highway\n",
      "dist: 0.98501 com.JESoftware.LastHopeSniperWar\n",
      "dist: 0.98263 com.mobirix.archerybigm\n",
      "dist: 0.98231 com.feelingtouch.gunzombie\n",
      "dist: 0.98213 com.ata13.bentenozambiha\n",
      "dist: 0.98160 air.com.noxgames.PuppetSoccer2014\n",
      "dist: 0.98150 com.avast.android.mobilesecurity\n",
      "dist: 0.98149 mhn.zambi\n",
      "dist: 0.98138 com.radarcustomer\n",
      "dist: 0.98135 com.aparat\n",
      "dist: 0.98135 com.outfit7.mytalkinghank\n",
      "dist: 0.98114 com.mobiliha.badesaba\n",
      "dist: 0.98106 com.instagram.android\n",
      "dist: 0.98065 com.calfordcn.gu\n",
      "dist: 0.98064 com.aa.extreme.city.gt.car.stunts\n",
      "dist: 0.98062 com.fantasticgs.GG\n"
     ]
    },
    {
     "data": {
      "image/png": "[encoded data removed]",
      "text/plain": [
       "<Figure size 1008x1008 with 1 Axes>"
      ]
     },
     "metadata": {
      "needs_background": "light"
     },
     "output_type": "display_data"
    }
   ],
   "source": [
    "from sklearn.manifold import TSNE\n",
    "import matplotlib.pyplot as plt\n",
    "import torch\n",
    "\n",
    "top_k = 20\n",
    "query = \"زامبی\"\n",
    "\n",
    "packages, knn_values, knn_ids, query_repr = predictor.predict_from_query(query, full_results=True, k=top_k)\n",
    "\n",
    "reprs = torch.cat((predictor.ad_reprs[knn_ids], query_repr), dim=0).detach().numpy()\n",
    "\n",
    "id_to_name = []\n",
    "for idx in knn_ids:\n",
    "    id_to_name.append(predictor.ad_id_to_package[int(idx)])\n",
    "id_to_name.append(query)\n",
    "\n",
    "tsne = TSNE(metric='cosine', random_state=123)\n",
    "embed_tsne = tsne.fit_transform(reprs)\n",
    "fig, ax = plt.subplots(figsize=(14, 14))\n",
    "for idx in range(top_k + 1):\n",
    "    plt.scatter(*embed_tsne[idx, :], color='blue')\n",
    "    plt.title(\"TSNE\")\n",
    "    if idx == top_k:\n",
    "        color = \"red\"\n",
    "    else:\n",
    "        color = \"black\"\n",
    "    plt.annotate(id_to_name[idx], (embed_tsne[idx, 0], embed_tsne[idx, 1]), \n",
    "                 alpha=1, color=color, fontsize=14, xytext=(0, -10), va='top', ha='center', textcoords='offset points')\n"
   ]
  },
  {
   "cell_type": "code",
   "execution_count": null,
   "metadata": {},
   "outputs": [],
   "source": []
  }
 ],
 "metadata": {
  "kernelspec": {
   "display_name": "Python 3",
   "language": "python",
   "name": "python3"
  },
  "language_info": {
   "codemirror_mode": {
    "name": "ipython",
    "version": 3
   },
   "file_extension": ".py",
   "mimetype": "text/x-python",
   "name": "python",
   "nbconvert_exporter": "python",
   "pygments_lexer": "ipython3",
   "version": "3.7.3"
  },
  "pycharm": {
   "stem_cell": {
    "cell_type": "raw",
    "metadata": {
     "collapsed": false
    },
    "source": []
   }
  }
 },
 "nbformat": 4,
 "nbformat_minor": 1
}
