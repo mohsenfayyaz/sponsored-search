{
 "cells": [
  {
   "cell_type": "code",
   "execution_count": 117,
   "metadata": {
    "pycharm": {
     "is_executing": false
    }
   },
   "outputs": [],
   "source": [
    "import pandas as pd\n",
    "from importlib import reload"
   ]
  },
  {
   "cell_type": "markdown",
   "metadata": {},
   "source": [
    "## Configs"
   ]
  },
  {
   "cell_type": "code",
   "execution_count": 118,
   "metadata": {},
   "outputs": [],
   "source": [
    "BATCH_SIZE = 32\n",
    "LEARNING_RATE = 5e-4"
   ]
  },
  {
   "cell_type": "markdown",
   "metadata": {},
   "source": [
    "## Preprocessing\n",
    "Negative Sampling the dataset"
   ]
  },
  {
   "cell_type": "code",
   "execution_count": 178,
   "metadata": {},
   "outputs": [
    {
     "name": "stdout",
     "output_type": "stream",
     "text": [
      "Reading input file data/SA_history_clicks_of_98.csv\n"
     ]
    },
    {
     "data": {
      "application/vnd.jupyter.widget-view+json": {
       "model_id": "0d1376c026cc41d5a2ce7a99bc079285",
       "version_major": 2,
       "version_minor": 0
      },
      "text/plain": [
       "HBox(children=(FloatProgress(value=0.0, max=10948192.0), HTML(value='')))"
      ]
     },
     "metadata": {},
     "output_type": "display_data"
    },
    {
     "name": "stdout",
     "output_type": "stream",
     "text": [
      "\n",
      "File created at data/data2.pkl\n"
     ]
    },
    {
     "data": {
      "text/html": [
       "<div>\n",
       "<style scoped>\n",
       "    .dataframe tbody tr th:only-of-type {\n",
       "        vertical-align: middle;\n",
       "    }\n",
       "\n",
       "    .dataframe tbody tr th {\n",
       "        vertical-align: top;\n",
       "    }\n",
       "\n",
       "    .dataframe thead th {\n",
       "        text-align: right;\n",
       "    }\n",
       "</style>\n",
       "<table border=\"1\" class=\"dataframe\">\n",
       "  <thead>\n",
       "    <tr style=\"text-align: right;\">\n",
       "      <th></th>\n",
       "      <th>queryText</th>\n",
       "      <th>packageName</th>\n",
       "      <th>similar</th>\n",
       "    </tr>\n",
       "  </thead>\n",
       "  <tbody>\n",
       "    <tr>\n",
       "      <td>0</td>\n",
       "      <td>توشمال</td>\n",
       "      <td>com.example.masood.yocheneapp</td>\n",
       "      <td>1</td>\n",
       "    </tr>\n",
       "    <tr>\n",
       "      <td>1</td>\n",
       "      <td>rush</td>\n",
       "      <td>com.ketchapp.rush</td>\n",
       "      <td>1</td>\n",
       "    </tr>\n",
       "    <tr>\n",
       "      <td>2</td>\n",
       "      <td>شب چله</td>\n",
       "      <td>yalda.ir.kr.si.ma.usn</td>\n",
       "      <td>1</td>\n",
       "    </tr>\n",
       "    <tr>\n",
       "      <td>3</td>\n",
       "      <td>عشق</td>\n",
       "      <td>com.roman.jadogareeshgh</td>\n",
       "      <td>1</td>\n",
       "    </tr>\n",
       "    <tr>\n",
       "      <td>4</td>\n",
       "      <td>کلابی</td>\n",
       "      <td>ir.mmdali.cluby</td>\n",
       "      <td>1</td>\n",
       "    </tr>\n",
       "    <tr>\n",
       "      <td>...</td>\n",
       "      <td>...</td>\n",
       "      <td>...</td>\n",
       "      <td>...</td>\n",
       "    </tr>\n",
       "    <tr>\n",
       "      <td>32844571</td>\n",
       "      <td>فرار از جنگل</td>\n",
       "      <td>com.morabaerangi.morabirangii</td>\n",
       "      <td>-1</td>\n",
       "    </tr>\n",
       "    <tr>\n",
       "      <td>32844572</td>\n",
       "      <td>روبینو</td>\n",
       "      <td>eu.softwareworkshop.brokenscreen</td>\n",
       "      <td>-1</td>\n",
       "    </tr>\n",
       "    <tr>\n",
       "      <td>32844573</td>\n",
       "      <td>روبینو</td>\n",
       "      <td>com.rovio.retry</td>\n",
       "      <td>-1</td>\n",
       "    </tr>\n",
       "    <tr>\n",
       "      <td>32844574</td>\n",
       "      <td>کاهتهتخنتالفل 644 علیر</td>\n",
       "      <td>mhn.king</td>\n",
       "      <td>-1</td>\n",
       "    </tr>\n",
       "    <tr>\n",
       "      <td>32844575</td>\n",
       "      <td>کاهتهتخنتالفل 644 علیر</td>\n",
       "      <td>Ghasem.Game.Ordoo</td>\n",
       "      <td>-1</td>\n",
       "    </tr>\n",
       "  </tbody>\n",
       "</table>\n",
       "<p>32844576 rows × 3 columns</p>\n",
       "</div>"
      ],
      "text/plain": [
       "                       queryText                       packageName  similar\n",
       "0                         توشمال     com.example.masood.yocheneapp        1\n",
       "1                           rush                 com.ketchapp.rush        1\n",
       "2                         شب چله             yalda.ir.kr.si.ma.usn        1\n",
       "3                            عشق           com.roman.jadogareeshgh        1\n",
       "4                          کلابی                   ir.mmdali.cluby        1\n",
       "...                          ...                               ...      ...\n",
       "32844571            فرار از جنگل     com.morabaerangi.morabirangii       -1\n",
       "32844572                  روبینو  eu.softwareworkshop.brokenscreen       -1\n",
       "32844573                  روبینو                   com.rovio.retry       -1\n",
       "32844574  کاهتهتخنتالفل 644 علیر                          mhn.king       -1\n",
       "32844575  کاهتهتخنتالفل 644 علیر                 Ghasem.Game.Ordoo       -1\n",
       "\n",
       "[32844576 rows x 3 columns]"
      ]
     },
     "execution_count": 178,
     "metadata": {},
     "output_type": "execute_result"
    }
   ],
   "source": [
    "from src.Preprocess.Preprocessor import Preprocessor\n",
    "Preprocessor.create_negative_sampled_dataset(input_address=\"data/SA_history_clicks_of_98.csv\", \n",
    "                                               output_address=\"data/data2.pkl\", \n",
    "                                               neg_to_pos_ratio=2)"
   ]
  },
  {
   "cell_type": "markdown",
   "metadata": {},
   "source": [
    "## DatasetHandler\n",
    "Preparing dataset for training"
   ]
  },
  {
   "cell_type": "code",
   "execution_count": 227,
   "metadata": {},
   "outputs": [
    {
     "name": "stdout",
     "output_type": "stream",
     "text": [
      "Loading tokenizer...\n",
      "Reading input file...\n"
     ]
    },
    {
     "data": {
      "application/vnd.jupyter.widget-view+json": {
       "model_id": "8e8626ff03b3493286e9b92d0fe78f47",
       "version_major": 2,
       "version_minor": 0
      },
      "text/plain": [
       "HBox(children=(FloatProgress(value=0.0, description='Labeling Packages', max=93592.0, style=ProgressStyle(desc…"
      ]
     },
     "metadata": {},
     "output_type": "display_data"
    },
    {
     "name": "stdout",
     "output_type": "stream",
     "text": [
      "\n",
      "Shuffling dataset...\n",
      "Tokenizing ads...\n"
     ]
    },
    {
     "name": "stderr",
     "output_type": "stream",
     "text": [
      "C:\\Users\\Mohsen\\Anaconda3\\lib\\site-packages\\tqdm\\std.py:654: FutureWarning: The Panel class is removed from pandas. Accessing it from the top-level namespace will also be removed in the next version\n",
      "  from pandas import Panel\n"
     ]
    },
    {
     "data": {
      "application/vnd.jupyter.widget-view+json": {
       "model_id": "12c3051140d44b1eb3cf0b8db8ad0c5e",
       "version_major": 2,
       "version_minor": 0
      },
      "text/plain": [
       "HBox(children=(FloatProgress(value=0.0, max=3284458.0), HTML(value='')))"
      ]
     },
     "metadata": {},
     "output_type": "display_data"
    },
    {
     "name": "stdout",
     "output_type": "stream",
     "text": [
      "\n",
      "Creating dataset...\n",
      "Tokenizing queries...\n"
     ]
    },
    {
     "data": {
      "application/vnd.jupyter.widget-view+json": {
       "model_id": "4a6a38c67b8c4d84a5464dacf276b68a",
       "version_major": 2,
       "version_minor": 0
      },
      "text/plain": [
       "HBox(children=(FloatProgress(value=0.0, max=87244.0), HTML(value='')))"
      ]
     },
     "metadata": {},
     "output_type": "display_data"
    },
    {
     "name": "stdout",
     "output_type": "stream",
     "text": [
      "\n"
     ]
    },
    {
     "data": {
      "application/vnd.jupyter.widget-view+json": {
       "model_id": "0b7e1468b3c8438189144e4e0b59b945",
       "version_major": 2,
       "version_minor": 0
      },
      "text/plain": [
       "HBox(children=(FloatProgress(value=0.0, max=15396.0), HTML(value='')))"
      ]
     },
     "metadata": {},
     "output_type": "display_data"
    },
    {
     "name": "stdout",
     "output_type": "stream",
     "text": [
      "\n",
      "Done\n"
     ]
    }
   ],
   "source": [
    "from src.Trainer.DatasetHandler import DatasetHandler\n",
    "\n",
    "dataset_handler = DatasetHandler(\"data/data2.pkl\", frac=0.1)"
   ]
  },
  {
   "cell_type": "code",
   "execution_count": 228,
   "metadata": {},
   "outputs": [
    {
     "name": "stdout",
     "output_type": "stream",
     "text": [
      "DatasetDict({\n",
      "    train: Dataset({\n",
      "        features: ['__index_level_0__', 'attention_mask', 'input_ids', 'packageName', 'package_ids', 'queryText', 'similar', 'token_type_ids'],\n",
      "        num_rows: 2791789\n",
      "    })\n",
      "    test: Dataset({\n",
      "        features: ['__index_level_0__', 'attention_mask', 'input_ids', 'packageName', 'package_ids', 'queryText', 'similar', 'token_type_ids'],\n",
      "        num_rows: 492669\n",
      "    })\n",
      "})\n"
     ]
    },
    {
     "data": {
      "text/html": [
       "<div>\n",
       "<style scoped>\n",
       "    .dataframe tbody tr th:only-of-type {\n",
       "        vertical-align: middle;\n",
       "    }\n",
       "\n",
       "    .dataframe tbody tr th {\n",
       "        vertical-align: top;\n",
       "    }\n",
       "\n",
       "    .dataframe thead th {\n",
       "        text-align: right;\n",
       "    }\n",
       "</style>\n",
       "<table border=\"1\" class=\"dataframe\">\n",
       "  <thead>\n",
       "    <tr style=\"text-align: right;\">\n",
       "      <th></th>\n",
       "      <th>__index_level_0__</th>\n",
       "      <th>attention_mask</th>\n",
       "      <th>input_ids</th>\n",
       "      <th>packageName</th>\n",
       "      <th>package_ids</th>\n",
       "      <th>queryText</th>\n",
       "      <th>similar</th>\n",
       "      <th>token_type_ids</th>\n",
       "    </tr>\n",
       "  </thead>\n",
       "  <tbody>\n",
       "    <tr>\n",
       "      <td>0</td>\n",
       "      <td>86365</td>\n",
       "      <td>[1, 1, 1, 1, 0, 0, 0, 0, 0]</td>\n",
       "      <td>[2, 2120, 28111, 4, 0, 0, 0, 0, 0]</td>\n",
       "      <td>ir.sapp.ssms</td>\n",
       "      <td>[33546]</td>\n",
       "      <td>اس دلتنگی</td>\n",
       "      <td>1</td>\n",
       "      <td>[0, 0, 0, 0, 0, 0, 0, 0, 0]</td>\n",
       "    </tr>\n",
       "    <tr>\n",
       "      <td>1</td>\n",
       "      <td>636731</td>\n",
       "      <td>[1, 1, 1, 0, 0, 0, 0, 0, 0]</td>\n",
       "      <td>[2, 13898, 4, 0, 0, 0, 0, 0, 0]</td>\n",
       "      <td>com.viamgr.ebook.qomchto</td>\n",
       "      <td>[91258]</td>\n",
       "      <td>تت</td>\n",
       "      <td>-1</td>\n",
       "      <td>[0, 0, 0, 0, 0, 0, 0, 0, 0]</td>\n",
       "    </tr>\n",
       "    <tr>\n",
       "      <td>2</td>\n",
       "      <td>1698834</td>\n",
       "      <td>[1, 1, 1, 1, 0, 0, 0, 0, 0]</td>\n",
       "      <td>[2, 62995, 53111, 4, 0, 0, 0, 0, 0]</td>\n",
       "      <td>com.iran.videodownloaderforinstagram</td>\n",
       "      <td>[25604]</td>\n",
       "      <td>movie maker</td>\n",
       "      <td>-1</td>\n",
       "      <td>[0, 0, 0, 0, 0, 0, 0, 0, 0]</td>\n",
       "    </tr>\n",
       "    <tr>\n",
       "      <td>3</td>\n",
       "      <td>1179707</td>\n",
       "      <td>[1, 1, 1, 1, 0, 0, 0, 0, 0]</td>\n",
       "      <td>[2, 8447, 4856, 4, 0, 0, 0, 0, 0]</td>\n",
       "      <td>ir.sabereen.ninima</td>\n",
       "      <td>[43733]</td>\n",
       "      <td>نوشتن اسم</td>\n",
       "      <td>-1</td>\n",
       "      <td>[0, 0, 0, 0, 0, 0, 0, 0, 0]</td>\n",
       "    </tr>\n",
       "    <tr>\n",
       "      <td>4</td>\n",
       "      <td>2108773</td>\n",
       "      <td>[1, 1, 1, 0, 0, 0, 0, 0, 0]</td>\n",
       "      <td>[2, 85974, 4, 0, 0, 0, 0, 0, 0]</td>\n",
       "      <td>ir.JavadRastad.Tasvirak</td>\n",
       "      <td>[43203]</td>\n",
       "      <td>کفشدوزک</td>\n",
       "      <td>1</td>\n",
       "      <td>[0, 0, 0, 0, 0, 0, 0, 0, 0]</td>\n",
       "    </tr>\n",
       "    <tr>\n",
       "      <td>...</td>\n",
       "      <td>...</td>\n",
       "      <td>...</td>\n",
       "      <td>...</td>\n",
       "      <td>...</td>\n",
       "      <td>...</td>\n",
       "      <td>...</td>\n",
       "      <td>...</td>\n",
       "      <td>...</td>\n",
       "    </tr>\n",
       "    <tr>\n",
       "      <td>995</td>\n",
       "      <td>2116861</td>\n",
       "      <td>[1, 1, 1, 1, 0, 0, 0, 0, 0, 0, 0]</td>\n",
       "      <td>[2, 2298, 9598, 4, 0, 0, 0, 0, 0, 0, 0]</td>\n",
       "      <td>com.accogroup.bodysize</td>\n",
       "      <td>[27117]</td>\n",
       "      <td>افزایش سایز</td>\n",
       "      <td>1</td>\n",
       "      <td>[0, 0, 0, 0, 0, 0, 0, 0, 0, 0, 0]</td>\n",
       "    </tr>\n",
       "    <tr>\n",
       "      <td>996</td>\n",
       "      <td>2925315</td>\n",
       "      <td>[1, 1, 1, 0, 0, 0, 0, 0, 0, 0, 0]</td>\n",
       "      <td>[2, 2221, 4, 0, 0, 0, 0, 0, 0, 0, 0]</td>\n",
       "      <td>berooz.tarinha.app.name.rasmi</td>\n",
       "      <td>[3006]</td>\n",
       "      <td>ساز</td>\n",
       "      <td>-1</td>\n",
       "      <td>[0, 0, 0, 0, 0, 0, 0, 0, 0, 0, 0]</td>\n",
       "    </tr>\n",
       "    <tr>\n",
       "      <td>997</td>\n",
       "      <td>1956869</td>\n",
       "      <td>[1, 1, 1, 1, 1, 1, 0, 0, 0, 0, 0]</td>\n",
       "      <td>[2, 86551, 19469, 25158, 5928, 4, 0, 0, 0, 0, 0]</td>\n",
       "      <td>sarfe.goei.dar.zandegi</td>\n",
       "      <td>[21803]</td>\n",
       "      <td>vidcompact</td>\n",
       "      <td>-1</td>\n",
       "      <td>[0, 0, 0, 0, 0, 0, 0, 0, 0, 0, 0]</td>\n",
       "    </tr>\n",
       "    <tr>\n",
       "      <td>998</td>\n",
       "      <td>2517064</td>\n",
       "      <td>[1, 1, 1, 1, 0, 0, 0, 0, 0, 0, 0]</td>\n",
       "      <td>[2, 37296, 3559, 4, 0, 0, 0, 0, 0, 0, 0]</td>\n",
       "      <td>ir.pdf.king.hadi</td>\n",
       "      <td>[13584]</td>\n",
       "      <td>pv خوان</td>\n",
       "      <td>1</td>\n",
       "      <td>[0, 0, 0, 0, 0, 0, 0, 0, 0, 0, 0]</td>\n",
       "    </tr>\n",
       "    <tr>\n",
       "      <td>999</td>\n",
       "      <td>867858</td>\n",
       "      <td>[1, 1, 1, 1, 1, 0, 0, 0, 0, 0, 0]</td>\n",
       "      <td>[2, 19187, 2082, 2591, 4, 0, 0, 0, 0, 0, 0]</td>\n",
       "      <td>com.fddit.urmia</td>\n",
       "      <td>[66980]</td>\n",
       "      <td>ببسی مان</td>\n",
       "      <td>-1</td>\n",
       "      <td>[0, 0, 0, 0, 0, 0, 0, 0, 0, 0, 0]</td>\n",
       "    </tr>\n",
       "  </tbody>\n",
       "</table>\n",
       "<p>1000 rows × 8 columns</p>\n",
       "</div>"
      ],
      "text/plain": [
       "     __index_level_0__                     attention_mask  \\\n",
       "0                86365        [1, 1, 1, 1, 0, 0, 0, 0, 0]   \n",
       "1               636731        [1, 1, 1, 0, 0, 0, 0, 0, 0]   \n",
       "2              1698834        [1, 1, 1, 1, 0, 0, 0, 0, 0]   \n",
       "3              1179707        [1, 1, 1, 1, 0, 0, 0, 0, 0]   \n",
       "4              2108773        [1, 1, 1, 0, 0, 0, 0, 0, 0]   \n",
       "..                 ...                                ...   \n",
       "995            2116861  [1, 1, 1, 1, 0, 0, 0, 0, 0, 0, 0]   \n",
       "996            2925315  [1, 1, 1, 0, 0, 0, 0, 0, 0, 0, 0]   \n",
       "997            1956869  [1, 1, 1, 1, 1, 1, 0, 0, 0, 0, 0]   \n",
       "998            2517064  [1, 1, 1, 1, 0, 0, 0, 0, 0, 0, 0]   \n",
       "999             867858  [1, 1, 1, 1, 1, 0, 0, 0, 0, 0, 0]   \n",
       "\n",
       "                                            input_ids  \\\n",
       "0                  [2, 2120, 28111, 4, 0, 0, 0, 0, 0]   \n",
       "1                     [2, 13898, 4, 0, 0, 0, 0, 0, 0]   \n",
       "2                 [2, 62995, 53111, 4, 0, 0, 0, 0, 0]   \n",
       "3                   [2, 8447, 4856, 4, 0, 0, 0, 0, 0]   \n",
       "4                     [2, 85974, 4, 0, 0, 0, 0, 0, 0]   \n",
       "..                                                ...   \n",
       "995           [2, 2298, 9598, 4, 0, 0, 0, 0, 0, 0, 0]   \n",
       "996              [2, 2221, 4, 0, 0, 0, 0, 0, 0, 0, 0]   \n",
       "997  [2, 86551, 19469, 25158, 5928, 4, 0, 0, 0, 0, 0]   \n",
       "998          [2, 37296, 3559, 4, 0, 0, 0, 0, 0, 0, 0]   \n",
       "999       [2, 19187, 2082, 2591, 4, 0, 0, 0, 0, 0, 0]   \n",
       "\n",
       "                              packageName package_ids    queryText  similar  \\\n",
       "0                            ir.sapp.ssms     [33546]    اس دلتنگی        1   \n",
       "1                com.viamgr.ebook.qomchto     [91258]           تت       -1   \n",
       "2    com.iran.videodownloaderforinstagram     [25604]  movie maker       -1   \n",
       "3                      ir.sabereen.ninima     [43733]    نوشتن اسم       -1   \n",
       "4                 ir.JavadRastad.Tasvirak     [43203]      کفشدوزک        1   \n",
       "..                                    ...         ...          ...      ...   \n",
       "995                com.accogroup.bodysize     [27117]  افزایش سایز        1   \n",
       "996         berooz.tarinha.app.name.rasmi      [3006]          ساز       -1   \n",
       "997                sarfe.goei.dar.zandegi     [21803]   vidcompact       -1   \n",
       "998                      ir.pdf.king.hadi     [13584]      pv خوان        1   \n",
       "999                       com.fddit.urmia     [66980]     ببسی مان       -1   \n",
       "\n",
       "                        token_type_ids  \n",
       "0          [0, 0, 0, 0, 0, 0, 0, 0, 0]  \n",
       "1          [0, 0, 0, 0, 0, 0, 0, 0, 0]  \n",
       "2          [0, 0, 0, 0, 0, 0, 0, 0, 0]  \n",
       "3          [0, 0, 0, 0, 0, 0, 0, 0, 0]  \n",
       "4          [0, 0, 0, 0, 0, 0, 0, 0, 0]  \n",
       "..                                 ...  \n",
       "995  [0, 0, 0, 0, 0, 0, 0, 0, 0, 0, 0]  \n",
       "996  [0, 0, 0, 0, 0, 0, 0, 0, 0, 0, 0]  \n",
       "997  [0, 0, 0, 0, 0, 0, 0, 0, 0, 0, 0]  \n",
       "998  [0, 0, 0, 0, 0, 0, 0, 0, 0, 0, 0]  \n",
       "999  [0, 0, 0, 0, 0, 0, 0, 0, 0, 0, 0]  \n",
       "\n",
       "[1000 rows x 8 columns]"
      ]
     },
     "execution_count": 228,
     "metadata": {},
     "output_type": "execute_result"
    }
   ],
   "source": [
    "import pandas as pd\n",
    "print(dataset_handler.get_dataset())\n",
    "dataset_handler.df\n",
    "pd.DataFrame(dataset_handler.get_dataset()[\"train\"][:1000])"
   ]
  },
  {
   "cell_type": "markdown",
   "metadata": {},
   "source": [
    "## Training"
   ]
  },
  {
   "cell_type": "code",
   "execution_count": 229,
   "metadata": {
    "scrolled": true
   },
   "outputs": [
    {
     "name": "stdout",
     "output_type": "stream",
     "text": [
      "Train on 2791789 samples, test on 492669 samples\n",
      "----------------\n",
      "\n"
     ]
    },
    {
     "data": {
      "application/vnd.jupyter.widget-view+json": {
       "model_id": "ee2634e984cc43568ff85a6998797eb2",
       "version_major": 2,
       "version_minor": 0
      },
      "text/plain": [
       "HBox(children=(FloatProgress(value=0.0, description='[Epoch 1/3]', max=87244.0, style=ProgressStyle(descriptio…"
      ]
     },
     "metadata": {},
     "output_type": "display_data"
    },
    {
     "name": "stdout",
     "output_type": "stream",
     "text": [
      "\n"
     ]
    },
    {
     "data": {
      "application/vnd.jupyter.widget-view+json": {
       "model_id": "febafeb5391247a087e5acd29aaeabb6",
       "version_major": 2,
       "version_minor": 0
      },
      "text/plain": [
       "HBox(children=(FloatProgress(value=0.0, description='Test Loss', max=15396.0, style=ProgressStyle(description_…"
      ]
     },
     "metadata": {},
     "output_type": "display_data"
    },
    {
     "name": "stdout",
     "output_type": "stream",
     "text": [
      "\n"
     ]
    },
    {
     "data": {
      "image/png": "[encoded data removed]",
      "text/plain": [
       "<Figure size 432x288 with 1 Axes>"
      ]
     },
     "metadata": {
      "needs_background": "light"
     },
     "output_type": "display_data"
    },
    {
     "name": "stdout",
     "output_type": "stream",
     "text": [
      "----------------\n",
      "\n"
     ]
    },
    {
     "data": {
      "application/vnd.jupyter.widget-view+json": {
       "model_id": "8d9c5ee6de084ae79e6c45d05d26e56b",
       "version_major": 2,
       "version_minor": 0
      },
      "text/plain": [
       "HBox(children=(FloatProgress(value=0.0, description='[Epoch 2/3]', max=87244.0, style=ProgressStyle(descriptio…"
      ]
     },
     "metadata": {},
     "output_type": "display_data"
    },
    {
     "name": "stdout",
     "output_type": "stream",
     "text": [
      "\n"
     ]
    },
    {
     "data": {
      "application/vnd.jupyter.widget-view+json": {
       "model_id": "b68b48f68a2d40b88d350a6159bcb1e7",
       "version_major": 2,
       "version_minor": 0
      },
      "text/plain": [
       "HBox(children=(FloatProgress(value=0.0, description='Test Loss', max=15396.0, style=ProgressStyle(description_…"
      ]
     },
     "metadata": {},
     "output_type": "display_data"
    },
    {
     "name": "stdout",
     "output_type": "stream",
     "text": [
      "\n"
     ]
    },
    {
     "data": {
      "image/png": "[encoded data removed]",
      "text/plain": [
       "<Figure size 432x288 with 1 Axes>"
      ]
     },
     "metadata": {
      "needs_background": "light"
     },
     "output_type": "display_data"
    },
    {
     "name": "stdout",
     "output_type": "stream",
     "text": [
      "----------------\n",
      "\n"
     ]
    },
    {
     "data": {
      "application/vnd.jupyter.widget-view+json": {
       "model_id": "f253aeb2dc2146ea95f07ad0409d7f6f",
       "version_major": 2,
       "version_minor": 0
      },
      "text/plain": [
       "HBox(children=(FloatProgress(value=0.0, description='[Epoch 3/3]', max=87244.0, style=ProgressStyle(descriptio…"
      ]
     },
     "metadata": {},
     "output_type": "display_data"
    },
    {
     "name": "stdout",
     "output_type": "stream",
     "text": [
      "\n"
     ]
    },
    {
     "data": {
      "application/vnd.jupyter.widget-view+json": {
       "model_id": "435aa8476b454000913566f530ad7c39",
       "version_major": 2,
       "version_minor": 0
      },
      "text/plain": [
       "HBox(children=(FloatProgress(value=0.0, description='Test Loss', max=15396.0, style=ProgressStyle(description_…"
      ]
     },
     "metadata": {},
     "output_type": "display_data"
    },
    {
     "name": "stdout",
     "output_type": "stream",
     "text": [
      "\n"
     ]
    },
    {
     "data": {
      "image/png": "[encoded data removed]",
      "text/plain": [
       "<Figure size 432x288 with 1 Axes>"
      ]
     },
     "metadata": {
      "needs_background": "light"
     },
     "output_type": "display_data"
    }
   ],
   "source": [
    "import src.Trainer.RepresentationBuilder\n",
    "reload(src.Trainer.RepresentationBuilder)\n",
    "import src.Trainer.QueryAdCoordinator\n",
    "reload(src.Trainer.QueryAdCoordinator)\n",
    "import src.Trainer.Trainer\n",
    "reload(src.Trainer.Trainer)\n",
    "\n",
    "trainer = src.Trainer.Trainer.Trainer(embedding_dim=50, dataset_handler=dataset_handler, \n",
    "                                      learning_rate=LEARNING_RATE, device=\"cuda\")\n",
    "trainer.train(epochs=3)"
   ]
  },
  {
   "cell_type": "code",
   "execution_count": 235,
   "metadata": {
    "pycharm": {
     "is_executing": false,
     "name": "#%%\n"
    }
   },
   "outputs": [
    {
     "data": {
      "text/plain": [
       "QueryAdCoordinator(\n",
       "  (query_representation_builder): RepresentationBuilder(\n",
       "    (embedding): Embedding(100000, 50)\n",
       "    (pooling_module): SpanPoolingAvg()\n",
       "  )\n",
       "  (ad_representation_builder): RepresentationBuilder(\n",
       "    (embedding): Embedding(93592, 50)\n",
       "    (pooling_module): SpanPoolingAvg()\n",
       "  )\n",
       "  (loss): CosineEmbeddingLoss()\n",
       ")"
      ]
     },
     "execution_count": 235,
     "metadata": {},
     "output_type": "execute_result"
    }
   ],
   "source": [
    "trainer.query_ad_coordinator"
   ]
  },
  {
   "cell_type": "code",
   "execution_count": 236,
   "metadata": {},
   "outputs": [
    {
     "data": {
      "application/vnd.jupyter.widget-view+json": {
       "model_id": "1b2091266383476782ba6e268560c760",
       "version_major": 2,
       "version_minor": 0
      },
      "text/plain": [
       "HBox(children=(FloatProgress(value=0.0, description='Building ad representations', max=93592.0, style=Progress…"
      ]
     },
     "metadata": {},
     "output_type": "display_data"
    },
    {
     "name": "stdout",
     "output_type": "stream",
     "text": [
      "\n",
      "torch.Size([93592, 50])\n",
      "Saved ad representations at representations/ad_reprs.pt\n"
     ]
    },
    {
     "data": {
      "application/vnd.jupyter.widget-view+json": {
       "model_id": "99a024eb864544b2978de6809d494c04",
       "version_major": 2,
       "version_minor": 0
      },
      "text/plain": [
       "HBox(children=(FloatProgress(value=0.0, description='Building vocab representations', max=100000.0, style=Prog…"
      ]
     },
     "metadata": {},
     "output_type": "display_data"
    },
    {
     "name": "stdout",
     "output_type": "stream",
     "text": [
      "\n",
      "100000\n",
      "Saved vocab representations at representations/vocab_reprs.pt\n"
     ]
    }
   ],
   "source": [
    "trainer.save_all_representations(ad_reprs_address=\"representations/ad_reprs.pt\",\n",
    "                                    vocab_reprs_address=\"representations/vocab_reprs.pt\",\n",
    "                                    id_to_package_address=\"representations/ad_id_to_package.pkl\")"
   ]
  },
  {
   "cell_type": "markdown",
   "metadata": {
    "pycharm": {
     "is_executing": false,
     "name": "#%%\n"
    }
   },
   "source": [
    "## Prediction"
   ]
  },
  {
   "cell_type": "code",
   "execution_count": 237,
   "metadata": {
    "pycharm": {
     "is_executing": true,
     "name": "#%%\n"
    }
   },
   "outputs": [
    {
     "name": "stdout",
     "output_type": "stream",
     "text": [
      "Loading tokenizer...\n",
      "Loading ad representations...\n",
      "Loading ad id to package...\n",
      "Loading vocab representations...\n"
     ]
    }
   ],
   "source": [
    "import src.Predictor.Predictor\n",
    "reload(src.Predictor.Predictor)\n",
    "\n",
    "predictor = src.Predictor.Predictor.Predictor(ad_reprs_address=\"representations/ad_reprs.pt\",\n",
    "                                              vocab_reprs_address=\"representations/vocab_reprs.pt\",\n",
    "                                              id_to_package_address=\"representations/ad_id_to_package.pkl\")"
   ]
  },
  {
   "cell_type": "code",
   "execution_count": 238,
   "metadata": {
    "pycharm": {
     "is_executing": true,
     "name": "#%%\n"
    }
   },
   "outputs": [
    {
     "name": "stdout",
     "output_type": "stream",
     "text": [
      "dist: 0.90775 com.multiplatform.stage\n",
      "dist: 0.90423 ir.mohammadamin.rom7\n",
      "dist: 0.89990 com.project.applocker_appnew\n",
      "dist: 0.89918 com.carbon.prolocker\n",
      "dist: 0.89714 com.mohsen.app_locker\n",
      "dist: 0.89707 com.sec.android.app.sbrowser\n",
      "dist: 0.89668 com.csi.MojremShenas\n",
      "dist: 0.89596 com.mahboobede16.tonbak\n",
      "dist: 0.89585 com.example.ehsans11.pusheTest_fozolgir\n",
      "dist: 0.89560 com.matindev.typography\n"
     ]
    },
    {
     "data": {
      "text/plain": [
       "(['com.multiplatform.stage',\n",
       "  'ir.mohammadamin.rom7',\n",
       "  'com.project.applocker_appnew',\n",
       "  'com.carbon.prolocker',\n",
       "  'com.mohsen.app_locker',\n",
       "  'com.sec.android.app.sbrowser',\n",
       "  'com.csi.MojremShenas',\n",
       "  'com.mahboobede16.tonbak',\n",
       "  'com.example.ehsans11.pusheTest_fozolgir',\n",
       "  'com.matindev.typography'],\n",
       " tensor([0.9078, 0.9042, 0.8999, 0.8992, 0.8971, 0.8971, 0.8967, 0.8960, 0.8958,\n",
       "         0.8956], grad_fn=<TopkBackward>),\n",
       " tensor([14445, 54425, 21279, 38375, 73949, 17111, 52061, 34763, 80251, 34483]),\n",
       " tensor([[-109.6945, -131.0799, -116.4271, -116.2002,  -31.6720,   45.9908,\n",
       "            78.2755,  -32.0955,   27.8706,  130.7870, -124.1387,   17.0513,\n",
       "            37.8187,  -44.4804,   86.4057,   34.1612,   17.9306, -131.0231,\n",
       "           130.5369,   62.9885,  116.4533,  -32.1897, -130.7444,   43.9934,\n",
       "          -131.6630,   70.1253,   48.3948,   43.3948,   70.1074,  130.9617,\n",
       "           129.8233,   44.4330,  -65.3202,  -52.6170,  -23.3239,   44.2499,\n",
       "           125.8062,  -28.5879,   43.6335,  -42.5294, -128.7446, -124.9193,\n",
       "          -129.8857, -129.3064,  -55.8198,  -80.1864,   66.8279,  -44.2462,\n",
       "          -125.1498,   43.6779]], grad_fn=<DivBackward0>))"
      ]
     },
     "execution_count": 238,
     "metadata": {},
     "output_type": "execute_result"
    }
   ],
   "source": [
    "predictor.predict_from_query(\"امنیت\", full_results=True)"
   ]
  },
  {
   "cell_type": "markdown",
   "metadata": {},
   "source": [
    "### TSNE"
   ]
  },
  {
   "cell_type": "code",
   "execution_count": 239,
   "metadata": {},
   "outputs": [
    {
     "name": "stdout",
     "output_type": "stream",
     "text": [
      "dist: 0.99368 com.feelingtouch.zf3d.farsi\n",
      "dist: 0.98901 zombie.sccreenroid.ir\n",
      "dist: 0.98765 com.auxbrain.zombie_highway\n",
      "dist: 0.98688 com.ea.game.pvzfree_row\n",
      "dist: 0.98587 com.feelingtouch.gunzombie\n",
      "dist: 0.98536 com.PercivalApp.ZombieKiller\n",
      "dist: 0.98481 com.najmejan13.giahanalayhezambii\n",
      "dist: 0.98477 net.mobigame.zombietsunami\n",
      "dist: 0.98467 com.gameresort.stupidzombies\n",
      "dist: 0.98420 com.JESoftware.LastHopeSniperWar\n",
      "dist: 0.97318 com.skinpacks.crazyzombiekiller\n",
      "dist: 0.97271 com.popreach.dumbways\n",
      "dist: 0.97131 com.ChainsawGames.ZKILLER\n",
      "dist: 0.97036 com.mehdirabiee.xtremedrift2\n",
      "dist: 0.96963 ir.fanafzar.tetrapuzzle.drift\n",
      "dist: 0.96933 com.IslamicGame.YeganePoshtibani3\n",
      "dist: 0.96877 com.motionportrait.ZombieBooth\n",
      "dist: 0.96858 com.glu.sniperx\n",
      "dist: 0.96851 ir.mamadina.offroadpatrol\n",
      "dist: 0.96785 ir.javadkaka.hellishBase\n"
     ]
    },
    {
     "data": {
      "image/png": "[encoded data removed]",
      "text/plain": [
       "<Figure size 1008x1008 with 1 Axes>"
      ]
     },
     "metadata": {
      "needs_background": "light"
     },
     "output_type": "display_data"
    }
   ],
   "source": [
    "from sklearn.manifold import TSNE\n",
    "import matplotlib.pyplot as plt\n",
    "import torch\n",
    "\n",
    "top_k = 20\n",
    "query = \"زامبی\"\n",
    "\n",
    "packages, knn_values, knn_ids, query_repr = predictor.predict_from_query(query, full_results=True, k=top_k)\n",
    "\n",
    "reprs = torch.cat((predictor.ad_reprs[knn_ids], query_repr), dim=0).detach().numpy()\n",
    "\n",
    "id_to_name = []\n",
    "for idx in knn_ids:\n",
    "    id_to_name.append(predictor.ad_id_to_package[int(idx)])\n",
    "id_to_name.append(query)\n",
    "\n",
    "tsne = TSNE(metric='cosine', random_state=123)\n",
    "embed_tsne = tsne.fit_transform(reprs)\n",
    "fig, ax = plt.subplots(figsize=(14, 14))\n",
    "for idx in range(top_k + 1):\n",
    "    plt.scatter(*embed_tsne[idx, :], color='blue')\n",
    "    plt.title(\"TSNE\")\n",
    "    if idx == top_k:\n",
    "        color = \"red\"\n",
    "    else:\n",
    "        color = \"black\"\n",
    "    plt.annotate(id_to_name[idx], (embed_tsne[idx, 0], embed_tsne[idx, 1]), \n",
    "                 alpha=1, color=color, fontsize=14, xytext=(0, -10), va='top', ha='center', textcoords='offset points')\n"
   ]
  },
  {
   "cell_type": "code",
   "execution_count": null,
   "metadata": {},
   "outputs": [],
   "source": []
  }
 ],
 "metadata": {
  "kernelspec": {
   "display_name": "Python 3",
   "language": "python",
   "name": "python3"
  },
  "language_info": {
   "codemirror_mode": {
    "name": "ipython",
    "version": 3
   },
   "file_extension": ".py",
   "mimetype": "text/x-python",
   "name": "python",
   "nbconvert_exporter": "python",
   "pygments_lexer": "ipython3",
   "version": "3.7.3"
  },
  "pycharm": {
   "stem_cell": {
    "cell_type": "raw",
    "metadata": {
     "collapsed": false
    },
    "source": []
   }
  }
 },
 "nbformat": 4,
 "nbformat_minor": 1
}
