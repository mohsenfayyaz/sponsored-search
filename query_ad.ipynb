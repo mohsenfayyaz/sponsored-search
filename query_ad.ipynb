{
 "cells": [
  {
   "cell_type": "code",
   "execution_count": null,
   "metadata": {
    "pycharm": {
     "is_executing": false,
     "name": "#%%\n"
    }
   },
   "outputs": [],
   "source": [
    "def count_unique_words(corpus):\n",
    "    words_freq = dict()\n",
    "    for sentence in tqdm(corpus):\n",
    "        # print(sentence)\n",
    "        for word in str(sentence).split():\n",
    "            if word not in words_freq:\n",
    "                words_freq[word] = 1\n",
    "            else:\n",
    "                words_freq[word] += 1\n",
    "    return words_freq\n",
    "    \n",
    "words_freq = count_unique_words(df[\"queryText\"])\n",
    "len(words_freq)"
   ]
  },
  {
   "cell_type": "code",
   "execution_count": null,
   "metadata": {
    "pycharm": {
     "is_executing": false,
     "name": "#%%\n"
    }
   },
   "outputs": [],
   "source": [
    "import pandas as pd\n",
    "from tqdm.auto import tqdm\n",
    "import random\n",
    "from transformers import AutoTokenizer\n",
    "\n",
    "class DatasetHandler:\n",
    "    def __init__(self, file_address):\n",
    "        tokenizer = AutoTokenizer.from_pretrained(\"HooshvareLab/bert-base-parsbert-uncased\")\n",
    "        self.df = pd.read_csv(file_address)\n",
    "        self.df[\"similar\"] = 1\n",
    "        self.package_to_id, self.id_to_package = self.label_packages(self.df[\"packageName\"], start_id=len(tokenizer.get_vocab()))\n",
    "        \n",
    "    def label_packages(self, packages: list, start_id=0):\n",
    "        package_to_id = dict()\n",
    "        id_to_package = dict()\n",
    "        id_counter = start_id\n",
    "        for package in tqdm(packages, desc=\"Labeling Packages\"):\n",
    "            if package not in package_to_id:\n",
    "                package_to_id[package] = id_counter\n",
    "                id_to_package[id_counter] = package\n",
    "                id_counter += 1\n",
    "        return package_to_id, id_to_package\n",
    "    \n",
    "    def save_negative_sampled_dataset(self, neg_to_pos_ratio:int=4, output_name=\"neg_sampled_data.pkl\", seed=0):\n",
    "        random.seed(seed)\n",
    "        negative_rows = []\n",
    "        random_choices = list(self.package_to_id.keys())\n",
    "        for query_text, package_name in tqdm(zip(self.df[\"queryText\"], self.df[\"packageName\"]), total=len(self.df[\"queryText\"])):\n",
    "            for _ in range(neg_to_pos_ratio):\n",
    "                random_package = random.choice(random_choices)\n",
    "                while random_package == package_name:\n",
    "                    random_package = random.choice(random_choices)\n",
    "                negative_rows.append({'queryText': query_text, \"packageName\": random_package, \"similar\": 0})\n",
    "        neg_df = pd.DataFrame(negative_rows)\n",
    "        new_df = pd.concat([self.df, neg_df], ignore_index=True)\n",
    "        new_df.to_pickle(\"neg_sampled_data.pkl\")\n",
    "        return new_df\n",
    "\n",
    "dataset_handler = DatasetHandler(\"data/SA_history_clicks_of_98.csv\")"
   ]
  },
  {
   "cell_type": "code",
   "execution_count": null,
   "metadata": {},
   "outputs": [],
   "source": [
    "# new_df = dataset_handler.save_negative_sampled_dataset(neg_to_pos_ratio=5)\n",
    "new_df"
   ]
  },
  {
   "cell_type": "code",
   "execution_count": null,
   "metadata": {},
   "outputs": [],
   "source": []
  }
 ],
 "metadata": {
  "kernelspec": {
   "display_name": "Python 3",
   "language": "python",
   "name": "python3"
  },
  "language_info": {
   "codemirror_mode": {
    "name": "ipython",
    "version": 3
   },
   "file_extension": ".py",
   "mimetype": "text/x-python",
   "name": "python",
   "nbconvert_exporter": "python",
   "pygments_lexer": "ipython3",
   "version": "3.7.3"
  },
  "pycharm": {
   "stem_cell": {
    "cell_type": "raw",
    "metadata": {
     "collapsed": false
    },
    "source": []
   }
  }
 },
 "nbformat": 4,
 "nbformat_minor": 1
}
