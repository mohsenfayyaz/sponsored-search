{
 "cells": [
  {
   "cell_type": "code",
   "execution_count": null,
   "metadata": {},
   "outputs": [],
   "source": [
    "import autoreload\n",
    "%load_ext autoreload\n",
    "%autoreload 2"
   ]
  },
  {
   "cell_type": "code",
   "execution_count": null,
   "metadata": {},
   "outputs": [],
   "source": [
    "import pandas as pd"
   ]
  },
  {
   "cell_type": "markdown",
   "metadata": {},
   "source": [
    "## Configs"
   ]
  },
  {
   "cell_type": "code",
   "execution_count": null,
   "metadata": {},
   "outputs": [],
   "source": [
    "BATCH_SIZE = 32"
   ]
  },
  {
   "cell_type": "markdown",
   "metadata": {},
   "source": [
    "## Preprocessing\n",
    "Negative Sampling the dataset"
   ]
  },
  {
   "cell_type": "code",
   "execution_count": null,
   "metadata": {},
   "outputs": [],
   "source": [
    "from src.Preprocess.Preprocessor import Preprocessor\n",
    "Preprocessor.create_negative_sampled_dataset(input_address=\"../data/SA_history_clicks_of_98.csv\", \n",
    "                                               output_address=\"../data/data1.pkl\", \n",
    "                                               neg_to_pos_ratio=1)"
   ]
  },
  {
   "cell_type": "markdown",
   "metadata": {},
   "source": [
    "## DatasetHandler\n",
    "Preparing dataset for training"
   ]
  },
  {
   "cell_type": "code",
   "execution_count": 1,
   "metadata": {},
   "outputs": [
    {
     "name": "stdout",
     "output_type": "stream",
     "text": [
      "Loading tokenizer...\n",
      "Reading input file...\n"
     ]
    },
    {
     "data": {
      "application/vnd.jupyter.widget-view+json": {
       "model_id": "bc461262c0fe40e8bb1d7bd84445394d",
       "version_major": 2,
       "version_minor": 0
      },
      "text/plain": [
       "HBox(children=(FloatProgress(value=0.0, description='Labeling Packages', max=72324.0, style=ProgressStyle(desc…"
      ]
     },
     "metadata": {},
     "output_type": "display_data"
    },
    {
     "name": "stdout",
     "output_type": "stream",
     "text": [
      "\n",
      "Creating dataset...\n"
     ]
    },
    {
     "data": {
      "application/vnd.jupyter.widget-view+json": {
       "model_id": "7b5cabc80ea740b6a2786da9e136c285",
       "version_major": 2,
       "version_minor": 0
      },
      "text/plain": [
       "HBox(children=(FloatProgress(value=0.0, max=548.0), HTML(value='')))"
      ]
     },
     "metadata": {},
     "output_type": "display_data"
    },
    {
     "name": "stdout",
     "output_type": "stream",
     "text": [
      "\n"
     ]
    },
    {
     "data": {
      "application/vnd.jupyter.widget-view+json": {
       "model_id": "c0dc387996274ac8bb47d623bac1af45",
       "version_major": 2,
       "version_minor": 0
      },
      "text/plain": [
       "HBox(children=(FloatProgress(value=0.0, max=137.0), HTML(value='')))"
      ]
     },
     "metadata": {},
     "output_type": "display_data"
    },
    {
     "name": "stdout",
     "output_type": "stream",
     "text": [
      "\n"
     ]
    },
    {
     "data": {
      "application/vnd.jupyter.widget-view+json": {
       "model_id": "67b883f2f8c74ae8b62a0bc3f86d98c6",
       "version_major": 2,
       "version_minor": 0
      },
      "text/plain": [
       "HBox(children=(FloatProgress(value=0.0, max=17516.0), HTML(value='')))"
      ]
     },
     "metadata": {},
     "output_type": "display_data"
    },
    {
     "name": "stdout",
     "output_type": "stream",
     "text": [
      "\n"
     ]
    },
    {
     "data": {
      "application/vnd.jupyter.widget-view+json": {
       "model_id": "b25567a6adad4ad2a342c8907cc425dd",
       "version_major": 2,
       "version_minor": 0
      },
      "text/plain": [
       "HBox(children=(FloatProgress(value=0.0, max=4380.0), HTML(value='')))"
      ]
     },
     "metadata": {},
     "output_type": "display_data"
    },
    {
     "name": "stdout",
     "output_type": "stream",
     "text": [
      "\n",
      "Done\n"
     ]
    }
   ],
   "source": [
    "from src.DatasetHandler import DatasetHandler\n",
    "# dataset_handler = DatasetHandler(\"data/SA_history_clicks_of_98.csv\")\n",
    "dataset_handler = DatasetHandler(\"../data/small1.pkl\")"
   ]
  },
  {
   "cell_type": "code",
   "execution_count": 2,
   "metadata": {},
   "outputs": [
    {
     "name": "stdout",
     "output_type": "stream",
     "text": [
      "DatasetDict({\n",
      "    train: Dataset({\n",
      "        features: ['__index_level_0__', 'attention_mask', 'input_ids', 'packageName', 'package_ids', 'queryText', 'similar', 'token_type_ids'],\n",
      "        num_rows: 17516\n",
      "    })\n",
      "    test: Dataset({\n",
      "        features: ['__index_level_0__', 'attention_mask', 'input_ids', 'packageName', 'package_ids', 'queryText', 'similar', 'token_type_ids'],\n",
      "        num_rows: 4380\n",
      "    })\n",
      "})\n"
     ]
    },
    {
     "data": {
      "text/html": [
       "<div>\n",
       "<style scoped>\n",
       "    .dataframe tbody tr th:only-of-type {\n",
       "        vertical-align: middle;\n",
       "    }\n",
       "\n",
       "    .dataframe tbody tr th {\n",
       "        vertical-align: top;\n",
       "    }\n",
       "\n",
       "    .dataframe thead th {\n",
       "        text-align: right;\n",
       "    }\n",
       "</style>\n",
       "<table border=\"1\" class=\"dataframe\">\n",
       "  <thead>\n",
       "    <tr style=\"text-align: right;\">\n",
       "      <th></th>\n",
       "      <th>__index_level_0__</th>\n",
       "      <th>attention_mask</th>\n",
       "      <th>input_ids</th>\n",
       "      <th>packageName</th>\n",
       "      <th>package_ids</th>\n",
       "      <th>queryText</th>\n",
       "      <th>similar</th>\n",
       "      <th>token_type_ids</th>\n",
       "    </tr>\n",
       "  </thead>\n",
       "  <tbody>\n",
       "    <tr>\n",
       "      <td>0</td>\n",
       "      <td>11574</td>\n",
       "      <td>[1, 1, 1, 0, 0, 0, 0, 0]</td>\n",
       "      <td>[2, 6483, 4, 0, 0, 0, 0, 0]</td>\n",
       "      <td>app.womostore.ir</td>\n",
       "      <td>162667</td>\n",
       "      <td>کیش</td>\n",
       "      <td>-1</td>\n",
       "      <td>[0, 0, 0, 0, 0, 0, 0, 0]</td>\n",
       "    </tr>\n",
       "    <tr>\n",
       "      <td>1</td>\n",
       "      <td>19630</td>\n",
       "      <td>[1, 1, 1, 1, 1, 1, 0, 0]</td>\n",
       "      <td>[2, 3879, 5054, 23951, 6449, 4, 0, 0]</td>\n",
       "      <td>com.dibmehr.uninstallapp</td>\n",
       "      <td>141673</td>\n",
       "      <td>نرم افزار نرمش بانوان</td>\n",
       "      <td>-1</td>\n",
       "      <td>[0, 0, 0, 0, 0, 0, 0, 0]</td>\n",
       "    </tr>\n",
       "    <tr>\n",
       "      <td>2</td>\n",
       "      <td>7305</td>\n",
       "      <td>[1, 1, 1, 0, 0, 0, 0, 0]</td>\n",
       "      <td>[2, 45726, 4, 0, 0, 0, 0, 0]</td>\n",
       "      <td>com.ovilex.extremetruckssimulator</td>\n",
       "      <td>144576</td>\n",
       "      <td>کمپرسی</td>\n",
       "      <td>1</td>\n",
       "      <td>[0, 0, 0, 0, 0, 0, 0, 0]</td>\n",
       "    </tr>\n",
       "    <tr>\n",
       "      <td>3</td>\n",
       "      <td>19584</td>\n",
       "      <td>[1, 1, 1, 1, 0, 0, 0, 0]</td>\n",
       "      <td>[2, 18882, 9027, 4, 0, 0, 0, 0]</td>\n",
       "      <td>iran.shantya.texttofilm</td>\n",
       "      <td>124450</td>\n",
       "      <td>واتر مارک</td>\n",
       "      <td>1</td>\n",
       "      <td>[0, 0, 0, 0, 0, 0, 0, 0]</td>\n",
       "    </tr>\n",
       "    <tr>\n",
       "      <td>4</td>\n",
       "      <td>7924</td>\n",
       "      <td>[1, 1, 1, 1, 1, 1, 1, 1]</td>\n",
       "      <td>[2, 14790, 3922, 7749, 4175, 2754, 14236, 4]</td>\n",
       "      <td>com.shake_se.live_wallpaper.fateme_livewallpaper</td>\n",
       "      <td>151570</td>\n",
       "      <td>ولادت حضرت فاطمه تصویر زمینه متحرک</td>\n",
       "      <td>1</td>\n",
       "      <td>[0, 0, 0, 0, 0, 0, 0, 0]</td>\n",
       "    </tr>\n",
       "    <tr>\n",
       "      <td>...</td>\n",
       "      <td>...</td>\n",
       "      <td>...</td>\n",
       "      <td>...</td>\n",
       "      <td>...</td>\n",
       "      <td>...</td>\n",
       "      <td>...</td>\n",
       "      <td>...</td>\n",
       "      <td>...</td>\n",
       "    </tr>\n",
       "    <tr>\n",
       "      <td>995</td>\n",
       "      <td>8057</td>\n",
       "      <td>[1, 1, 1, 0, 0, 0, 0, 0]</td>\n",
       "      <td>[2, 4211, 4, 0, 0, 0, 0, 0]</td>\n",
       "      <td>ir.raikaapp.msa</td>\n",
       "      <td>146653</td>\n",
       "      <td>صدا</td>\n",
       "      <td>-1</td>\n",
       "      <td>[0, 0, 0, 0, 0, 0, 0, 0]</td>\n",
       "    </tr>\n",
       "    <tr>\n",
       "      <td>996</td>\n",
       "      <td>4805</td>\n",
       "      <td>[1, 1, 1, 1, 1, 0, 0, 0]</td>\n",
       "      <td>[2, 6316, 9333, 3190, 4, 0, 0, 0]</td>\n",
       "      <td>com.rozblack.telegramexplorer</td>\n",
       "      <td>110609</td>\n",
       "      <td>رها منسجر</td>\n",
       "      <td>1</td>\n",
       "      <td>[0, 0, 0, 0, 0, 0, 0, 0]</td>\n",
       "    </tr>\n",
       "    <tr>\n",
       "      <td>997</td>\n",
       "      <td>11954</td>\n",
       "      <td>[1, 1, 1, 1, 0, 0, 0, 0]</td>\n",
       "      <td>[2, 15089, 17201, 4, 0, 0, 0, 0]</td>\n",
       "      <td>com.jb.gokeyboard.theme.tmekeyboardthemeforand...</td>\n",
       "      <td>144740</td>\n",
       "      <td>کیبوردرنگی</td>\n",
       "      <td>1</td>\n",
       "      <td>[0, 0, 0, 0, 0, 0, 0, 0]</td>\n",
       "    </tr>\n",
       "    <tr>\n",
       "      <td>998</td>\n",
       "      <td>12831</td>\n",
       "      <td>[1, 1, 1, 1, 1, 0, 0, 0]</td>\n",
       "      <td>[2, 4679, 1154, 8642, 4, 0, 0, 0]</td>\n",
       "      <td>com.mobopic.android</td>\n",
       "      <td>100189</td>\n",
       "      <td>موبو پیک</td>\n",
       "      <td>1</td>\n",
       "      <td>[0, 0, 0, 0, 0, 0, 0, 0]</td>\n",
       "    </tr>\n",
       "    <tr>\n",
       "      <td>999</td>\n",
       "      <td>5455</td>\n",
       "      <td>[1, 1, 1, 0, 0, 0, 0, 0]</td>\n",
       "      <td>[2, 4997, 4, 0, 0, 0, 0, 0]</td>\n",
       "      <td>com.taranebarangroup.ainnameh</td>\n",
       "      <td>137433</td>\n",
       "      <td>فضا</td>\n",
       "      <td>-1</td>\n",
       "      <td>[0, 0, 0, 0, 0, 0, 0, 0]</td>\n",
       "    </tr>\n",
       "  </tbody>\n",
       "</table>\n",
       "<p>1000 rows × 8 columns</p>\n",
       "</div>"
      ],
      "text/plain": [
       "     __index_level_0__            attention_mask  \\\n",
       "0                11574  [1, 1, 1, 0, 0, 0, 0, 0]   \n",
       "1                19630  [1, 1, 1, 1, 1, 1, 0, 0]   \n",
       "2                 7305  [1, 1, 1, 0, 0, 0, 0, 0]   \n",
       "3                19584  [1, 1, 1, 1, 0, 0, 0, 0]   \n",
       "4                 7924  [1, 1, 1, 1, 1, 1, 1, 1]   \n",
       "..                 ...                       ...   \n",
       "995               8057  [1, 1, 1, 0, 0, 0, 0, 0]   \n",
       "996               4805  [1, 1, 1, 1, 1, 0, 0, 0]   \n",
       "997              11954  [1, 1, 1, 1, 0, 0, 0, 0]   \n",
       "998              12831  [1, 1, 1, 1, 1, 0, 0, 0]   \n",
       "999               5455  [1, 1, 1, 0, 0, 0, 0, 0]   \n",
       "\n",
       "                                        input_ids  \\\n",
       "0                     [2, 6483, 4, 0, 0, 0, 0, 0]   \n",
       "1           [2, 3879, 5054, 23951, 6449, 4, 0, 0]   \n",
       "2                    [2, 45726, 4, 0, 0, 0, 0, 0]   \n",
       "3                 [2, 18882, 9027, 4, 0, 0, 0, 0]   \n",
       "4    [2, 14790, 3922, 7749, 4175, 2754, 14236, 4]   \n",
       "..                                            ...   \n",
       "995                   [2, 4211, 4, 0, 0, 0, 0, 0]   \n",
       "996             [2, 6316, 9333, 3190, 4, 0, 0, 0]   \n",
       "997              [2, 15089, 17201, 4, 0, 0, 0, 0]   \n",
       "998             [2, 4679, 1154, 8642, 4, 0, 0, 0]   \n",
       "999                   [2, 4997, 4, 0, 0, 0, 0, 0]   \n",
       "\n",
       "                                           packageName  package_ids  \\\n",
       "0                                     app.womostore.ir       162667   \n",
       "1                             com.dibmehr.uninstallapp       141673   \n",
       "2                    com.ovilex.extremetruckssimulator       144576   \n",
       "3                              iran.shantya.texttofilm       124450   \n",
       "4     com.shake_se.live_wallpaper.fateme_livewallpaper       151570   \n",
       "..                                                 ...          ...   \n",
       "995                                    ir.raikaapp.msa       146653   \n",
       "996                      com.rozblack.telegramexplorer       110609   \n",
       "997  com.jb.gokeyboard.theme.tmekeyboardthemeforand...       144740   \n",
       "998                                com.mobopic.android       100189   \n",
       "999                      com.taranebarangroup.ainnameh       137433   \n",
       "\n",
       "                              queryText  similar            token_type_ids  \n",
       "0                                   کیش       -1  [0, 0, 0, 0, 0, 0, 0, 0]  \n",
       "1                 نرم افزار نرمش بانوان       -1  [0, 0, 0, 0, 0, 0, 0, 0]  \n",
       "2                                کمپرسی        1  [0, 0, 0, 0, 0, 0, 0, 0]  \n",
       "3                             واتر مارک        1  [0, 0, 0, 0, 0, 0, 0, 0]  \n",
       "4    ولادت حضرت فاطمه تصویر زمینه متحرک        1  [0, 0, 0, 0, 0, 0, 0, 0]  \n",
       "..                                  ...      ...                       ...  \n",
       "995                                 صدا       -1  [0, 0, 0, 0, 0, 0, 0, 0]  \n",
       "996                           رها منسجر        1  [0, 0, 0, 0, 0, 0, 0, 0]  \n",
       "997                          کیبوردرنگی        1  [0, 0, 0, 0, 0, 0, 0, 0]  \n",
       "998                            موبو پیک        1  [0, 0, 0, 0, 0, 0, 0, 0]  \n",
       "999                                 فضا       -1  [0, 0, 0, 0, 0, 0, 0, 0]  \n",
       "\n",
       "[1000 rows x 8 columns]"
      ]
     },
     "execution_count": 2,
     "metadata": {},
     "output_type": "execute_result"
    }
   ],
   "source": [
    "import pandas as pd\n",
    "# dataset_handler.df.loc[dataset_handler.df[\"similar\"] == 0]\n",
    "print(dataset_handler.get_dataset())\n",
    "dataset_handler.df\n",
    "pd.DataFrame(dataset_handler.get_dataset()[\"train\"][:1000])"
   ]
  },
  {
   "cell_type": "markdown",
   "metadata": {},
   "source": [
    "## Training"
   ]
  },
  {
   "cell_type": "code",
   "execution_count": null,
   "metadata": {},
   "outputs": [],
   "source": []
  },
  {
   "cell_type": "code",
   "execution_count": null,
   "metadata": {
    "pycharm": {
     "is_executing": false
    }
   },
   "outputs": [],
   "source": [
    "import torch\n",
    "from src.SpanPooling import *\n",
    "\n",
    "class RepresentationBuilder(torch.nn.Module):\n",
    "    def __init__(self, vocab_size, embedding_dim=300):\n",
    "        super(RepresentationBuilder, self).__init__()\n",
    "        self.embedding = torch.nn.Embedding(num_embeddings=vocab_size, embedding_dim=embedding_dim)\n",
    "        self.pooling_module = get_pooling_module(\"avg\")\n",
    "        \n",
    "    def forward(self, input_ids, attention_mask):\n",
    "        out = self.embedding(input_ids)\n",
    "        print(out)\n",
    "        out = self.pooling_module(out, attention_mask)\n",
    "        return out\n"
   ]
  },
  {
   "cell_type": "code",
   "execution_count": null,
   "metadata": {
    "pycharm": {
     "is_executing": false,
     "name": "#%%\n"
    }
   },
   "outputs": [],
   "source": [
    "import torch\n",
    "\n",
    "class Siamese(torch.nn.Module):\n",
    "    def __init__(self, vocab_size, embedding_dim):\n",
    "        super(Siamese, self).__init__()\n",
    "        self.representation_builder = torch.nn.Sequential(\n",
    "            RepresentationBuilder(vocab_size, embedding_dim),\n",
    "            torch.nn.ReLU()\n",
    "        )\n",
    "        self.loss = torch.nn.CosineEmbeddingLoss(margin=0)\n",
    "        \n",
    "    def forward(self, x1, x2):\n",
    "        x1_repr = self.representation_builder(x1)\n",
    "        x2_repr = self.representation_builder(x2)\n",
    "        print(x1_repr)\n",
    "        print(x2_repr)\n",
    "        print(self.loss(x1_repr, x2_repr, target=torch.tensor([-1, 1])))\n",
    "        "
   ]
  },
  {
   "cell_type": "code",
   "execution_count": null,
   "metadata": {
    "pycharm": {
     "is_executing": false,
     "name": "#%%\n"
    }
   },
   "outputs": [],
   "source": [
    "import torch\n",
    "from src.DatasetHandler import DatasetHandler\n",
    "\n",
    "class Trainer:\n",
    "    def __init__(self, vocab_size, embedding_dim, dataset_handler: DatasetHandler):\n",
    "        self.siamese = Siamese(vocab_size, embedding_dim)\n",
    "    \n",
    "    def train(self):\n",
    "        self.siamese(torch.tensor([[1], [0, 0, 0, 0]]), torch.tensor([[1, 2, 3, 3], [9, 9, 9, 9]]))\n",
    "        \n",
    "    def predict_from_query(self, queryText):\n",
    "        "
   ]
  },
  {
   "cell_type": "code",
   "execution_count": null,
   "metadata": {
    "pycharm": {
     "is_executing": false,
     "name": "#%%\n"
    }
   },
   "outputs": [],
   "source": []
  },
  {
   "cell_type": "code",
   "execution_count": null,
   "metadata": {
    "pycharm": {
     "is_executing": true,
     "name": "#%%\n"
    }
   },
   "outputs": [],
   "source": []
  },
  {
   "cell_type": "code",
   "execution_count": null,
   "metadata": {
    "pycharm": {
     "is_executing": true,
     "name": "#%%\n"
    }
   },
   "outputs": [],
   "source": [
    "# dataset_handler.df[:100]\n",
    "# dataset_handler.dataset\n",
    "# d = dataset_handler.df.to_dict()"
   ]
  },
  {
   "cell_type": "code",
   "execution_count": null,
   "metadata": {
    "pycharm": {
     "name": "#%%\n"
    }
   },
   "outputs": [],
   "source": [
    "dd = dataset_handler.df.sample(frac=0.01)\n",
    "dd.to_pickle(\"small.pkl\")"
   ]
  },
  {
   "cell_type": "code",
   "execution_count": null,
   "metadata": {
    "pycharm": {
     "name": "#%%\n"
    }
   },
   "outputs": [],
   "source": [
    "trainer = Trainer(vocab_size=10, embedding_dim=5, dataset_handler=dataset_handler)\n",
    "trainer.train()"
   ]
  }
 ],
 "metadata": {
  "kernelspec": {
   "display_name": "Python 3",
   "language": "python",
   "name": "python3"
  },
  "language_info": {
   "codemirror_mode": {
    "name": "ipython",
    "version": 3
   },
   "file_extension": ".py",
   "mimetype": "text/x-python",
   "name": "python",
   "nbconvert_exporter": "python",
   "pygments_lexer": "ipython3",
   "version": "3.7.3"
  },
  "pycharm": {
   "stem_cell": {
    "cell_type": "raw",
    "metadata": {
     "collapsed": false
    },
    "source": []
   }
  }
 },
 "nbformat": 4,
 "nbformat_minor": 1
}
